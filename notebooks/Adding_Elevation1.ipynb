{
  "nbformat": 4,
  "nbformat_minor": 0,
  "metadata": {
    "colab": {
      "name": "Elevation-Imager-Data.ipynb",
      "provenance": [],
      "collapsed_sections": [],
      "toc_visible": true
    },
    "kernelspec": {
      "name": "python3",
      "display_name": "Python 3"
    }
  },
  "cells": [
    {
      "cell_type": "code",
      "metadata": {
        "id": "QuNOB2Ax8cBH"
      },
      "source": [
        "import os\n",
        "import pandas as pd\n",
        "from google.colab import auth\n",
        "from datetime import datetime\n",
        "import requests\n",
        "import json\n",
        "auth.authenticate_user()\n",
        "!gsutil -m cp -r gs://predict_cfs/revised_metadata .\n",
        "!mkdir end_data\n",
        "def get_elevation_Data(l1, l2, key):\n",
        "  url = \"https://maps.googleapis.com/maps/api/elevation/json?locations={},{}&key={}\".format(l1, l2, key)\n",
        "  resp = requests.get(url)\n",
        "  return json.loads(resp.text)\n",
        "def get_soil_grids(l1, l2):\n",
        "  url = \"https://rest.soilgrids.org/soilgrids/v2.0/properties/query?lon={}&lat={}&property=bdod&property=cec&property=cfvo&property=clay&property=nitrogen&property=ocd&property=ocs&property=phh2o&property=sand&property=silt&property=soc&depth=0-5cm&depth=0-30cm&depth=5-15cm&depth=15-30cm&depth=30-60cm&depth=60-100cm&depth=100-200cm&value=Q0.05&value=Q0.5&value=Q0.95&value=mean&value=uncertainty\"\n",
        "  final_url = url.format(l2, l1)\n",
        "  resp = requests.get(final_url)\n",
        "  return json.loads(resp.text)\n",
        "\n"
      ],
      "execution_count": null,
      "outputs": []
    },
    {
      "cell_type": "code",
      "metadata": {
        "id": "_ug4OsuhXfkK"
      },
      "source": [
        "!mkdir end_dat"
      ],
      "execution_count": null,
      "outputs": []
    },
    {
      "cell_type": "code",
      "metadata": {
        "id": "1SqM8zCgk4P7"
      },
      "source": [
        "def loop_through(key, dir=\"revised_data\", start_idx=246, end_idx=1000):\n",
        "  files = os.listdir(dir) \n",
        "  for f in range(start_idx, end_idx):\n",
        "    with open(os.path.join(dir, files[f])) as file1:\n",
        "      data = json.load(file1)\n",
        "    if \"latitude\" in data:\n",
        "      lat = data[\"latitude\"]\n",
        "      lng = data[\"longitude\"]\n",
        "      data[\"goog_el\"] = get_elevation_Data(lat, lng, key)\n",
        "      data[\"soil\"] = get_soil_grids(lat, lng)\n",
        "      with open(os.path.join(\"end_dat\", files[f]), \"w+\") as y:\n",
        "        json.dump(data, y)\n",
        "    else: \n",
        "      print(\"Error for\" + files[f])\n",
        "    \n",
        "!mkdir end_dat\n",
        "key = \"put_key_here\"\n",
        "loop_through(key, \"revised_metadata\")"
      ],
      "execution_count": null,
      "outputs": []
    },
    {
      "cell_type": "code",
      "metadata": {
        "id": "cVnyxywl8a_c"
      },
      "source": [
        "!gsutil cp -r end_dat gs://predict_cfs/meta_soil"
      ],
      "execution_count": null,
      "outputs": []
    },
    {
      "cell_type": "code",
      "metadata": {
        "colab": {
          "base_uri": "https://localhost:8080/",
          "height": 36
        },
        "id": "H8LiwV3XI53r",
        "outputId": "c80fcfa1-4c5c-44b5-9076-1038830f21c2"
      },
      "source": [
        "!gsutil cp -r end_dat gs://predict_cfs/meta_soil"
      ],
      "execution_count": null,
      "outputs": [
        {
          "output_type": "execute_result",
          "data": {
            "application/vnd.google.colaboratory.intrinsic+json": {
              "type": "string"
            },
            "text/plain": [
              "'{\"detail\":[{\"loc\":[\"query\",\"lat\"],\"msg\":\"ensure this value is greater than or equal to -90.0\",\"type\":\"value_error.number.not_ge\",\"ctx\":{\"limit_value\":-90.0}}]}'"
            ]
          },
          "metadata": {
            "tags": []
          },
          "execution_count": 17
        }
      ]
    },
    {
      "cell_type": "code",
      "metadata": {
        "id": "3QjHuWp5MfGx",
        "colab": {
          "base_uri": "https://localhost:8080/"
        },
        "outputId": "0a68105e-bfeb-4371-fdfc-4ad8ca624073"
      },
      "source": [
        "with open('revised_metadata/1111212stations.json') as y:\n",
        "  data =json.load(y)\n",
        "print(data)\n"
      ],
      "execution_count": null,
      "outputs": [
        {
          "output_type": "stream",
          "text": [
            "{'gage_id': 1111212, 'stations': [{'station_id': 'SFZ', 'dist': 18.140337131301568, 'cat': 'ASOS', 'missing_temp': 212135, 'missing_precip': 192893}, {'station_id': 'KSFZ', 'dist': 18.17133860668529, 'cat': 'ASOS', 'missing_temp': 212135, 'missing_precip': 192893}, {'station_id': 'ORH', 'dist': 31.860095867215463, 'cat': 'ASOS', 'missing_temp': 225224, 'missing_precip': 209662}, {'station_id': 'KORH', 'dist': 31.98685035204759, 'cat': 'ASOS', 'missing_temp': 225224, 'missing_precip': 209662}, {'station_id': 'KOWD', 'dist': 39.53058702564567, 'cat': 'ASOS', 'missing_temp': 232873, 'missing_precip': 219306}, {'station_id': 'OWD', 'dist': 39.574177951536804, 'cat': 'ASOS', 'missing_temp': 232873, 'missing_precip': 219306}, {'station_id': 'KPVD', 'dist': 40.02847126174439, 'cat': 'ASOS', 'missing_temp': 233270, 'missing_precip': 218330}, {'station_id': 'PVD', 'dist': 40.02847126174439, 'cat': 'ASOS', 'missing_temp': 233270, 'missing_precip': 218330}, {'station_id': 'MQE', 'dist': 44.95808970940626, 'cat': 'ASOS', 'missing_temp': 646, 'missing_precip': 0}, {'station_id': 'KTAN', 'dist': 53.105144657135725, 'cat': 'ASOS', 'missing_temp': 217329, 'missing_precip': 203981}, {'station_id': 'TAN', 'dist': 53.105144657135725, 'cat': 'ASOS', 'missing_temp': 217329, 'missing_precip': 203981}, {'station_id': 'KBED', 'dist': 53.43661766074176, 'cat': 'ASOS', 'missing_temp': 233597, 'missing_precip': 219554}], 'latitude': 42.05481959, 'longitude': -71.6164542}\n"
          ],
          "name": "stdout"
        }
      ]
    },
    {
      "cell_type": "markdown",
      "metadata": {
        "id": "H5M2sUJhMlXp"
      },
      "source": [
        "## Getting data"
      ]
    },
    {
      "cell_type": "code",
      "metadata": {
        "colab": {
          "base_uri": "https://localhost:8080/"
        },
        "id": "AydehaEp_7Ir",
        "outputId": "aae29196-40eb-4f5c-b23a-d97ff4d82816"
      },
      "source": [
        "!gsutil du gs://predict_cfs/revised_metadata_final | wc -l"
      ],
      "execution_count": null,
      "outputs": [
        {
          "output_type": "stream",
          "text": [
            "3882\n"
          ],
          "name": "stdout"
        }
      ]
    },
    {
      "cell_type": "code",
      "metadata": {
        "colab": {
          "base_uri": "https://localhost:8080/"
        },
        "id": "xdJrd4QMA4KT",
        "outputId": "4ae3dadf-61f5-4c09-b384-cbbe94afe5dd"
      },
      "source": [
        "!gsutil du gs://predict_cfs/meta_data/distance3| wc -l"
      ],
      "execution_count": null,
      "outputs": [
        {
          "output_type": "stream",
          "text": [
            "3882\n"
          ],
          "name": "stdout"
        }
      ]
    },
    {
      "cell_type": "code",
      "metadata": {
        "id": "760UEcFlF74e"
      },
      "source": [
        ""
      ],
      "execution_count": null,
      "outputs": []
    }
  ]
}
