{
  "nbformat": 4,
  "nbformat_minor": 0,
  "metadata": {
    "accelerator": "GPU",
    "colab": {
      "name": "Virgin River Predict",
      "provenance": [],
      "collapsed_sections": [],
      "toc_visible": true
    },
    "kernelspec": {
      "display_name": "Python 3",
      "name": "python3"
    },
    "widgets": {
      "application/vnd.jupyter.widget-state+json": {
        "ad4141a61d3e4bbf92a456defa6584c4": {
          "model_module": "@jupyter-widgets/controls",
          "model_name": "VBoxModel",
          "state": {
            "_view_name": "VBoxView",
            "_dom_classes": [],
            "_model_name": "VBoxModel",
            "_view_module": "@jupyter-widgets/controls",
            "_model_module_version": "1.5.0",
            "_view_count": null,
            "_view_module_version": "1.5.0",
            "box_style": "",
            "layout": "IPY_MODEL_0f6d42281a794f1eb05018aa1e37b17b",
            "_model_module": "@jupyter-widgets/controls",
            "children": [
              "IPY_MODEL_c179ea0454744d5ebadc46065c2559d7",
              "IPY_MODEL_ae466af313d04875838b89871660f131"
            ]
          }
        },
        "0f6d42281a794f1eb05018aa1e37b17b": {
          "model_module": "@jupyter-widgets/base",
          "model_name": "LayoutModel",
          "state": {
            "_view_name": "LayoutView",
            "grid_template_rows": null,
            "right": null,
            "justify_content": null,
            "_view_module": "@jupyter-widgets/base",
            "overflow": null,
            "_model_module_version": "1.2.0",
            "_view_count": null,
            "flex_flow": null,
            "width": null,
            "min_width": null,
            "border": null,
            "align_items": null,
            "bottom": null,
            "_model_module": "@jupyter-widgets/base",
            "top": null,
            "grid_column": null,
            "overflow_y": null,
            "overflow_x": null,
            "grid_auto_flow": null,
            "grid_area": null,
            "grid_template_columns": null,
            "flex": null,
            "_model_name": "LayoutModel",
            "justify_items": null,
            "grid_row": null,
            "max_height": null,
            "align_content": null,
            "visibility": null,
            "align_self": null,
            "height": null,
            "min_height": null,
            "padding": null,
            "grid_auto_rows": null,
            "grid_gap": null,
            "max_width": null,
            "order": null,
            "_view_module_version": "1.2.0",
            "grid_template_areas": null,
            "object_position": null,
            "object_fit": null,
            "grid_auto_columns": null,
            "margin": null,
            "display": null,
            "left": null
          }
        },
        "c179ea0454744d5ebadc46065c2559d7": {
          "model_module": "@jupyter-widgets/controls",
          "model_name": "LabelModel",
          "state": {
            "_view_name": "LabelView",
            "style": "IPY_MODEL_8f39e250a37f4d8fa5f6dbb68a8e02c3",
            "_dom_classes": [],
            "description": "",
            "_model_name": "LabelModel",
            "placeholder": "​",
            "_view_module": "@jupyter-widgets/controls",
            "_model_module_version": "1.5.0",
            "value": " 0.15MB of 0.15MB uploaded (0.00MB deduped)\r",
            "_view_count": null,
            "_view_module_version": "1.5.0",
            "description_tooltip": null,
            "_model_module": "@jupyter-widgets/controls",
            "layout": "IPY_MODEL_805dd662e8e844e69de78f2f02bec8c1"
          }
        },
        "ae466af313d04875838b89871660f131": {
          "model_module": "@jupyter-widgets/controls",
          "model_name": "FloatProgressModel",
          "state": {
            "_view_name": "ProgressView",
            "style": "IPY_MODEL_211a4e8469514c5b97991244e6a7663a",
            "_dom_classes": [],
            "description": "",
            "_model_name": "FloatProgressModel",
            "bar_style": "",
            "max": 1,
            "_view_module": "@jupyter-widgets/controls",
            "_model_module_version": "1.5.0",
            "value": 1,
            "_view_count": null,
            "_view_module_version": "1.5.0",
            "orientation": "horizontal",
            "min": 0,
            "description_tooltip": null,
            "_model_module": "@jupyter-widgets/controls",
            "layout": "IPY_MODEL_6f93f754294e4ff48bc55c4915c5473e"
          }
        },
        "8f39e250a37f4d8fa5f6dbb68a8e02c3": {
          "model_module": "@jupyter-widgets/controls",
          "model_name": "DescriptionStyleModel",
          "state": {
            "_view_name": "StyleView",
            "_model_name": "DescriptionStyleModel",
            "description_width": "",
            "_view_module": "@jupyter-widgets/base",
            "_model_module_version": "1.5.0",
            "_view_count": null,
            "_view_module_version": "1.2.0",
            "_model_module": "@jupyter-widgets/controls"
          }
        },
        "805dd662e8e844e69de78f2f02bec8c1": {
          "model_module": "@jupyter-widgets/base",
          "model_name": "LayoutModel",
          "state": {
            "_view_name": "LayoutView",
            "grid_template_rows": null,
            "right": null,
            "justify_content": null,
            "_view_module": "@jupyter-widgets/base",
            "overflow": null,
            "_model_module_version": "1.2.0",
            "_view_count": null,
            "flex_flow": null,
            "width": null,
            "min_width": null,
            "border": null,
            "align_items": null,
            "bottom": null,
            "_model_module": "@jupyter-widgets/base",
            "top": null,
            "grid_column": null,
            "overflow_y": null,
            "overflow_x": null,
            "grid_auto_flow": null,
            "grid_area": null,
            "grid_template_columns": null,
            "flex": null,
            "_model_name": "LayoutModel",
            "justify_items": null,
            "grid_row": null,
            "max_height": null,
            "align_content": null,
            "visibility": null,
            "align_self": null,
            "height": null,
            "min_height": null,
            "padding": null,
            "grid_auto_rows": null,
            "grid_gap": null,
            "max_width": null,
            "order": null,
            "_view_module_version": "1.2.0",
            "grid_template_areas": null,
            "object_position": null,
            "object_fit": null,
            "grid_auto_columns": null,
            "margin": null,
            "display": null,
            "left": null
          }
        },
        "211a4e8469514c5b97991244e6a7663a": {
          "model_module": "@jupyter-widgets/controls",
          "model_name": "ProgressStyleModel",
          "state": {
            "_view_name": "StyleView",
            "_model_name": "ProgressStyleModel",
            "description_width": "",
            "_view_module": "@jupyter-widgets/base",
            "_model_module_version": "1.5.0",
            "_view_count": null,
            "_view_module_version": "1.2.0",
            "bar_color": null,
            "_model_module": "@jupyter-widgets/controls"
          }
        },
        "6f93f754294e4ff48bc55c4915c5473e": {
          "model_module": "@jupyter-widgets/base",
          "model_name": "LayoutModel",
          "state": {
            "_view_name": "LayoutView",
            "grid_template_rows": null,
            "right": null,
            "justify_content": null,
            "_view_module": "@jupyter-widgets/base",
            "overflow": null,
            "_model_module_version": "1.2.0",
            "_view_count": null,
            "flex_flow": null,
            "width": null,
            "min_width": null,
            "border": null,
            "align_items": null,
            "bottom": null,
            "_model_module": "@jupyter-widgets/base",
            "top": null,
            "grid_column": null,
            "overflow_y": null,
            "overflow_x": null,
            "grid_auto_flow": null,
            "grid_area": null,
            "grid_template_columns": null,
            "flex": null,
            "_model_name": "LayoutModel",
            "justify_items": null,
            "grid_row": null,
            "max_height": null,
            "align_content": null,
            "visibility": null,
            "align_self": null,
            "height": null,
            "min_height": null,
            "padding": null,
            "grid_auto_rows": null,
            "grid_gap": null,
            "max_width": null,
            "order": null,
            "_view_module_version": "1.2.0",
            "grid_template_areas": null,
            "object_position": null,
            "object_fit": null,
            "grid_auto_columns": null,
            "margin": null,
            "display": null,
            "left": null
          }
        },
        "2e0b57d5e5a54945ba5ecab46383ed0b": {
          "model_module": "@jupyter-widgets/controls",
          "model_name": "VBoxModel",
          "state": {
            "_view_name": "VBoxView",
            "_dom_classes": [],
            "_model_name": "VBoxModel",
            "_view_module": "@jupyter-widgets/controls",
            "_model_module_version": "1.5.0",
            "_view_count": null,
            "_view_module_version": "1.5.0",
            "box_style": "",
            "layout": "IPY_MODEL_c321c06facf44468a9feb049ee0dd69e",
            "_model_module": "@jupyter-widgets/controls",
            "children": [
              "IPY_MODEL_065cda4c762242f385e68dce108825f1",
              "IPY_MODEL_bc638970afc2453684f8df5d3757237e"
            ]
          }
        },
        "c321c06facf44468a9feb049ee0dd69e": {
          "model_module": "@jupyter-widgets/base",
          "model_name": "LayoutModel",
          "state": {
            "_view_name": "LayoutView",
            "grid_template_rows": null,
            "right": null,
            "justify_content": null,
            "_view_module": "@jupyter-widgets/base",
            "overflow": null,
            "_model_module_version": "1.2.0",
            "_view_count": null,
            "flex_flow": null,
            "width": null,
            "min_width": null,
            "border": null,
            "align_items": null,
            "bottom": null,
            "_model_module": "@jupyter-widgets/base",
            "top": null,
            "grid_column": null,
            "overflow_y": null,
            "overflow_x": null,
            "grid_auto_flow": null,
            "grid_area": null,
            "grid_template_columns": null,
            "flex": null,
            "_model_name": "LayoutModel",
            "justify_items": null,
            "grid_row": null,
            "max_height": null,
            "align_content": null,
            "visibility": null,
            "align_self": null,
            "height": null,
            "min_height": null,
            "padding": null,
            "grid_auto_rows": null,
            "grid_gap": null,
            "max_width": null,
            "order": null,
            "_view_module_version": "1.2.0",
            "grid_template_areas": null,
            "object_position": null,
            "object_fit": null,
            "grid_auto_columns": null,
            "margin": null,
            "display": null,
            "left": null
          }
        },
        "065cda4c762242f385e68dce108825f1": {
          "model_module": "@jupyter-widgets/controls",
          "model_name": "LabelModel",
          "state": {
            "_view_name": "LabelView",
            "style": "IPY_MODEL_88f546cf10cf4181a32bfff92962b728",
            "_dom_classes": [],
            "description": "",
            "_model_name": "LabelModel",
            "placeholder": "​",
            "_view_module": "@jupyter-widgets/controls",
            "_model_module_version": "1.5.0",
            "value": " 0.15MB of 0.15MB uploaded (0.00MB deduped)\r",
            "_view_count": null,
            "_view_module_version": "1.5.0",
            "description_tooltip": null,
            "_model_module": "@jupyter-widgets/controls",
            "layout": "IPY_MODEL_8a1ab3232e7144299ad563922dec38cc"
          }
        },
        "bc638970afc2453684f8df5d3757237e": {
          "model_module": "@jupyter-widgets/controls",
          "model_name": "FloatProgressModel",
          "state": {
            "_view_name": "ProgressView",
            "style": "IPY_MODEL_8764406a6e9c40c7bc5218c0d21b7b0b",
            "_dom_classes": [],
            "description": "",
            "_model_name": "FloatProgressModel",
            "bar_style": "",
            "max": 1,
            "_view_module": "@jupyter-widgets/controls",
            "_model_module_version": "1.5.0",
            "value": 1,
            "_view_count": null,
            "_view_module_version": "1.5.0",
            "orientation": "horizontal",
            "min": 0,
            "description_tooltip": null,
            "_model_module": "@jupyter-widgets/controls",
            "layout": "IPY_MODEL_9e824603cc0c4384832d2559a4459585"
          }
        },
        "88f546cf10cf4181a32bfff92962b728": {
          "model_module": "@jupyter-widgets/controls",
          "model_name": "DescriptionStyleModel",
          "state": {
            "_view_name": "StyleView",
            "_model_name": "DescriptionStyleModel",
            "description_width": "",
            "_view_module": "@jupyter-widgets/base",
            "_model_module_version": "1.5.0",
            "_view_count": null,
            "_view_module_version": "1.2.0",
            "_model_module": "@jupyter-widgets/controls"
          }
        },
        "8a1ab3232e7144299ad563922dec38cc": {
          "model_module": "@jupyter-widgets/base",
          "model_name": "LayoutModel",
          "state": {
            "_view_name": "LayoutView",
            "grid_template_rows": null,
            "right": null,
            "justify_content": null,
            "_view_module": "@jupyter-widgets/base",
            "overflow": null,
            "_model_module_version": "1.2.0",
            "_view_count": null,
            "flex_flow": null,
            "width": null,
            "min_width": null,
            "border": null,
            "align_items": null,
            "bottom": null,
            "_model_module": "@jupyter-widgets/base",
            "top": null,
            "grid_column": null,
            "overflow_y": null,
            "overflow_x": null,
            "grid_auto_flow": null,
            "grid_area": null,
            "grid_template_columns": null,
            "flex": null,
            "_model_name": "LayoutModel",
            "justify_items": null,
            "grid_row": null,
            "max_height": null,
            "align_content": null,
            "visibility": null,
            "align_self": null,
            "height": null,
            "min_height": null,
            "padding": null,
            "grid_auto_rows": null,
            "grid_gap": null,
            "max_width": null,
            "order": null,
            "_view_module_version": "1.2.0",
            "grid_template_areas": null,
            "object_position": null,
            "object_fit": null,
            "grid_auto_columns": null,
            "margin": null,
            "display": null,
            "left": null
          }
        },
        "8764406a6e9c40c7bc5218c0d21b7b0b": {
          "model_module": "@jupyter-widgets/controls",
          "model_name": "ProgressStyleModel",
          "state": {
            "_view_name": "StyleView",
            "_model_name": "ProgressStyleModel",
            "description_width": "",
            "_view_module": "@jupyter-widgets/base",
            "_model_module_version": "1.5.0",
            "_view_count": null,
            "_view_module_version": "1.2.0",
            "bar_color": null,
            "_model_module": "@jupyter-widgets/controls"
          }
        },
        "9e824603cc0c4384832d2559a4459585": {
          "model_module": "@jupyter-widgets/base",
          "model_name": "LayoutModel",
          "state": {
            "_view_name": "LayoutView",
            "grid_template_rows": null,
            "right": null,
            "justify_content": null,
            "_view_module": "@jupyter-widgets/base",
            "overflow": null,
            "_model_module_version": "1.2.0",
            "_view_count": null,
            "flex_flow": null,
            "width": null,
            "min_width": null,
            "border": null,
            "align_items": null,
            "bottom": null,
            "_model_module": "@jupyter-widgets/base",
            "top": null,
            "grid_column": null,
            "overflow_y": null,
            "overflow_x": null,
            "grid_auto_flow": null,
            "grid_area": null,
            "grid_template_columns": null,
            "flex": null,
            "_model_name": "LayoutModel",
            "justify_items": null,
            "grid_row": null,
            "max_height": null,
            "align_content": null,
            "visibility": null,
            "align_self": null,
            "height": null,
            "min_height": null,
            "padding": null,
            "grid_auto_rows": null,
            "grid_gap": null,
            "max_width": null,
            "order": null,
            "_view_module_version": "1.2.0",
            "grid_template_areas": null,
            "object_position": null,
            "object_fit": null,
            "grid_auto_columns": null,
            "margin": null,
            "display": null,
            "left": null
          }
        },
        "204283f4f7584af79a515f8a18636752": {
          "model_module": "@jupyter-widgets/controls",
          "model_name": "VBoxModel",
          "state": {
            "_view_name": "VBoxView",
            "_dom_classes": [],
            "_model_name": "VBoxModel",
            "_view_module": "@jupyter-widgets/controls",
            "_model_module_version": "1.5.0",
            "_view_count": null,
            "_view_module_version": "1.5.0",
            "box_style": "",
            "layout": "IPY_MODEL_bac525702f344d7e907d708d5290f852",
            "_model_module": "@jupyter-widgets/controls",
            "children": [
              "IPY_MODEL_2e30ac1cf39341bf94ba20e82c4bbce5",
              "IPY_MODEL_047cea09366a4b89a99bfb71ca70dee4"
            ]
          }
        },
        "bac525702f344d7e907d708d5290f852": {
          "model_module": "@jupyter-widgets/base",
          "model_name": "LayoutModel",
          "state": {
            "_view_name": "LayoutView",
            "grid_template_rows": null,
            "right": null,
            "justify_content": null,
            "_view_module": "@jupyter-widgets/base",
            "overflow": null,
            "_model_module_version": "1.2.0",
            "_view_count": null,
            "flex_flow": null,
            "width": null,
            "min_width": null,
            "border": null,
            "align_items": null,
            "bottom": null,
            "_model_module": "@jupyter-widgets/base",
            "top": null,
            "grid_column": null,
            "overflow_y": null,
            "overflow_x": null,
            "grid_auto_flow": null,
            "grid_area": null,
            "grid_template_columns": null,
            "flex": null,
            "_model_name": "LayoutModel",
            "justify_items": null,
            "grid_row": null,
            "max_height": null,
            "align_content": null,
            "visibility": null,
            "align_self": null,
            "height": null,
            "min_height": null,
            "padding": null,
            "grid_auto_rows": null,
            "grid_gap": null,
            "max_width": null,
            "order": null,
            "_view_module_version": "1.2.0",
            "grid_template_areas": null,
            "object_position": null,
            "object_fit": null,
            "grid_auto_columns": null,
            "margin": null,
            "display": null,
            "left": null
          }
        },
        "2e30ac1cf39341bf94ba20e82c4bbce5": {
          "model_module": "@jupyter-widgets/controls",
          "model_name": "LabelModel",
          "state": {
            "_view_name": "LabelView",
            "style": "IPY_MODEL_b336ffa7d8b447bf860e6dcf8b8a56bd",
            "_dom_classes": [],
            "description": "",
            "_model_name": "LabelModel",
            "placeholder": "​",
            "_view_module": "@jupyter-widgets/controls",
            "_model_module_version": "1.5.0",
            "value": " 0.17MB of 0.17MB uploaded (0.00MB deduped)\r",
            "_view_count": null,
            "_view_module_version": "1.5.0",
            "description_tooltip": null,
            "_model_module": "@jupyter-widgets/controls",
            "layout": "IPY_MODEL_b255ad640a0d4f7eb223bd975557eb6b"
          }
        },
        "047cea09366a4b89a99bfb71ca70dee4": {
          "model_module": "@jupyter-widgets/controls",
          "model_name": "FloatProgressModel",
          "state": {
            "_view_name": "ProgressView",
            "style": "IPY_MODEL_67653db0f0c644dbaa4dc6538121bfe3",
            "_dom_classes": [],
            "description": "",
            "_model_name": "FloatProgressModel",
            "bar_style": "",
            "max": 1,
            "_view_module": "@jupyter-widgets/controls",
            "_model_module_version": "1.5.0",
            "value": 1,
            "_view_count": null,
            "_view_module_version": "1.5.0",
            "orientation": "horizontal",
            "min": 0,
            "description_tooltip": null,
            "_model_module": "@jupyter-widgets/controls",
            "layout": "IPY_MODEL_e5080ca9289b4ae098e95b484f90d5c8"
          }
        },
        "b336ffa7d8b447bf860e6dcf8b8a56bd": {
          "model_module": "@jupyter-widgets/controls",
          "model_name": "DescriptionStyleModel",
          "state": {
            "_view_name": "StyleView",
            "_model_name": "DescriptionStyleModel",
            "description_width": "",
            "_view_module": "@jupyter-widgets/base",
            "_model_module_version": "1.5.0",
            "_view_count": null,
            "_view_module_version": "1.2.0",
            "_model_module": "@jupyter-widgets/controls"
          }
        },
        "b255ad640a0d4f7eb223bd975557eb6b": {
          "model_module": "@jupyter-widgets/base",
          "model_name": "LayoutModel",
          "state": {
            "_view_name": "LayoutView",
            "grid_template_rows": null,
            "right": null,
            "justify_content": null,
            "_view_module": "@jupyter-widgets/base",
            "overflow": null,
            "_model_module_version": "1.2.0",
            "_view_count": null,
            "flex_flow": null,
            "width": null,
            "min_width": null,
            "border": null,
            "align_items": null,
            "bottom": null,
            "_model_module": "@jupyter-widgets/base",
            "top": null,
            "grid_column": null,
            "overflow_y": null,
            "overflow_x": null,
            "grid_auto_flow": null,
            "grid_area": null,
            "grid_template_columns": null,
            "flex": null,
            "_model_name": "LayoutModel",
            "justify_items": null,
            "grid_row": null,
            "max_height": null,
            "align_content": null,
            "visibility": null,
            "align_self": null,
            "height": null,
            "min_height": null,
            "padding": null,
            "grid_auto_rows": null,
            "grid_gap": null,
            "max_width": null,
            "order": null,
            "_view_module_version": "1.2.0",
            "grid_template_areas": null,
            "object_position": null,
            "object_fit": null,
            "grid_auto_columns": null,
            "margin": null,
            "display": null,
            "left": null
          }
        },
        "67653db0f0c644dbaa4dc6538121bfe3": {
          "model_module": "@jupyter-widgets/controls",
          "model_name": "ProgressStyleModel",
          "state": {
            "_view_name": "StyleView",
            "_model_name": "ProgressStyleModel",
            "description_width": "",
            "_view_module": "@jupyter-widgets/base",
            "_model_module_version": "1.5.0",
            "_view_count": null,
            "_view_module_version": "1.2.0",
            "bar_color": null,
            "_model_module": "@jupyter-widgets/controls"
          }
        },
        "e5080ca9289b4ae098e95b484f90d5c8": {
          "model_module": "@jupyter-widgets/base",
          "model_name": "LayoutModel",
          "state": {
            "_view_name": "LayoutView",
            "grid_template_rows": null,
            "right": null,
            "justify_content": null,
            "_view_module": "@jupyter-widgets/base",
            "overflow": null,
            "_model_module_version": "1.2.0",
            "_view_count": null,
            "flex_flow": null,
            "width": null,
            "min_width": null,
            "border": null,
            "align_items": null,
            "bottom": null,
            "_model_module": "@jupyter-widgets/base",
            "top": null,
            "grid_column": null,
            "overflow_y": null,
            "overflow_x": null,
            "grid_auto_flow": null,
            "grid_area": null,
            "grid_template_columns": null,
            "flex": null,
            "_model_name": "LayoutModel",
            "justify_items": null,
            "grid_row": null,
            "max_height": null,
            "align_content": null,
            "visibility": null,
            "align_self": null,
            "height": null,
            "min_height": null,
            "padding": null,
            "grid_auto_rows": null,
            "grid_gap": null,
            "max_width": null,
            "order": null,
            "_view_module_version": "1.2.0",
            "grid_template_areas": null,
            "object_position": null,
            "object_fit": null,
            "grid_auto_columns": null,
            "margin": null,
            "display": null,
            "left": null
          }
        },
        "e530b5077b004d64a355e0bcb507565a": {
          "model_module": "@jupyter-widgets/controls",
          "model_name": "VBoxModel",
          "state": {
            "_view_name": "VBoxView",
            "_dom_classes": [],
            "_model_name": "VBoxModel",
            "_view_module": "@jupyter-widgets/controls",
            "_model_module_version": "1.5.0",
            "_view_count": null,
            "_view_module_version": "1.5.0",
            "box_style": "",
            "layout": "IPY_MODEL_b1528fdfeb174c10bed744c3400ea511",
            "_model_module": "@jupyter-widgets/controls",
            "children": [
              "IPY_MODEL_d89779ed824b42268d6f1cfa76ffac3f",
              "IPY_MODEL_76085ae45ab24f0684581f9a2e16d321"
            ]
          }
        },
        "b1528fdfeb174c10bed744c3400ea511": {
          "model_module": "@jupyter-widgets/base",
          "model_name": "LayoutModel",
          "state": {
            "_view_name": "LayoutView",
            "grid_template_rows": null,
            "right": null,
            "justify_content": null,
            "_view_module": "@jupyter-widgets/base",
            "overflow": null,
            "_model_module_version": "1.2.0",
            "_view_count": null,
            "flex_flow": null,
            "width": null,
            "min_width": null,
            "border": null,
            "align_items": null,
            "bottom": null,
            "_model_module": "@jupyter-widgets/base",
            "top": null,
            "grid_column": null,
            "overflow_y": null,
            "overflow_x": null,
            "grid_auto_flow": null,
            "grid_area": null,
            "grid_template_columns": null,
            "flex": null,
            "_model_name": "LayoutModel",
            "justify_items": null,
            "grid_row": null,
            "max_height": null,
            "align_content": null,
            "visibility": null,
            "align_self": null,
            "height": null,
            "min_height": null,
            "padding": null,
            "grid_auto_rows": null,
            "grid_gap": null,
            "max_width": null,
            "order": null,
            "_view_module_version": "1.2.0",
            "grid_template_areas": null,
            "object_position": null,
            "object_fit": null,
            "grid_auto_columns": null,
            "margin": null,
            "display": null,
            "left": null
          }
        },
        "d89779ed824b42268d6f1cfa76ffac3f": {
          "model_module": "@jupyter-widgets/controls",
          "model_name": "LabelModel",
          "state": {
            "_view_name": "LabelView",
            "style": "IPY_MODEL_29d5fd008f7c41fab334970e7f715f1f",
            "_dom_classes": [],
            "description": "",
            "_model_name": "LabelModel",
            "placeholder": "​",
            "_view_module": "@jupyter-widgets/controls",
            "_model_module_version": "1.5.0",
            "value": " 0.18MB of 0.18MB uploaded (0.00MB deduped)\r",
            "_view_count": null,
            "_view_module_version": "1.5.0",
            "description_tooltip": null,
            "_model_module": "@jupyter-widgets/controls",
            "layout": "IPY_MODEL_7733786526c24667967840e1b61f4c1f"
          }
        },
        "76085ae45ab24f0684581f9a2e16d321": {
          "model_module": "@jupyter-widgets/controls",
          "model_name": "FloatProgressModel",
          "state": {
            "_view_name": "ProgressView",
            "style": "IPY_MODEL_da88a07dc92142fcb060e73636e0b3eb",
            "_dom_classes": [],
            "description": "",
            "_model_name": "FloatProgressModel",
            "bar_style": "",
            "max": 1,
            "_view_module": "@jupyter-widgets/controls",
            "_model_module_version": "1.5.0",
            "value": 1,
            "_view_count": null,
            "_view_module_version": "1.5.0",
            "orientation": "horizontal",
            "min": 0,
            "description_tooltip": null,
            "_model_module": "@jupyter-widgets/controls",
            "layout": "IPY_MODEL_b2a52035fe4b481ab4478d2c46474785"
          }
        },
        "29d5fd008f7c41fab334970e7f715f1f": {
          "model_module": "@jupyter-widgets/controls",
          "model_name": "DescriptionStyleModel",
          "state": {
            "_view_name": "StyleView",
            "_model_name": "DescriptionStyleModel",
            "description_width": "",
            "_view_module": "@jupyter-widgets/base",
            "_model_module_version": "1.5.0",
            "_view_count": null,
            "_view_module_version": "1.2.0",
            "_model_module": "@jupyter-widgets/controls"
          }
        },
        "7733786526c24667967840e1b61f4c1f": {
          "model_module": "@jupyter-widgets/base",
          "model_name": "LayoutModel",
          "state": {
            "_view_name": "LayoutView",
            "grid_template_rows": null,
            "right": null,
            "justify_content": null,
            "_view_module": "@jupyter-widgets/base",
            "overflow": null,
            "_model_module_version": "1.2.0",
            "_view_count": null,
            "flex_flow": null,
            "width": null,
            "min_width": null,
            "border": null,
            "align_items": null,
            "bottom": null,
            "_model_module": "@jupyter-widgets/base",
            "top": null,
            "grid_column": null,
            "overflow_y": null,
            "overflow_x": null,
            "grid_auto_flow": null,
            "grid_area": null,
            "grid_template_columns": null,
            "flex": null,
            "_model_name": "LayoutModel",
            "justify_items": null,
            "grid_row": null,
            "max_height": null,
            "align_content": null,
            "visibility": null,
            "align_self": null,
            "height": null,
            "min_height": null,
            "padding": null,
            "grid_auto_rows": null,
            "grid_gap": null,
            "max_width": null,
            "order": null,
            "_view_module_version": "1.2.0",
            "grid_template_areas": null,
            "object_position": null,
            "object_fit": null,
            "grid_auto_columns": null,
            "margin": null,
            "display": null,
            "left": null
          }
        },
        "da88a07dc92142fcb060e73636e0b3eb": {
          "model_module": "@jupyter-widgets/controls",
          "model_name": "ProgressStyleModel",
          "state": {
            "_view_name": "StyleView",
            "_model_name": "ProgressStyleModel",
            "description_width": "",
            "_view_module": "@jupyter-widgets/base",
            "_model_module_version": "1.5.0",
            "_view_count": null,
            "_view_module_version": "1.2.0",
            "bar_color": null,
            "_model_module": "@jupyter-widgets/controls"
          }
        },
        "b2a52035fe4b481ab4478d2c46474785": {
          "model_module": "@jupyter-widgets/base",
          "model_name": "LayoutModel",
          "state": {
            "_view_name": "LayoutView",
            "grid_template_rows": null,
            "right": null,
            "justify_content": null,
            "_view_module": "@jupyter-widgets/base",
            "overflow": null,
            "_model_module_version": "1.2.0",
            "_view_count": null,
            "flex_flow": null,
            "width": null,
            "min_width": null,
            "border": null,
            "align_items": null,
            "bottom": null,
            "_model_module": "@jupyter-widgets/base",
            "top": null,
            "grid_column": null,
            "overflow_y": null,
            "overflow_x": null,
            "grid_auto_flow": null,
            "grid_area": null,
            "grid_template_columns": null,
            "flex": null,
            "_model_name": "LayoutModel",
            "justify_items": null,
            "grid_row": null,
            "max_height": null,
            "align_content": null,
            "visibility": null,
            "align_self": null,
            "height": null,
            "min_height": null,
            "padding": null,
            "grid_auto_rows": null,
            "grid_gap": null,
            "max_width": null,
            "order": null,
            "_view_module_version": "1.2.0",
            "grid_template_areas": null,
            "object_position": null,
            "object_fit": null,
            "grid_auto_columns": null,
            "margin": null,
            "display": null,
            "left": null
          }
        },
        "27ee2c42f88b4081a3743efc833abcae": {
          "model_module": "@jupyter-widgets/controls",
          "model_name": "VBoxModel",
          "state": {
            "_view_name": "VBoxView",
            "_dom_classes": [],
            "_model_name": "VBoxModel",
            "_view_module": "@jupyter-widgets/controls",
            "_model_module_version": "1.5.0",
            "_view_count": null,
            "_view_module_version": "1.5.0",
            "box_style": "",
            "layout": "IPY_MODEL_79f671790fb84fd3854e3969f6b6d259",
            "_model_module": "@jupyter-widgets/controls",
            "children": [
              "IPY_MODEL_8aa1ac71118640f3a7f6b9b9ecbf5291",
              "IPY_MODEL_f82b7c61f9474798bfd0f706e8e97e57"
            ]
          }
        },
        "79f671790fb84fd3854e3969f6b6d259": {
          "model_module": "@jupyter-widgets/base",
          "model_name": "LayoutModel",
          "state": {
            "_view_name": "LayoutView",
            "grid_template_rows": null,
            "right": null,
            "justify_content": null,
            "_view_module": "@jupyter-widgets/base",
            "overflow": null,
            "_model_module_version": "1.2.0",
            "_view_count": null,
            "flex_flow": null,
            "width": null,
            "min_width": null,
            "border": null,
            "align_items": null,
            "bottom": null,
            "_model_module": "@jupyter-widgets/base",
            "top": null,
            "grid_column": null,
            "overflow_y": null,
            "overflow_x": null,
            "grid_auto_flow": null,
            "grid_area": null,
            "grid_template_columns": null,
            "flex": null,
            "_model_name": "LayoutModel",
            "justify_items": null,
            "grid_row": null,
            "max_height": null,
            "align_content": null,
            "visibility": null,
            "align_self": null,
            "height": null,
            "min_height": null,
            "padding": null,
            "grid_auto_rows": null,
            "grid_gap": null,
            "max_width": null,
            "order": null,
            "_view_module_version": "1.2.0",
            "grid_template_areas": null,
            "object_position": null,
            "object_fit": null,
            "grid_auto_columns": null,
            "margin": null,
            "display": null,
            "left": null
          }
        },
        "8aa1ac71118640f3a7f6b9b9ecbf5291": {
          "model_module": "@jupyter-widgets/controls",
          "model_name": "LabelModel",
          "state": {
            "_view_name": "LabelView",
            "style": "IPY_MODEL_f81ca8064831451e885d5b3c21bf66b2",
            "_dom_classes": [],
            "description": "",
            "_model_name": "LabelModel",
            "placeholder": "​",
            "_view_module": "@jupyter-widgets/controls",
            "_model_module_version": "1.5.0",
            "value": " 0.15MB of 0.15MB uploaded (0.00MB deduped)\r",
            "_view_count": null,
            "_view_module_version": "1.5.0",
            "description_tooltip": null,
            "_model_module": "@jupyter-widgets/controls",
            "layout": "IPY_MODEL_a2759d94c8df4aa5898feefa0ecbb4f9"
          }
        },
        "f82b7c61f9474798bfd0f706e8e97e57": {
          "model_module": "@jupyter-widgets/controls",
          "model_name": "FloatProgressModel",
          "state": {
            "_view_name": "ProgressView",
            "style": "IPY_MODEL_f6b4e410d80348dfad937a111754d16c",
            "_dom_classes": [],
            "description": "",
            "_model_name": "FloatProgressModel",
            "bar_style": "",
            "max": 1,
            "_view_module": "@jupyter-widgets/controls",
            "_model_module_version": "1.5.0",
            "value": 1,
            "_view_count": null,
            "_view_module_version": "1.5.0",
            "orientation": "horizontal",
            "min": 0,
            "description_tooltip": null,
            "_model_module": "@jupyter-widgets/controls",
            "layout": "IPY_MODEL_55f45a900862414db0ad06c6af454f22"
          }
        },
        "f81ca8064831451e885d5b3c21bf66b2": {
          "model_module": "@jupyter-widgets/controls",
          "model_name": "DescriptionStyleModel",
          "state": {
            "_view_name": "StyleView",
            "_model_name": "DescriptionStyleModel",
            "description_width": "",
            "_view_module": "@jupyter-widgets/base",
            "_model_module_version": "1.5.0",
            "_view_count": null,
            "_view_module_version": "1.2.0",
            "_model_module": "@jupyter-widgets/controls"
          }
        },
        "a2759d94c8df4aa5898feefa0ecbb4f9": {
          "model_module": "@jupyter-widgets/base",
          "model_name": "LayoutModel",
          "state": {
            "_view_name": "LayoutView",
            "grid_template_rows": null,
            "right": null,
            "justify_content": null,
            "_view_module": "@jupyter-widgets/base",
            "overflow": null,
            "_model_module_version": "1.2.0",
            "_view_count": null,
            "flex_flow": null,
            "width": null,
            "min_width": null,
            "border": null,
            "align_items": null,
            "bottom": null,
            "_model_module": "@jupyter-widgets/base",
            "top": null,
            "grid_column": null,
            "overflow_y": null,
            "overflow_x": null,
            "grid_auto_flow": null,
            "grid_area": null,
            "grid_template_columns": null,
            "flex": null,
            "_model_name": "LayoutModel",
            "justify_items": null,
            "grid_row": null,
            "max_height": null,
            "align_content": null,
            "visibility": null,
            "align_self": null,
            "height": null,
            "min_height": null,
            "padding": null,
            "grid_auto_rows": null,
            "grid_gap": null,
            "max_width": null,
            "order": null,
            "_view_module_version": "1.2.0",
            "grid_template_areas": null,
            "object_position": null,
            "object_fit": null,
            "grid_auto_columns": null,
            "margin": null,
            "display": null,
            "left": null
          }
        },
        "f6b4e410d80348dfad937a111754d16c": {
          "model_module": "@jupyter-widgets/controls",
          "model_name": "ProgressStyleModel",
          "state": {
            "_view_name": "StyleView",
            "_model_name": "ProgressStyleModel",
            "description_width": "",
            "_view_module": "@jupyter-widgets/base",
            "_model_module_version": "1.5.0",
            "_view_count": null,
            "_view_module_version": "1.2.0",
            "bar_color": null,
            "_model_module": "@jupyter-widgets/controls"
          }
        },
        "55f45a900862414db0ad06c6af454f22": {
          "model_module": "@jupyter-widgets/base",
          "model_name": "LayoutModel",
          "state": {
            "_view_name": "LayoutView",
            "grid_template_rows": null,
            "right": null,
            "justify_content": null,
            "_view_module": "@jupyter-widgets/base",
            "overflow": null,
            "_model_module_version": "1.2.0",
            "_view_count": null,
            "flex_flow": null,
            "width": null,
            "min_width": null,
            "border": null,
            "align_items": null,
            "bottom": null,
            "_model_module": "@jupyter-widgets/base",
            "top": null,
            "grid_column": null,
            "overflow_y": null,
            "overflow_x": null,
            "grid_auto_flow": null,
            "grid_area": null,
            "grid_template_columns": null,
            "flex": null,
            "_model_name": "LayoutModel",
            "justify_items": null,
            "grid_row": null,
            "max_height": null,
            "align_content": null,
            "visibility": null,
            "align_self": null,
            "height": null,
            "min_height": null,
            "padding": null,
            "grid_auto_rows": null,
            "grid_gap": null,
            "max_width": null,
            "order": null,
            "_view_module_version": "1.2.0",
            "grid_template_areas": null,
            "object_position": null,
            "object_fit": null,
            "grid_auto_columns": null,
            "margin": null,
            "display": null,
            "left": null
          }
        },
        "9f688347032d4675993ff774df3c3aa6": {
          "model_module": "@jupyter-widgets/controls",
          "model_name": "VBoxModel",
          "state": {
            "_view_name": "VBoxView",
            "_dom_classes": [],
            "_model_name": "VBoxModel",
            "_view_module": "@jupyter-widgets/controls",
            "_model_module_version": "1.5.0",
            "_view_count": null,
            "_view_module_version": "1.5.0",
            "box_style": "",
            "layout": "IPY_MODEL_56c5e704c0974be39a2d5dffde0bc88e",
            "_model_module": "@jupyter-widgets/controls",
            "children": [
              "IPY_MODEL_2bef8bae82314833afbfad7d7f3cb1a0",
              "IPY_MODEL_c036ee0847324106b6600593aec8e1a1"
            ]
          }
        },
        "56c5e704c0974be39a2d5dffde0bc88e": {
          "model_module": "@jupyter-widgets/base",
          "model_name": "LayoutModel",
          "state": {
            "_view_name": "LayoutView",
            "grid_template_rows": null,
            "right": null,
            "justify_content": null,
            "_view_module": "@jupyter-widgets/base",
            "overflow": null,
            "_model_module_version": "1.2.0",
            "_view_count": null,
            "flex_flow": null,
            "width": null,
            "min_width": null,
            "border": null,
            "align_items": null,
            "bottom": null,
            "_model_module": "@jupyter-widgets/base",
            "top": null,
            "grid_column": null,
            "overflow_y": null,
            "overflow_x": null,
            "grid_auto_flow": null,
            "grid_area": null,
            "grid_template_columns": null,
            "flex": null,
            "_model_name": "LayoutModel",
            "justify_items": null,
            "grid_row": null,
            "max_height": null,
            "align_content": null,
            "visibility": null,
            "align_self": null,
            "height": null,
            "min_height": null,
            "padding": null,
            "grid_auto_rows": null,
            "grid_gap": null,
            "max_width": null,
            "order": null,
            "_view_module_version": "1.2.0",
            "grid_template_areas": null,
            "object_position": null,
            "object_fit": null,
            "grid_auto_columns": null,
            "margin": null,
            "display": null,
            "left": null
          }
        },
        "2bef8bae82314833afbfad7d7f3cb1a0": {
          "model_module": "@jupyter-widgets/controls",
          "model_name": "LabelModel",
          "state": {
            "_view_name": "LabelView",
            "style": "IPY_MODEL_e877d99f98064c16a19db08b50b8fc4f",
            "_dom_classes": [],
            "description": "",
            "_model_name": "LabelModel",
            "placeholder": "​",
            "_view_module": "@jupyter-widgets/controls",
            "_model_module_version": "1.5.0",
            "value": " 0.15MB of 0.15MB uploaded (0.00MB deduped)\r",
            "_view_count": null,
            "_view_module_version": "1.5.0",
            "description_tooltip": null,
            "_model_module": "@jupyter-widgets/controls",
            "layout": "IPY_MODEL_a50e37f690fa456a955e734679f5f14c"
          }
        },
        "c036ee0847324106b6600593aec8e1a1": {
          "model_module": "@jupyter-widgets/controls",
          "model_name": "FloatProgressModel",
          "state": {
            "_view_name": "ProgressView",
            "style": "IPY_MODEL_715fceb49eb94e228083070d78929984",
            "_dom_classes": [],
            "description": "",
            "_model_name": "FloatProgressModel",
            "bar_style": "",
            "max": 1,
            "_view_module": "@jupyter-widgets/controls",
            "_model_module_version": "1.5.0",
            "value": 1,
            "_view_count": null,
            "_view_module_version": "1.5.0",
            "orientation": "horizontal",
            "min": 0,
            "description_tooltip": null,
            "_model_module": "@jupyter-widgets/controls",
            "layout": "IPY_MODEL_09b7cf7dbceb4a0c9b2a19b4d63acc25"
          }
        },
        "e877d99f98064c16a19db08b50b8fc4f": {
          "model_module": "@jupyter-widgets/controls",
          "model_name": "DescriptionStyleModel",
          "state": {
            "_view_name": "StyleView",
            "_model_name": "DescriptionStyleModel",
            "description_width": "",
            "_view_module": "@jupyter-widgets/base",
            "_model_module_version": "1.5.0",
            "_view_count": null,
            "_view_module_version": "1.2.0",
            "_model_module": "@jupyter-widgets/controls"
          }
        },
        "a50e37f690fa456a955e734679f5f14c": {
          "model_module": "@jupyter-widgets/base",
          "model_name": "LayoutModel",
          "state": {
            "_view_name": "LayoutView",
            "grid_template_rows": null,
            "right": null,
            "justify_content": null,
            "_view_module": "@jupyter-widgets/base",
            "overflow": null,
            "_model_module_version": "1.2.0",
            "_view_count": null,
            "flex_flow": null,
            "width": null,
            "min_width": null,
            "border": null,
            "align_items": null,
            "bottom": null,
            "_model_module": "@jupyter-widgets/base",
            "top": null,
            "grid_column": null,
            "overflow_y": null,
            "overflow_x": null,
            "grid_auto_flow": null,
            "grid_area": null,
            "grid_template_columns": null,
            "flex": null,
            "_model_name": "LayoutModel",
            "justify_items": null,
            "grid_row": null,
            "max_height": null,
            "align_content": null,
            "visibility": null,
            "align_self": null,
            "height": null,
            "min_height": null,
            "padding": null,
            "grid_auto_rows": null,
            "grid_gap": null,
            "max_width": null,
            "order": null,
            "_view_module_version": "1.2.0",
            "grid_template_areas": null,
            "object_position": null,
            "object_fit": null,
            "grid_auto_columns": null,
            "margin": null,
            "display": null,
            "left": null
          }
        },
        "715fceb49eb94e228083070d78929984": {
          "model_module": "@jupyter-widgets/controls",
          "model_name": "ProgressStyleModel",
          "state": {
            "_view_name": "StyleView",
            "_model_name": "ProgressStyleModel",
            "description_width": "",
            "_view_module": "@jupyter-widgets/base",
            "_model_module_version": "1.5.0",
            "_view_count": null,
            "_view_module_version": "1.2.0",
            "bar_color": null,
            "_model_module": "@jupyter-widgets/controls"
          }
        },
        "09b7cf7dbceb4a0c9b2a19b4d63acc25": {
          "model_module": "@jupyter-widgets/base",
          "model_name": "LayoutModel",
          "state": {
            "_view_name": "LayoutView",
            "grid_template_rows": null,
            "right": null,
            "justify_content": null,
            "_view_module": "@jupyter-widgets/base",
            "overflow": null,
            "_model_module_version": "1.2.0",
            "_view_count": null,
            "flex_flow": null,
            "width": null,
            "min_width": null,
            "border": null,
            "align_items": null,
            "bottom": null,
            "_model_module": "@jupyter-widgets/base",
            "top": null,
            "grid_column": null,
            "overflow_y": null,
            "overflow_x": null,
            "grid_auto_flow": null,
            "grid_area": null,
            "grid_template_columns": null,
            "flex": null,
            "_model_name": "LayoutModel",
            "justify_items": null,
            "grid_row": null,
            "max_height": null,
            "align_content": null,
            "visibility": null,
            "align_self": null,
            "height": null,
            "min_height": null,
            "padding": null,
            "grid_auto_rows": null,
            "grid_gap": null,
            "max_width": null,
            "order": null,
            "_view_module_version": "1.2.0",
            "grid_template_areas": null,
            "object_position": null,
            "object_fit": null,
            "grid_auto_columns": null,
            "margin": null,
            "display": null,
            "left": null
          }
        }
      }
    }
  },
  "cells": [
    {
      "cell_type": "markdown",
      "metadata": {
        "id": "d_A01ZR2ByhE"
      },
      "source": [
        "# Virgin River Forecasting \n",
        "In this notebook we will forecast river flows on the Virgin River in Utah. This is important since the Virgin River runs through Zion National Park and flash floods can be dangerous to hikers. We will leverage several models in Flow Forecast to get the best results and figure out the forecast."
      ]
    },
    {
      "cell_type": "code",
      "metadata": {
        "colab": {
          "base_uri": "https://localhost:8080/"
        },
        "id": "wXA8CPub9ZEc",
        "outputId": "a9654744-8423-4138-aac9-54d7f7b9c6b3"
      },
      "source": [
        "from google.colab import auth\n",
        "from datetime import datetime\n",
        "import os\n",
        "auth.authenticate_user()\n",
        "!git clone https://github.com/AIStream-Peelout/flow-forecast.git\n",
        "!gsutil cp gs://predict_cfs/virgin_final1.csv virgin_final.csv \n",
        "!gsutil cp -r gs://predict_cfs/joined_final_3 .\n"
      ],
      "execution_count": null,
      "outputs": [
        {
          "output_type": "stream",
          "text": [
            "Cloning into 'flow-forecast'...\n",
            "remote: Enumerating objects: 230, done.\u001b[K\n",
            "remote: Counting objects: 100% (230/230), done.\u001b[K\n",
            "remote: Compressing objects: 100% (152/152), done.\u001b[K\n",
            "remote: Total 11911 (delta 148), reused 135 (delta 76), pack-reused 11681\u001b[K\n",
            "Receiving objects: 100% (11911/11911), 3.79 MiB | 14.78 MiB/s, done.\n",
            "Resolving deltas: 100% (8591/8591), done.\n",
            "Copying gs://predict_cfs/virgin_final1.csv...\n",
            "/ [1 files][  9.2 MiB/  9.2 MiB]                                                \n",
            "Operation completed over 1 objects/9.2 MiB.                                      \n",
            "Copying gs://predict_cfs/joined_final_3/0101000040B_flow.csv...\n",
            "Copying gs://predict_cfs/joined_final_3/0101007040B_flow.csv...\n",
            "Copying gs://predict_cfs/joined_final_3/01010500FVE_flow.csv...\n",
            "Copying gs://predict_cfs/joined_final_3/0101100040B_flow.csv...\n",
            "/ [4 files][ 98.5 MiB/ 98.5 MiB]                                                \n",
            "==> NOTE: You are performing a sequence of gsutil operations that may\n",
            "run significantly faster if you instead use gsutil -m cp ... Please\n",
            "see the -m section under \"gsutil help options\" for further information\n",
            "about when gsutil -m can be advantageous.\n",
            "\n",
            "Copying gs://predict_cfs/joined_final_3/01017290CAR_flow.csv...\n",
            "Copying gs://predict_cfs/joined_final_3/01017550PQI_flow.csv...\n",
            "Copying gs://predict_cfs/joined_final_3/01017960HUL_flow.csv...\n",
            "Copying gs://predict_cfs/joined_final_3/01018000HUL_flow.csv...\n",
            "Copying gs://predict_cfs/joined_final_3/01018009HUL_flow.csv...\n",
            "Copying gs://predict_cfs/joined_final_3/01037380RKD_flow.csv...\n",
            "Copying gs://predict_cfs/joined_final_3/01042500GNR_flow.csv...\n",
            "Copying gs://predict_cfs/joined_final_3/01099500LWM_flow.csv...\n",
            "Copying gs://predict_cfs/joined_final_3/01638500FDK_flow.csv...\n",
            "Copying gs://predict_cfs/joined_final_3/01646500DCA_flow.csv...\n",
            "Copying gs://predict_cfs/joined_final_3/06741510FNL_flow.csv...\n",
            "Copying gs://predict_cfs/joined_final_3/09405500AZC_flow.csv...\n",
            "Copying gs://predict_cfs/joined_final_3/09406000AZC_flow.csv...\n",
            "Copying gs://predict_cfs/joined_final_3/09408135DXZ_flow.csv...\n",
            "\\ [18 files][444.4 MiB/444.4 MiB]   38.7 MiB/s                                  \n",
            "Operation completed over 18 objects/444.4 MiB.                                   \n"
          ],
          "name": "stdout"
        }
      ]
    },
    {
      "cell_type": "code",
      "metadata": {
        "id": "46PFRR2i3n0s",
        "colab": {
          "base_uri": "https://localhost:8080/"
        },
        "outputId": "55760c91-d9a6-416d-f43e-b6bc68664265"
      },
      "source": [
        "import pandas as pd\n",
        "!gsutil cp gs://aistream-datasets/flowdb/09405500AZC_flow.csv .\n",
        "df = pd.read_csv(\"09405500AZC_flow.csv\")\n",
        "df = df.dropna(subset=[\"hour_updated\", \"cfs\", \"p01m\"])\n",
        "df.to_csv(\"/content/joined_final_3/09405500AZC_flow.csv\")"
      ],
      "execution_count": null,
      "outputs": [
        {
          "output_type": "stream",
          "text": [
            "Copying gs://aistream-datasets/flowdb/09405500AZC_flow.csv...\n",
            "/ [1 files][ 19.6 MiB/ 19.6 MiB]                                                \n",
            "Operation completed over 1 objects/19.6 MiB.                                     \n"
          ],
          "name": "stdout"
        },
        {
          "output_type": "stream",
          "text": [
            "/usr/local/lib/python3.6/dist-packages/IPython/core/interactiveshell.py:2718: DtypeWarning: Columns (2,4,7,8,9,18) have mixed types.Specify dtype option on import or set low_memory=False.\n",
            "  interactivity=interactivity, compiler=compiler, result=result)\n"
          ],
          "name": "stderr"
        }
      ]
    },
    {
      "cell_type": "code",
      "metadata": {
        "colab": {
          "base_uri": "https://localhost:8080/",
          "height": 830
        },
        "id": "T_yK6m4q-3TC",
        "outputId": "d79608b4-5687-472e-bade-1c83d8046014"
      },
      "source": [
        "df = pd.read_csv(\"09405500AZC_flow.csv\")\n",
        "df = df.dropna(subset=[\"hour_updated\", \"cfs\", \"p01m\"])\n",
        "df.sort_values(by=[\"hour_updated\"])[1000:]"
      ],
      "execution_count": null,
      "outputs": [
        {
          "output_type": "stream",
          "text": [
            "/usr/local/lib/python3.6/dist-packages/IPython/core/interactiveshell.py:2718: DtypeWarning: Columns (2,4,7,8,9,18) have mixed types.Specify dtype option on import or set low_memory=False.\n",
            "  interactivity=interactivity, compiler=compiler, result=result)\n"
          ],
          "name": "stderr"
        },
        {
          "output_type": "execute_result",
          "data": {
            "text/html": [
              "<div>\n",
              "<style scoped>\n",
              "    .dataframe tbody tr th:only-of-type {\n",
              "        vertical-align: middle;\n",
              "    }\n",
              "\n",
              "    .dataframe tbody tr th {\n",
              "        vertical-align: top;\n",
              "    }\n",
              "\n",
              "    .dataframe thead th {\n",
              "        text-align: right;\n",
              "    }\n",
              "</style>\n",
              "<table border=\"1\" class=\"dataframe\">\n",
              "  <thead>\n",
              "    <tr style=\"text-align: right;\">\n",
              "      <th></th>\n",
              "      <th>Unnamed: 0</th>\n",
              "      <th>Unnamed: 0_x</th>\n",
              "      <th>hour_updated</th>\n",
              "      <th>p01m</th>\n",
              "      <th>valid</th>\n",
              "      <th>tmpf</th>\n",
              "      <th>dwpf</th>\n",
              "      <th>ice_accretion_1hr</th>\n",
              "      <th>mslp</th>\n",
              "      <th>drct</th>\n",
              "      <th>Unnamed: 0_y</th>\n",
              "      <th>agency_cd</th>\n",
              "      <th>site_no</th>\n",
              "      <th>datetime</th>\n",
              "      <th>tz_cd</th>\n",
              "      <th>144196_00060</th>\n",
              "      <th>144196_00060_cd</th>\n",
              "      <th>144197_00065</th>\n",
              "      <th>144197_00065_cd</th>\n",
              "      <th>cfs</th>\n",
              "      <th>height</th>\n",
              "    </tr>\n",
              "  </thead>\n",
              "  <tbody>\n",
              "    <tr>\n",
              "      <th>1000</th>\n",
              "      <td>1005</td>\n",
              "      <td>1005.0</td>\n",
              "      <td>2014-04-11 16:00:00+00:00</td>\n",
              "      <td>0.0</td>\n",
              "      <td>2014-04-11 15:15</td>\n",
              "      <td>59.06</td>\n",
              "      <td>15.26</td>\n",
              "      <td>M</td>\n",
              "      <td>M</td>\n",
              "      <td>0.00</td>\n",
              "      <td>493678.0</td>\n",
              "      <td>USGS</td>\n",
              "      <td>9405500.0</td>\n",
              "      <td>2014-04-11 16:00:00+00:00</td>\n",
              "      <td>MDT</td>\n",
              "      <td>52.7</td>\n",
              "      <td>A</td>\n",
              "      <td>0.31</td>\n",
              "      <td>A</td>\n",
              "      <td>52.7</td>\n",
              "      <td>0.31</td>\n",
              "    </tr>\n",
              "    <tr>\n",
              "      <th>1001</th>\n",
              "      <td>1006</td>\n",
              "      <td>1006.0</td>\n",
              "      <td>2014-04-11 17:00:00+00:00</td>\n",
              "      <td>0.0</td>\n",
              "      <td>2014-04-11 16:15</td>\n",
              "      <td>68.42</td>\n",
              "      <td>11.00</td>\n",
              "      <td>M</td>\n",
              "      <td>M</td>\n",
              "      <td>130.00</td>\n",
              "      <td>493682.0</td>\n",
              "      <td>USGS</td>\n",
              "      <td>9405500.0</td>\n",
              "      <td>2014-04-11 17:00:00+00:00</td>\n",
              "      <td>MDT</td>\n",
              "      <td>52.7</td>\n",
              "      <td>A</td>\n",
              "      <td>0.31</td>\n",
              "      <td>A</td>\n",
              "      <td>52.7</td>\n",
              "      <td>0.31</td>\n",
              "    </tr>\n",
              "    <tr>\n",
              "      <th>1002</th>\n",
              "      <td>1007</td>\n",
              "      <td>1007.0</td>\n",
              "      <td>2014-04-11 18:00:00+00:00</td>\n",
              "      <td>0.0</td>\n",
              "      <td>2014-04-11 17:15</td>\n",
              "      <td>74.36</td>\n",
              "      <td>8.42</td>\n",
              "      <td>M</td>\n",
              "      <td>M</td>\n",
              "      <td>100.00</td>\n",
              "      <td>493686.0</td>\n",
              "      <td>USGS</td>\n",
              "      <td>9405500.0</td>\n",
              "      <td>2014-04-11 18:00:00+00:00</td>\n",
              "      <td>MDT</td>\n",
              "      <td>55.5</td>\n",
              "      <td>A</td>\n",
              "      <td>0.34</td>\n",
              "      <td>A</td>\n",
              "      <td>55.5</td>\n",
              "      <td>0.34</td>\n",
              "    </tr>\n",
              "    <tr>\n",
              "      <th>1003</th>\n",
              "      <td>1008</td>\n",
              "      <td>1008.0</td>\n",
              "      <td>2014-04-11 19:00:00+00:00</td>\n",
              "      <td>0.0</td>\n",
              "      <td>2014-04-11 18:15</td>\n",
              "      <td>77.18</td>\n",
              "      <td>8.84</td>\n",
              "      <td>M</td>\n",
              "      <td>M</td>\n",
              "      <td>150.00</td>\n",
              "      <td>493690.0</td>\n",
              "      <td>USGS</td>\n",
              "      <td>9405500.0</td>\n",
              "      <td>2014-04-11 19:00:00+00:00</td>\n",
              "      <td>MDT</td>\n",
              "      <td>55.5</td>\n",
              "      <td>A</td>\n",
              "      <td>0.34</td>\n",
              "      <td>A</td>\n",
              "      <td>55.5</td>\n",
              "      <td>0.34</td>\n",
              "    </tr>\n",
              "    <tr>\n",
              "      <th>1004</th>\n",
              "      <td>1009</td>\n",
              "      <td>1009.0</td>\n",
              "      <td>2014-04-11 20:00:00+00:00</td>\n",
              "      <td>0.0</td>\n",
              "      <td>2014-04-11 19:15</td>\n",
              "      <td>77.96</td>\n",
              "      <td>8.78</td>\n",
              "      <td>M</td>\n",
              "      <td>M</td>\n",
              "      <td>0.00</td>\n",
              "      <td>493694.0</td>\n",
              "      <td>USGS</td>\n",
              "      <td>9405500.0</td>\n",
              "      <td>2014-04-11 20:00:00+00:00</td>\n",
              "      <td>MDT</td>\n",
              "      <td>56.4</td>\n",
              "      <td>A</td>\n",
              "      <td>0.35</td>\n",
              "      <td>A</td>\n",
              "      <td>56.4</td>\n",
              "      <td>0.35</td>\n",
              "    </tr>\n",
              "    <tr>\n",
              "      <th>...</th>\n",
              "      <td>...</td>\n",
              "      <td>...</td>\n",
              "      <td>...</td>\n",
              "      <td>...</td>\n",
              "      <td>...</td>\n",
              "      <td>...</td>\n",
              "      <td>...</td>\n",
              "      <td>...</td>\n",
              "      <td>...</td>\n",
              "      <td>...</td>\n",
              "      <td>...</td>\n",
              "      <td>...</td>\n",
              "      <td>...</td>\n",
              "      <td>...</td>\n",
              "      <td>...</td>\n",
              "      <td>...</td>\n",
              "      <td>...</td>\n",
              "      <td>...</td>\n",
              "      <td>...</td>\n",
              "      <td>...</td>\n",
              "      <td>...</td>\n",
              "    </tr>\n",
              "    <tr>\n",
              "      <th>58155</th>\n",
              "      <td>58160</td>\n",
              "      <td>58153.0</td>\n",
              "      <td>2020-12-01 20:00:00+00:00</td>\n",
              "      <td>0.0</td>\n",
              "      <td>2020-12-01 19:15</td>\n",
              "      <td>51.80</td>\n",
              "      <td>14.60</td>\n",
              "      <td>M</td>\n",
              "      <td>M</td>\n",
              "      <td>310.00</td>\n",
              "      <td>726147.0</td>\n",
              "      <td>USGS</td>\n",
              "      <td>9405500.0</td>\n",
              "      <td>2020-12-01 20:00:00+00:00</td>\n",
              "      <td>MST</td>\n",
              "      <td>57.6</td>\n",
              "      <td>P</td>\n",
              "      <td>7.44</td>\n",
              "      <td>P</td>\n",
              "      <td>57.6</td>\n",
              "      <td>7.44</td>\n",
              "    </tr>\n",
              "    <tr>\n",
              "      <th>58156</th>\n",
              "      <td>58161</td>\n",
              "      <td>58154.0</td>\n",
              "      <td>2020-12-01 21:00:00+00:00</td>\n",
              "      <td>0.0</td>\n",
              "      <td>2020-12-01 20:15</td>\n",
              "      <td>53.60</td>\n",
              "      <td>14.60</td>\n",
              "      <td>M</td>\n",
              "      <td>M</td>\n",
              "      <td>260.00</td>\n",
              "      <td>726151.0</td>\n",
              "      <td>USGS</td>\n",
              "      <td>9405500.0</td>\n",
              "      <td>2020-12-01 21:00:00+00:00</td>\n",
              "      <td>MST</td>\n",
              "      <td>56.6</td>\n",
              "      <td>P</td>\n",
              "      <td>7.43</td>\n",
              "      <td>P</td>\n",
              "      <td>56.6</td>\n",
              "      <td>7.43</td>\n",
              "    </tr>\n",
              "    <tr>\n",
              "      <th>58157</th>\n",
              "      <td>58162</td>\n",
              "      <td>58155.0</td>\n",
              "      <td>2020-12-01 22:00:00+00:00</td>\n",
              "      <td>0.0</td>\n",
              "      <td>2020-12-01 21:15</td>\n",
              "      <td>53.60</td>\n",
              "      <td>14.60</td>\n",
              "      <td>M</td>\n",
              "      <td>M</td>\n",
              "      <td>300.00</td>\n",
              "      <td>726155.0</td>\n",
              "      <td>USGS</td>\n",
              "      <td>9405500.0</td>\n",
              "      <td>2020-12-01 22:00:00+00:00</td>\n",
              "      <td>MST</td>\n",
              "      <td>55.6</td>\n",
              "      <td>P</td>\n",
              "      <td>7.42</td>\n",
              "      <td>P</td>\n",
              "      <td>55.6</td>\n",
              "      <td>7.42</td>\n",
              "    </tr>\n",
              "    <tr>\n",
              "      <th>58158</th>\n",
              "      <td>58163</td>\n",
              "      <td>58156.0</td>\n",
              "      <td>2020-12-01 23:00:00+00:00</td>\n",
              "      <td>0.0</td>\n",
              "      <td>2020-12-01 22:15</td>\n",
              "      <td>53.00</td>\n",
              "      <td>14.00</td>\n",
              "      <td>M</td>\n",
              "      <td>M</td>\n",
              "      <td>300.00</td>\n",
              "      <td>726159.0</td>\n",
              "      <td>USGS</td>\n",
              "      <td>9405500.0</td>\n",
              "      <td>2020-12-01 23:00:00+00:00</td>\n",
              "      <td>MST</td>\n",
              "      <td>55.6</td>\n",
              "      <td>P</td>\n",
              "      <td>7.42</td>\n",
              "      <td>P</td>\n",
              "      <td>55.6</td>\n",
              "      <td>7.42</td>\n",
              "    </tr>\n",
              "    <tr>\n",
              "      <th>58159</th>\n",
              "      <td>58164</td>\n",
              "      <td>58157.0</td>\n",
              "      <td>2020-12-02 00:00:00+00:00</td>\n",
              "      <td>0.0</td>\n",
              "      <td>2020-12-01 23:15</td>\n",
              "      <td>50.00</td>\n",
              "      <td>13.40</td>\n",
              "      <td>M</td>\n",
              "      <td>M</td>\n",
              "      <td>300.00</td>\n",
              "      <td>726163.0</td>\n",
              "      <td>USGS</td>\n",
              "      <td>9405500.0</td>\n",
              "      <td>2020-12-02 00:00:00+00:00</td>\n",
              "      <td>MST</td>\n",
              "      <td>55.6</td>\n",
              "      <td>P</td>\n",
              "      <td>7.42</td>\n",
              "      <td>P</td>\n",
              "      <td>55.6</td>\n",
              "      <td>7.42</td>\n",
              "    </tr>\n",
              "  </tbody>\n",
              "</table>\n",
              "<p>57025 rows × 21 columns</p>\n",
              "</div>"
            ],
            "text/plain": [
              "       Unnamed: 0  Unnamed: 0_x  ...   cfs  height\n",
              "1000         1005        1005.0  ...  52.7    0.31\n",
              "1001         1006        1006.0  ...  52.7    0.31\n",
              "1002         1007        1007.0  ...  55.5    0.34\n",
              "1003         1008        1008.0  ...  55.5    0.34\n",
              "1004         1009        1009.0  ...  56.4    0.35\n",
              "...           ...           ...  ...   ...     ...\n",
              "58155       58160       58153.0  ...  57.6    7.44\n",
              "58156       58161       58154.0  ...  56.6    7.43\n",
              "58157       58162       58155.0  ...  55.6    7.42\n",
              "58158       58163       58156.0  ...  55.6    7.42\n",
              "58159       58164       58157.0  ...  55.6    7.42\n",
              "\n",
              "[57025 rows x 21 columns]"
            ]
          },
          "metadata": {
            "tags": []
          },
          "execution_count": 3
        }
      ]
    },
    {
      "cell_type": "code",
      "metadata": {
        "id": "ikT8JmucBtwK",
        "colab": {
          "base_uri": "https://localhost:8080/",
          "height": 1000
        },
        "outputId": "42b9bfd1-e087-4d91-ff6d-2680b76d6fe2"
      },
      "source": [
        "import os\n",
        "os.chdir('flow-forecast')\n",
        "!pip install pandas --upgrade --force\n",
        "!pip install -r  requirements.txt\n",
        "!python setup.py develop\n",
        "!mkdir data"
      ],
      "execution_count": null,
      "outputs": [
        {
          "output_type": "stream",
          "text": [
            "Collecting pandas\n",
            "\u001b[?25l  Downloading https://files.pythonhosted.org/packages/c3/e2/00cacecafbab071c787019f00ad84ca3185952f6bb9bca9550ed83870d4d/pandas-1.1.5-cp36-cp36m-manylinux1_x86_64.whl (9.5MB)\n",
            "\u001b[K     |████████████████████████████████| 9.5MB 4.4MB/s \n",
            "\u001b[?25hCollecting pytz>=2017.2\n",
            "\u001b[?25l  Downloading https://files.pythonhosted.org/packages/70/94/784178ca5dd892a98f113cdd923372024dc04b8d40abe77ca76b5fb90ca6/pytz-2021.1-py2.py3-none-any.whl (510kB)\n",
            "\u001b[K     |████████████████████████████████| 512kB 35.2MB/s \n",
            "\u001b[?25hCollecting python-dateutil>=2.7.3\n",
            "\u001b[?25l  Downloading https://files.pythonhosted.org/packages/d4/70/d60450c3dd48ef87586924207ae8907090de0b306af2bce5d134d78615cb/python_dateutil-2.8.1-py2.py3-none-any.whl (227kB)\n",
            "\u001b[K     |████████████████████████████████| 235kB 26.9MB/s \n",
            "\u001b[?25hCollecting numpy>=1.15.4\n",
            "\u001b[?25l  Downloading https://files.pythonhosted.org/packages/14/32/d3fa649ad7ec0b82737b92fefd3c4dd376b0bb23730715124569f38f3a08/numpy-1.19.5-cp36-cp36m-manylinux2010_x86_64.whl (14.8MB)\n",
            "\u001b[K     |████████████████████████████████| 14.8MB 203kB/s \n",
            "\u001b[?25hCollecting six>=1.5\n",
            "  Downloading https://files.pythonhosted.org/packages/ee/ff/48bde5c0f013094d729fe4b0316ba2a24774b3ff1c52d924a8a4cb04078a/six-1.15.0-py2.py3-none-any.whl\n",
            "\u001b[31mERROR: nbclient 0.5.2 has requirement jupyter-client>=6.1.5, but you'll have jupyter-client 5.3.5 which is incompatible.\u001b[0m\n",
            "\u001b[31mERROR: datascience 0.10.6 has requirement folium==0.2.1, but you'll have folium 0.8.3 which is incompatible.\u001b[0m\n",
            "\u001b[31mERROR: albumentations 0.1.12 has requirement imgaug<0.2.7,>=0.2.5, but you'll have imgaug 0.2.9 which is incompatible.\u001b[0m\n",
            "Installing collected packages: pytz, six, python-dateutil, numpy, pandas\n",
            "  Found existing installation: pytz 2018.9\n",
            "    Uninstalling pytz-2018.9:\n",
            "      Successfully uninstalled pytz-2018.9\n",
            "  Found existing installation: six 1.15.0\n",
            "    Uninstalling six-1.15.0:\n",
            "      Successfully uninstalled six-1.15.0\n",
            "  Found existing installation: python-dateutil 2.8.1\n",
            "    Uninstalling python-dateutil-2.8.1:\n",
            "      Successfully uninstalled python-dateutil-2.8.1\n",
            "  Found existing installation: numpy 1.19.5\n",
            "    Uninstalling numpy-1.19.5:\n",
            "      Successfully uninstalled numpy-1.19.5\n",
            "  Found existing installation: pandas 1.1.5\n",
            "    Uninstalling pandas-1.1.5:\n",
            "      Successfully uninstalled pandas-1.1.5\n",
            "Successfully installed numpy-1.19.5 pandas-1.1.5 python-dateutil-2.8.1 pytz-2021.1 six-1.15.0\n"
          ],
          "name": "stdout"
        },
        {
          "output_type": "display_data",
          "data": {
            "application/vnd.colab-display-data+json": {
              "pip_warning": {
                "packages": [
                  "dateutil",
                  "numpy",
                  "pandas",
                  "pytz",
                  "six"
                ]
              }
            }
          },
          "metadata": {
            "tags": []
          }
        },
        {
          "output_type": "stream",
          "text": [
            "Collecting shap~=0.35.0\n",
            "\u001b[?25l  Downloading https://files.pythonhosted.org/packages/a8/77/b504e43e21a2ba543a1ac4696718beb500cfa708af2fb57cb54ce299045c/shap-0.35.0.tar.gz (273kB)\n",
            "\u001b[K     |████████████████████████████████| 276kB 4.2MB/s \n",
            "\u001b[?25hCollecting scikit-learn>=0.23.0\n",
            "\u001b[?25l  Downloading https://files.pythonhosted.org/packages/e2/4c/6111b9a325f29527d7f262e2ee8c730d354b47a728d955e186dacad57a0d/scikit_learn-0.24.1-cp36-cp36m-manylinux2010_x86_64.whl (22.2MB)\n",
            "\u001b[K     |████████████████████████████████| 22.2MB 1.5MB/s \n",
            "\u001b[?25hRequirement already satisfied: pandas in /usr/local/lib/python3.6/dist-packages (from -r requirements.txt (line 3)) (1.1.5)\n",
            "Requirement already satisfied: torch in /usr/local/lib/python3.6/dist-packages (from -r requirements.txt (line 4)) (1.7.0+cu101)\n",
            "Collecting tb-nightly\n",
            "\u001b[?25l  Downloading https://files.pythonhosted.org/packages/2b/cf/e037dcffd3cd92a885d1ac2e0bc85e6fcafba71a9bfc5aa0110978399f3e/tb_nightly-2.5.0a20210213-py3-none-any.whl (5.9MB)\n",
            "\u001b[K     |████████████████████████████████| 5.9MB 35.3MB/s \n",
            "\u001b[?25hRequirement already satisfied: seaborn in /usr/local/lib/python3.6/dist-packages (from -r requirements.txt (line 6)) (0.11.1)\n",
            "Requirement already satisfied: future in /usr/local/lib/python3.6/dist-packages (from -r requirements.txt (line 7)) (0.16.0)\n",
            "Requirement already satisfied: h5py in /usr/local/lib/python3.6/dist-packages (from -r requirements.txt (line 8)) (2.10.0)\n",
            "Collecting wandb\n",
            "\u001b[?25l  Downloading https://files.pythonhosted.org/packages/e2/bc/30faacc936769d578fc4a3c1b1ef72333255cb86bd0035cd17cf9c157296/wandb-0.10.18-py2.py3-none-any.whl (2.0MB)\n",
            "\u001b[K     |████████████████████████████████| 2.0MB 42.7MB/s \n",
            "\u001b[?25hRequirement already satisfied: pandas_gbq in /usr/local/lib/python3.6/dist-packages (from -r requirements.txt (line 10)) (0.13.3)\n",
            "Collecting google-cloud\n",
            "  Downloading https://files.pythonhosted.org/packages/ba/b1/7c54d1950e7808df06642274e677dbcedba57f75307adf2e5ad8d39e5e0e/google_cloud-0.34.0-py2.py3-none-any.whl\n",
            "Requirement already satisfied: google-cloud-storage in /usr/local/lib/python3.6/dist-packages (from -r requirements.txt (line 12)) (1.18.1)\n",
            "Requirement already satisfied: pyyaml in /usr/local/lib/python3.6/dist-packages (from -r requirements.txt (line 13)) (3.13)\n",
            "Collecting plotly~=4.7.1\n",
            "\u001b[?25l  Downloading https://files.pythonhosted.org/packages/d7/78/eb6cbe96c8379c54819592bb228c58ed7386fcc60a55eca7db99432fdf14/plotly-4.7.1-py2.py3-none-any.whl (11.5MB)\n",
            "\u001b[K     |████████████████████████████████| 11.5MB 42.5MB/s \n",
            "\u001b[?25hCollecting pytz~=2020.1\n",
            "\u001b[?25l  Downloading https://files.pythonhosted.org/packages/89/06/2c2d3034b4d6bf22f2a4ae546d16925898658a33b4400cfb7e2c1e2871a3/pytz-2020.5-py2.py3-none-any.whl (510kB)\n",
            "\u001b[K     |████████████████████████████████| 512kB 38.1MB/s \n",
            "\u001b[?25hCollecting setuptools~=46.4.0\n",
            "\u001b[?25l  Downloading https://files.pythonhosted.org/packages/2c/c5/0d38afb961f83e0d51f319f7dc166195ebabc1ea3cb20a10a77f500f7156/setuptools-46.4.0-py3-none-any.whl (583kB)\n",
            "\u001b[K     |████████████████████████████████| 583kB 39.5MB/s \n",
            "\u001b[?25hCollecting numpy~=1.18.4\n",
            "\u001b[?25l  Downloading https://files.pythonhosted.org/packages/b3/a9/b1bc4c935ed063766bce7d3e8c7b20bd52e515ff1c732b02caacf7918e5a/numpy-1.18.5-cp36-cp36m-manylinux1_x86_64.whl (20.1MB)\n",
            "\u001b[K     |████████████████████████████████| 20.1MB 59.1MB/s \n",
            "\u001b[?25hRequirement already satisfied: requests~=2.23.0 in /usr/local/lib/python3.6/dist-packages (from -r requirements.txt (line 18)) (2.23.0)\n",
            "Collecting torchvision~=0.6.0\n",
            "\u001b[?25l  Downloading https://files.pythonhosted.org/packages/9a/f1/535a407b4a265adf2dd7c2c2458217e37c5fe83ec97234e66c564592a9a0/torchvision-0.6.1-cp36-cp36m-manylinux1_x86_64.whl (6.6MB)\n",
            "\u001b[K     |████████████████████████████████| 6.6MB 20.4MB/s \n",
            "\u001b[?25hCollecting mpld3~=0.3\n",
            "\u001b[?25l  Downloading https://files.pythonhosted.org/packages/7d/b4/f380b6d58658106870161d703972b74fc2e66317acf298f873c0816d1fb2/mpld3-0.5.2.tar.gz (888kB)\n",
            "\u001b[K     |████████████████████████████████| 890kB 39.6MB/s \n",
            "\u001b[?25hRequirement already satisfied: numba>=0.50 in /usr/local/lib/python3.6/dist-packages (from -r requirements.txt (line 21)) (0.51.2)\n",
            "Requirement already satisfied: sphinx in /usr/local/lib/python3.6/dist-packages (from -r requirements.txt (line 22)) (1.8.5)\n",
            "Collecting sphinx-rtd-theme\n",
            "\u001b[?25l  Downloading https://files.pythonhosted.org/packages/76/81/d5af3a50a45ee4311ac2dac5b599d69f68388401c7a4ca902e0e450a9f94/sphinx_rtd_theme-0.5.1-py2.py3-none-any.whl (2.8MB)\n",
            "\u001b[K     |████████████████████████████████| 2.8MB 37.9MB/s \n",
            "\u001b[?25hCollecting sphinx-autodoc-typehints\n",
            "  Downloading https://files.pythonhosted.org/packages/86/d3/554cf6d1f88ace1f086912818247e7ee79222fd99128f1a0a477c2ba8131/sphinx_autodoc_typehints-1.11.1-py3-none-any.whl\n",
            "Requirement already satisfied: scipy in /usr/local/lib/python3.6/dist-packages (from shap~=0.35.0->-r requirements.txt (line 1)) (1.4.1)\n",
            "Requirement already satisfied: tqdm>4.25.0 in /usr/local/lib/python3.6/dist-packages (from shap~=0.35.0->-r requirements.txt (line 1)) (4.41.1)\n",
            "Collecting threadpoolctl>=2.0.0\n",
            "  Downloading https://files.pythonhosted.org/packages/f7/12/ec3f2e203afa394a149911729357aa48affc59c20e2c1c8297a60f33f133/threadpoolctl-2.1.0-py3-none-any.whl\n",
            "Requirement already satisfied: joblib>=0.11 in /usr/local/lib/python3.6/dist-packages (from scikit-learn>=0.23.0->-r requirements.txt (line 2)) (1.0.0)\n",
            "Requirement already satisfied: python-dateutil>=2.7.3 in /usr/local/lib/python3.6/dist-packages (from pandas->-r requirements.txt (line 3)) (2.8.1)\n",
            "Requirement already satisfied: typing-extensions in /usr/local/lib/python3.6/dist-packages (from torch->-r requirements.txt (line 4)) (3.7.4.3)\n",
            "Requirement already satisfied: dataclasses in /usr/local/lib/python3.6/dist-packages (from torch->-r requirements.txt (line 4)) (0.8)\n",
            "Requirement already satisfied: protobuf>=3.6.0 in /usr/local/lib/python3.6/dist-packages (from tb-nightly->-r requirements.txt (line 5)) (3.12.4)\n",
            "Requirement already satisfied: wheel>=0.26; python_version >= \"3\" in /usr/local/lib/python3.6/dist-packages (from tb-nightly->-r requirements.txt (line 5)) (0.36.2)\n",
            "Requirement already satisfied: markdown>=2.6.8 in /usr/local/lib/python3.6/dist-packages (from tb-nightly->-r requirements.txt (line 5)) (3.3.3)\n",
            "Requirement already satisfied: google-auth-oauthlib<0.5,>=0.4.1 in /usr/local/lib/python3.6/dist-packages (from tb-nightly->-r requirements.txt (line 5)) (0.4.2)\n",
            "Requirement already satisfied: google-auth<2,>=1.6.3 in /usr/local/lib/python3.6/dist-packages (from tb-nightly->-r requirements.txt (line 5)) (1.25.0)\n",
            "Collecting tensorboard-data-server<0.4.0,>=0.3.0\n",
            "\u001b[?25l  Downloading https://files.pythonhosted.org/packages/f2/6f/a1a04f6aece9cdabe80fba01241e76172380753801e34ad50d482fbde0c0/tensorboard_data_server-0.3.0-py3-none-manylinux2010_x86_64.whl (3.8MB)\n",
            "\u001b[K     |████████████████████████████████| 3.8MB 35.4MB/s \n",
            "\u001b[?25hRequirement already satisfied: grpcio>=1.24.3 in /usr/local/lib/python3.6/dist-packages (from tb-nightly->-r requirements.txt (line 5)) (1.32.0)\n",
            "Requirement already satisfied: tensorboard-plugin-wit>=1.6.0 in /usr/local/lib/python3.6/dist-packages (from tb-nightly->-r requirements.txt (line 5)) (1.8.0)\n",
            "Requirement already satisfied: werkzeug>=0.11.15 in /usr/local/lib/python3.6/dist-packages (from tb-nightly->-r requirements.txt (line 5)) (1.0.1)\n",
            "Requirement already satisfied: absl-py>=0.4 in /usr/local/lib/python3.6/dist-packages (from tb-nightly->-r requirements.txt (line 5)) (0.10.0)\n",
            "Requirement already satisfied: matplotlib>=2.2 in /usr/local/lib/python3.6/dist-packages (from seaborn->-r requirements.txt (line 6)) (3.2.2)\n",
            "Requirement already satisfied: six in /usr/local/lib/python3.6/dist-packages (from h5py->-r requirements.txt (line 8)) (1.15.0)\n",
            "Requirement already satisfied: psutil>=5.0.0 in /usr/local/lib/python3.6/dist-packages (from wandb->-r requirements.txt (line 9)) (5.4.8)\n",
            "Collecting shortuuid>=0.5.0\n",
            "  Downloading https://files.pythonhosted.org/packages/25/a6/2ecc1daa6a304e7f1b216f0896b26156b78e7c38e1211e9b798b4716c53d/shortuuid-1.0.1-py3-none-any.whl\n",
            "Collecting sentry-sdk>=0.4.0\n",
            "\u001b[?25l  Downloading https://files.pythonhosted.org/packages/30/94/e667bf447ee354c271cc57be776eced0f0efebdb719481ef0f362803f192/sentry-sdk-0.20.1.tar.gz (99kB)\n",
            "\u001b[K     |████████████████████████████████| 102kB 10.5MB/s \n",
            "\u001b[?25hRequirement already satisfied: promise<3,>=2.0 in /usr/local/lib/python3.6/dist-packages (from wandb->-r requirements.txt (line 9)) (2.3)\n",
            "Collecting configparser>=3.8.1\n",
            "  Downloading https://files.pythonhosted.org/packages/08/b2/ef713e0e67f6e7ec7d59aea3ee78d05b39c15930057e724cc6d362a8c3bb/configparser-5.0.1-py3-none-any.whl\n",
            "Collecting pathtools\n",
            "  Downloading https://files.pythonhosted.org/packages/e7/7f/470d6fcdf23f9f3518f6b0b76be9df16dcc8630ad409947f8be2eb0ed13a/pathtools-0.1.2.tar.gz\n",
            "Collecting subprocess32>=3.5.3\n",
            "\u001b[?25l  Downloading https://files.pythonhosted.org/packages/32/c8/564be4d12629b912ea431f1a50eb8b3b9d00f1a0b1ceff17f266be190007/subprocess32-3.5.4.tar.gz (97kB)\n",
            "\u001b[K     |████████████████████████████████| 102kB 10.6MB/s \n",
            "\u001b[?25hRequirement already satisfied: Click>=7.0 in /usr/local/lib/python3.6/dist-packages (from wandb->-r requirements.txt (line 9)) (7.1.2)\n",
            "Collecting GitPython>=1.0.0\n",
            "\u001b[?25l  Downloading https://files.pythonhosted.org/packages/fb/67/47a04d8a9d7f94645676fe683f1ee3fe9be01fe407686c180768a92abaac/GitPython-3.1.13-py3-none-any.whl (159kB)\n",
            "\u001b[K     |████████████████████████████████| 163kB 44.2MB/s \n",
            "\u001b[?25hCollecting docker-pycreds>=0.4.0\n",
            "  Downloading https://files.pythonhosted.org/packages/f5/e8/f6bd1eee09314e7e6dee49cbe2c5e22314ccdb38db16c9fc72d2fa80d054/docker_pycreds-0.4.0-py2.py3-none-any.whl\n",
            "Requirement already satisfied: google-cloud-bigquery[bqstorage,pandas]<2.0.0dev,>=1.11.1 in /usr/local/lib/python3.6/dist-packages (from pandas_gbq->-r requirements.txt (line 10)) (1.21.0)\n",
            "Requirement already satisfied: pydata-google-auth in /usr/local/lib/python3.6/dist-packages (from pandas_gbq->-r requirements.txt (line 10)) (1.1.0)\n",
            "Requirement already satisfied: google-cloud-core<2.0dev,>=1.0.0 in /usr/local/lib/python3.6/dist-packages (from google-cloud-storage->-r requirements.txt (line 12)) (1.0.3)\n",
            "Requirement already satisfied: google-resumable-media<0.5.0dev,>=0.3.1 in /usr/local/lib/python3.6/dist-packages (from google-cloud-storage->-r requirements.txt (line 12)) (0.4.1)\n",
            "Requirement already satisfied: retrying>=1.3.3 in /usr/local/lib/python3.6/dist-packages (from plotly~=4.7.1->-r requirements.txt (line 14)) (1.3.3)\n",
            "Requirement already satisfied: idna<3,>=2.5 in /usr/local/lib/python3.6/dist-packages (from requests~=2.23.0->-r requirements.txt (line 18)) (2.10)\n",
            "Requirement already satisfied: certifi>=2017.4.17 in /usr/local/lib/python3.6/dist-packages (from requests~=2.23.0->-r requirements.txt (line 18)) (2020.12.5)\n",
            "Requirement already satisfied: chardet<4,>=3.0.2 in /usr/local/lib/python3.6/dist-packages (from requests~=2.23.0->-r requirements.txt (line 18)) (3.0.4)\n",
            "Requirement already satisfied: urllib3!=1.25.0,!=1.25.1,<1.26,>=1.21.1 in /usr/local/lib/python3.6/dist-packages (from requests~=2.23.0->-r requirements.txt (line 18)) (1.24.3)\n",
            "Requirement already satisfied: pillow>=4.1.1 in /usr/local/lib/python3.6/dist-packages (from torchvision~=0.6.0->-r requirements.txt (line 19)) (7.0.0)\n",
            "Requirement already satisfied: jinja2 in /usr/local/lib/python3.6/dist-packages (from mpld3~=0.3->-r requirements.txt (line 20)) (2.11.3)\n",
            "Requirement already satisfied: llvmlite<0.35,>=0.34.0.dev0 in /usr/local/lib/python3.6/dist-packages (from numba>=0.50->-r requirements.txt (line 21)) (0.34.0)\n",
            "Requirement already satisfied: babel!=2.0,>=1.3 in /usr/local/lib/python3.6/dist-packages (from sphinx->-r requirements.txt (line 22)) (2.9.0)\n",
            "Requirement already satisfied: alabaster<0.8,>=0.7 in /usr/local/lib/python3.6/dist-packages (from sphinx->-r requirements.txt (line 22)) (0.7.12)\n",
            "Requirement already satisfied: docutils>=0.11 in /usr/local/lib/python3.6/dist-packages (from sphinx->-r requirements.txt (line 22)) (0.16)\n",
            "Requirement already satisfied: Pygments>=2.0 in /usr/local/lib/python3.6/dist-packages (from sphinx->-r requirements.txt (line 22)) (2.6.1)\n",
            "Requirement already satisfied: packaging in /usr/local/lib/python3.6/dist-packages (from sphinx->-r requirements.txt (line 22)) (20.9)\n",
            "Requirement already satisfied: imagesize in /usr/local/lib/python3.6/dist-packages (from sphinx->-r requirements.txt (line 22)) (1.2.0)\n",
            "Requirement already satisfied: sphinxcontrib-websupport in /usr/local/lib/python3.6/dist-packages (from sphinx->-r requirements.txt (line 22)) (1.2.4)\n",
            "Requirement already satisfied: snowballstemmer>=1.1 in /usr/local/lib/python3.6/dist-packages (from sphinx->-r requirements.txt (line 22)) (2.1.0)\n",
            "Requirement already satisfied: importlib-metadata; python_version < \"3.8\" in /usr/local/lib/python3.6/dist-packages (from markdown>=2.6.8->tb-nightly->-r requirements.txt (line 5)) (3.4.0)\n",
            "Requirement already satisfied: requests-oauthlib>=0.7.0 in /usr/local/lib/python3.6/dist-packages (from google-auth-oauthlib<0.5,>=0.4.1->tb-nightly->-r requirements.txt (line 5)) (1.3.0)\n",
            "Requirement already satisfied: rsa<5,>=3.1.4; python_version >= \"3.6\" in /usr/local/lib/python3.6/dist-packages (from google-auth<2,>=1.6.3->tb-nightly->-r requirements.txt (line 5)) (4.7)\n",
            "Requirement already satisfied: pyasn1-modules>=0.2.1 in /usr/local/lib/python3.6/dist-packages (from google-auth<2,>=1.6.3->tb-nightly->-r requirements.txt (line 5)) (0.2.8)\n",
            "Requirement already satisfied: cachetools<5.0,>=2.0.0 in /usr/local/lib/python3.6/dist-packages (from google-auth<2,>=1.6.3->tb-nightly->-r requirements.txt (line 5)) (4.2.1)\n",
            "Requirement already satisfied: kiwisolver>=1.0.1 in /usr/local/lib/python3.6/dist-packages (from matplotlib>=2.2->seaborn->-r requirements.txt (line 6)) (1.3.1)\n",
            "Requirement already satisfied: pyparsing!=2.0.4,!=2.1.2,!=2.1.6,>=2.0.1 in /usr/local/lib/python3.6/dist-packages (from matplotlib>=2.2->seaborn->-r requirements.txt (line 6)) (2.4.7)\n",
            "Requirement already satisfied: cycler>=0.10 in /usr/local/lib/python3.6/dist-packages (from matplotlib>=2.2->seaborn->-r requirements.txt (line 6)) (0.10.0)\n",
            "Collecting gitdb<5,>=4.0.1\n",
            "\u001b[?25l  Downloading https://files.pythonhosted.org/packages/48/11/d1800bca0a3bae820b84b7d813ad1eff15a48a64caea9c823fc8c1b119e8/gitdb-4.0.5-py3-none-any.whl (63kB)\n",
            "\u001b[K     |████████████████████████████████| 71kB 7.5MB/s \n",
            "\u001b[?25hRequirement already satisfied: google-cloud-bigquery-storage<2.0.0dev,>=0.6.0; extra == \"bqstorage\" in /usr/local/lib/python3.6/dist-packages (from google-cloud-bigquery[bqstorage,pandas]<2.0.0dev,>=1.11.1->pandas_gbq->-r requirements.txt (line 10)) (1.1.0)\n",
            "Requirement already satisfied: pyarrow!=0.14.0,>=0.13.0; extra == \"bqstorage\" in /usr/local/lib/python3.6/dist-packages (from google-cloud-bigquery[bqstorage,pandas]<2.0.0dev,>=1.11.1->pandas_gbq->-r requirements.txt (line 10)) (0.14.1)\n",
            "Requirement already satisfied: google-api-core<2.0.0dev,>=1.14.0 in /usr/local/lib/python3.6/dist-packages (from google-cloud-core<2.0dev,>=1.0.0->google-cloud-storage->-r requirements.txt (line 12)) (1.16.0)\n",
            "Requirement already satisfied: MarkupSafe>=0.23 in /usr/local/lib/python3.6/dist-packages (from jinja2->mpld3~=0.3->-r requirements.txt (line 20)) (1.1.1)\n",
            "Requirement already satisfied: sphinxcontrib-serializinghtml in /usr/local/lib/python3.6/dist-packages (from sphinxcontrib-websupport->sphinx->-r requirements.txt (line 22)) (1.1.4)\n",
            "Requirement already satisfied: zipp>=0.5 in /usr/local/lib/python3.6/dist-packages (from importlib-metadata; python_version < \"3.8\"->markdown>=2.6.8->tb-nightly->-r requirements.txt (line 5)) (3.4.0)\n",
            "Requirement already satisfied: oauthlib>=3.0.0 in /usr/local/lib/python3.6/dist-packages (from requests-oauthlib>=0.7.0->google-auth-oauthlib<0.5,>=0.4.1->tb-nightly->-r requirements.txt (line 5)) (3.1.0)\n",
            "Requirement already satisfied: pyasn1>=0.1.3 in /usr/local/lib/python3.6/dist-packages (from rsa<5,>=3.1.4; python_version >= \"3.6\"->google-auth<2,>=1.6.3->tb-nightly->-r requirements.txt (line 5)) (0.4.8)\n",
            "Collecting smmap<4,>=3.0.1\n",
            "  Downloading https://files.pythonhosted.org/packages/d5/1e/6130925131f639b2acde0f7f18b73e33ce082ff2d90783c436b52040af5a/smmap-3.0.5-py2.py3-none-any.whl\n",
            "Requirement already satisfied: googleapis-common-protos<2.0dev,>=1.6.0 in /usr/local/lib/python3.6/dist-packages (from google-api-core<2.0.0dev,>=1.14.0->google-cloud-core<2.0dev,>=1.0.0->google-cloud-storage->-r requirements.txt (line 12)) (1.52.0)\n",
            "Building wheels for collected packages: shap, mpld3, sentry-sdk, pathtools, subprocess32\n",
            "  Building wheel for shap (setup.py) ... \u001b[?25l\u001b[?25hdone\n",
            "  Created wheel for shap: filename=shap-0.35.0-cp36-cp36m-linux_x86_64.whl size=394118 sha256=8846063964258f4bf324a668269f3a20ec7b0f5177e1e83c7ad540c7aacaa93c\n",
            "  Stored in directory: /root/.cache/pip/wheels/e7/f7/0f/b57055080cf8894906b3bd3616d2fc2bfd0b12d5161bcb24ac\n",
            "  Building wheel for mpld3 (setup.py) ... \u001b[?25l\u001b[?25hdone\n",
            "  Created wheel for mpld3: filename=mpld3-0.5.2-cp36-none-any.whl size=200618 sha256=7959124e8d2d82dda95f07800a4016e2b1ebca71e5df8bd30c64323ae71495fe\n",
            "  Stored in directory: /root/.cache/pip/wheels/21/73/06/ea4b85609301850b1289a282852d92e22fcbf7a250ed5f547f\n",
            "  Building wheel for sentry-sdk (setup.py) ... \u001b[?25l\u001b[?25hdone\n",
            "  Created wheel for sentry-sdk: filename=sentry_sdk-0.20.1-py2.py3-none-any.whl size=131024 sha256=4345d09d8a28f8b156b48b539a32ad4b9da7a155b68f0a80e7faa0a70a858969\n",
            "  Stored in directory: /root/.cache/pip/wheels/6c/21/56/985437b1fd9e45710c7d08fbc7c607542e56975e6f3d11941e\n",
            "  Building wheel for pathtools (setup.py) ... \u001b[?25l\u001b[?25hdone\n",
            "  Created wheel for pathtools: filename=pathtools-0.1.2-cp36-none-any.whl size=8785 sha256=122f6fbef93b49f6436a30b7af014b1e940961f7c11b28c9361481885a2c84ed\n",
            "  Stored in directory: /root/.cache/pip/wheels/0b/04/79/c3b0c3a0266a3cb4376da31e5bfe8bba0c489246968a68e843\n",
            "  Building wheel for subprocess32 (setup.py) ... \u001b[?25l\u001b[?25hdone\n",
            "  Created wheel for subprocess32: filename=subprocess32-3.5.4-cp36-none-any.whl size=6490 sha256=bb72ddc01663b4028b83f2bd5b2206ff3930cb7c27b205b567c0c27b379a4af4\n",
            "  Stored in directory: /root/.cache/pip/wheels/68/39/1a/5e402bdfdf004af1786c8b853fd92f8c4a04f22aad179654d1\n",
            "Successfully built shap mpld3 sentry-sdk pathtools subprocess32\n",
            "\u001b[31mERROR: torchvision 0.6.1 has requirement torch==1.5.1, but you'll have torch 1.7.0+cu101 which is incompatible.\u001b[0m\n",
            "\u001b[31mERROR: tensorflow 2.4.1 has requirement numpy~=1.19.2, but you'll have numpy 1.18.5 which is incompatible.\u001b[0m\n",
            "\u001b[31mERROR: datascience 0.10.6 has requirement folium==0.2.1, but you'll have folium 0.8.3 which is incompatible.\u001b[0m\n",
            "\u001b[31mERROR: albumentations 0.1.12 has requirement imgaug<0.2.7,>=0.2.5, but you'll have imgaug 0.2.9 which is incompatible.\u001b[0m\n",
            "\u001b[31mERROR: sphinx-autodoc-typehints 1.11.1 has requirement Sphinx>=3.0, but you'll have sphinx 1.8.5 which is incompatible.\u001b[0m\n",
            "Installing collected packages: numpy, threadpoolctl, scikit-learn, shap, setuptools, tensorboard-data-server, tb-nightly, shortuuid, sentry-sdk, configparser, pathtools, subprocess32, smmap, gitdb, GitPython, docker-pycreds, wandb, google-cloud, plotly, pytz, torchvision, mpld3, sphinx-rtd-theme, sphinx-autodoc-typehints\n",
            "  Found existing installation: numpy 1.19.5\n",
            "    Uninstalling numpy-1.19.5:\n",
            "      Successfully uninstalled numpy-1.19.5\n",
            "  Found existing installation: scikit-learn 0.22.2.post1\n",
            "    Uninstalling scikit-learn-0.22.2.post1:\n",
            "      Successfully uninstalled scikit-learn-0.22.2.post1\n",
            "  Found existing installation: setuptools 53.0.0\n",
            "    Uninstalling setuptools-53.0.0:\n",
            "      Successfully uninstalled setuptools-53.0.0\n",
            "  Found existing installation: plotly 4.4.1\n",
            "    Uninstalling plotly-4.4.1:\n",
            "      Successfully uninstalled plotly-4.4.1\n",
            "  Found existing installation: pytz 2021.1\n",
            "    Uninstalling pytz-2021.1:\n",
            "      Successfully uninstalled pytz-2021.1\n",
            "  Found existing installation: torchvision 0.8.1+cu101\n",
            "    Uninstalling torchvision-0.8.1+cu101:\n",
            "      Successfully uninstalled torchvision-0.8.1+cu101\n",
            "Successfully installed GitPython-3.1.13 configparser-5.0.1 docker-pycreds-0.4.0 gitdb-4.0.5 google-cloud-0.34.0 mpld3-0.5.2 numpy-1.18.5 pathtools-0.1.2 plotly-4.7.1 pytz-2020.5 scikit-learn-0.24.1 sentry-sdk-0.20.1 setuptools-46.4.0 shap-0.35.0 shortuuid-1.0.1 smmap-3.0.5 sphinx-autodoc-typehints-1.11.1 sphinx-rtd-theme-0.5.1 subprocess32-3.5.4 tb-nightly-2.5.0a20210213 tensorboard-data-server-0.3.0 threadpoolctl-2.1.0 torchvision-0.6.1 wandb-0.10.18\n"
          ],
          "name": "stdout"
        },
        {
          "output_type": "display_data",
          "data": {
            "application/vnd.colab-display-data+json": {
              "pip_warning": {
                "packages": [
                  "numpy",
                  "pkg_resources",
                  "pytz"
                ]
              }
            }
          },
          "metadata": {
            "tags": []
          }
        },
        {
          "output_type": "stream",
          "text": [
            "/usr/local/lib/python3.6/dist-packages/setuptools/dist.py:454: UserWarning: Normalizing '0.95dev' to '0.95.dev0'\n",
            "  warnings.warn(tmpl.format(**locals()))\n",
            "running develop\n",
            "running egg_info\n",
            "creating flood_forecast.egg-info\n",
            "writing flood_forecast.egg-info/PKG-INFO\n",
            "writing dependency_links to flood_forecast.egg-info/dependency_links.txt\n",
            "writing requirements to flood_forecast.egg-info/requires.txt\n",
            "writing top-level names to flood_forecast.egg-info/top_level.txt\n",
            "writing manifest file 'flood_forecast.egg-info/SOURCES.txt'\n",
            "package init file 'flood_forecast/__init__.py' not found (or not a regular file)\n",
            "package init file 'flood_forecast/transformer_xl/__init__.py' not found (or not a regular file)\n",
            "package init file 'flood_forecast/preprocessing/__init__.py' not found (or not a regular file)\n",
            "package init file 'flood_forecast/da_rnn/__init__.py' not found (or not a regular file)\n",
            "package init file 'flood_forecast/basic/__init__.py' not found (or not a regular file)\n",
            "package init file 'flood_forecast/meta_models/__init__.py' not found (or not a regular file)\n",
            "package init file 'flood_forecast/gcp_integration/__init__.py' not found (or not a regular file)\n",
            "package init file 'flood_forecast/deployment/__init__.py' not found (or not a regular file)\n",
            "package init file 'flood_forecast/custom/__init__.py' not found (or not a regular file)\n",
            "writing manifest file 'flood_forecast.egg-info/SOURCES.txt'\n",
            "running build_ext\n",
            "Creating /usr/local/lib/python3.6/dist-packages/flood-forecast.egg-link (link to .)\n",
            "Adding flood-forecast 0.95.dev0 to easy-install.pth file\n",
            "\n",
            "Installed /content/flow-forecast\n",
            "Processing dependencies for flood-forecast==0.95.dev0\n",
            "error: Sphinx 1.8.5 is installed but Sphinx>=3.0 is required by {'sphinx-autodoc-typehints'}\n"
          ],
          "name": "stdout"
        }
      ]
    },
    {
      "cell_type": "code",
      "metadata": {
        "colab": {
          "base_uri": "https://localhost:8080/"
        },
        "id": "As1lsyvyBxfb",
        "outputId": "4a450ea4-534b-4f80-c810-1750eb00a697"
      },
      "source": [
        "!wandb login\n",
        "os.environ['MODEL_BUCKET'] = \"predict_cfs\"\n",
        "os.environ[\"ENVIRONMENT_GCP\"] = \"Colab\"\n",
        "os.environ[\"GCP_PROJECT\"] = \"gmap-997\""
      ],
      "execution_count": null,
      "outputs": [
        {
          "output_type": "stream",
          "text": [
            "\u001b[34m\u001b[1mwandb\u001b[0m: You can find your API key in your browser here: https://wandb.ai/authorize\n",
            "\u001b[34m\u001b[1mwandb\u001b[0m: Paste an API key from your profile and hit enter: \n",
            "\u001b[34m\u001b[1mwandb\u001b[0m: Appending key for api.wandb.ai to your netrc file: /root/.netrc\n"
          ],
          "name": "stdout"
        }
      ]
    },
    {
      "cell_type": "code",
      "metadata": {
        "id": "32crDt2qB7KC"
      },
      "source": [
        "\n",
        "import json\n",
        "import os\n",
        "import subprocess as subp\n",
        "from flood_forecast.trainer import train_function\n",
        "import traceback\n",
        "from flood_forecast.long_train import split_on_letter\n",
        "\n",
        "#!gsutil cp -r add_thing2 gs://predict_cfs/day_addition\n",
        "def loop_through(data_dir:str, interrmittent_gcs=False, use_transfer=True, start_index=0, end_index=25): \n",
        "  \"\"\"\n",
        "  Function that makes and executes a set of config files\n",
        "  This is since we have over 9k files.\n",
        "  \"\"\"\n",
        "  if not os.path.exists(\"model_save\"):\n",
        "    os.mkdir(\"model_save\")\n",
        "  sorted_dir_list = sorted(os.listdir(data_dir))\n",
        "  #total = len(sorted_dir_list)\n",
        "  previous_gage = \"\"\n",
        "  prev_config = {\"pretrained_rivers\":[]}\n",
        "  for i in range(start_index, end_index):\n",
        "      file_name = sorted_dir_list[i]\n",
        "      station_id_gage = file_name.split(\"_flow.csv\")[0]\n",
        "      res = split_on_letter(station_id_gage)\n",
        "      gage_id = res[0]\n",
        "      station_id = res[1]\n",
        "      file_path_name = os.path.join(data_dir, file_name)\n",
        "      correct_file = None\n",
        "      if use_transfer and len(os.listdir(\"model_save\")) >0:\n",
        "        print(\"Utilizing transfer learning\")\n",
        "        weight_files = filter(lambda x: x.endswith(\".pth\"), os.listdir(\"model_save\"))\n",
        "        paths = [] \n",
        "        for weight_file in weight_files:\n",
        "             paths.append(os.path.join(\"model_save\", weight_file)) \n",
        "        correct_file = max(paths, key = os.path.getctime)\n",
        "        prev_config[\"pretrained_rivers\"].append(previous_gage)\n",
        "      sweep_full = wandb.sweep(wandb_sweep_config_full, project=\"github_aistream-peelout_flow-forecast\")\n",
        "      #sweep_id = \"21i08e3p\"\n",
        "      wandb.agent(sweep_full, lambda:train_function(\"PyTorch\", make_config_file(file_path_name, gage_id, station_id, correct_file, prev_config[\"pretrained_rivers\"])))\n",
        "      full_config = make_config_file(file_path_name, gage_id, station_id, correct_file, prev_config[\"pretrained_rivers\"])\n",
        "      try: \n",
        "        #model = train_function(\"PyTorch\", config)\n",
        "        print(\"temp disable\")\n",
        "      except Exception as e:\n",
        "        print(\"An exception occured for: \" + file_name_json)\n",
        "        traceback.print_exc()\n",
        "        print(e)\n",
        "      previous_gage = gage_id\n",
        "\n",
        "def make_config_file(flow_file_path, gage_id, station_id, weight_path=None, pretrained=[]):\n",
        "  run = wandb.init(project=\"github_aistream-peelout_flow-forecast\")\n",
        "  wandb_config = run.config\n",
        "  the_wandb_c = run.config\n",
        "  print(wandb_config)\n",
        "  the_config4 =  {\"model_name\": \"CustomTransformerDecoder\",\n",
        "    \"model_type\": \"PyTorch\",\n",
        "    \"model_params\": {\n",
        "        \"dropout\":wandb_config[\"dropout\"],\n",
        "        \"seq_length\":wandb_config[\"forecast_history\"],\n",
        "        \"n_time_series\":8,\n",
        "        \"output_seq_length\":wandb_config[\"forecast_length\"],\n",
        "        \"n_layers_encoder\": wandb_config[\"number_encoder_layers\"],\n",
        "        \"use_mask\": wandb_config[\"use_mask\"]\n",
        "    },\n",
        "    \"dataset_params\":\n",
        "    {  \"class\": \"default\",\n",
        "       \"no_scale\": True,\n",
        "       \"num_workers\":12,\n",
        "       \"pin_memory\": True,\n",
        "       \"training_path\": flow_file_path,\n",
        "       \"validation_path\": flow_file_path,\n",
        "       \"test_path\": flow_file_path,\n",
        "       \"batch_size\":wandb_config[\"batch_size\"],\n",
        "       \"forecast_test_len\":100,\n",
        "       \"forecast_history\":wandb_config[\"forecast_history\"],\n",
        "       \"forecast_length\":wandb_config[\"forecast_length\"],\n",
        "       \"scaler\": \"StandardScaler\",\n",
        "       \"train_start\":1000,\n",
        "       \"train_end\": 50000,\n",
        "       \"valid_start\":50001,\n",
        "       \"valid_end\": 57000,\n",
        "       \"sort_column\": \"hour_updated\",\n",
        "       \"test_start\": 57000,\n",
        "       \"test_end\":58000,\n",
        "       \"target_col\": [\"cfs\"],\n",
        "       \"relevant_cols\": [\"cfs\", \"tmpf\", \"p01m\", \"dwpf\"], \n",
        "       \"interpolate\":{\n",
        "           \"method\":\"back_forward_generic\",\n",
        "           \"params\":{\n",
        "               \"relevant_columns\":[\"cfs\", \"tmpf\", \"p01m\", \"dwpf\"]\n",
        "           }\n",
        "\n",
        "       },\n",
        "     \"feature_param\":\n",
        "     {\n",
        "         \"datetime_params\":{\n",
        "            \"hour\":\"cyclical\",\n",
        "            \"month\": \"cyclical\"\n",
        "         }\n",
        "     }\n",
        "    },\n",
        "    \"training_params\":\n",
        "    {\n",
        "       \"criterion\":\"MAPE\",\n",
        "       \"optimizer\": \"SGD\",\n",
        "       #\"criterion_params\":{\"baseline_method\":\"mean\"},\n",
        "    \"optim_params\":{\n",
        "       \"lr\": the_wandb_c[\"lr\"]\n",
        "    },\n",
        "       \"epochs\": 10,\n",
        "       \"batch_size\":wandb_config[\"batch_size\"]\n",
        "    },\n",
        "    \"early_stopping\":{\n",
        "        \"patience\":3\n",
        "    },\n",
        "    \"GCS\": True,\n",
        "    \"sweep\":True,\n",
        "    \"wandb\":False,\n",
        "    \"forward_params\":{},\n",
        "   \"metrics\":[\"MSE\", \"DilateLoss\"],\n",
        "   \"inference_params\":\n",
        "   {     \n",
        "         \"datetime_start\":\"2020-05-31\",\n",
        "          \"hours_to_forecast\":336, \n",
        "          \"num_prediction_samples\": 20,\n",
        "          \"test_csv_path\":flow_file_path,\n",
        "          \"decoder_params\":{\n",
        "            \"decoder_function\": \"simple_decode\", \n",
        "            \"unsqueeze_dim\": 1},\n",
        "          \"dataset_params\":{\n",
        "             \"file_path\": flow_file_path,\n",
        "             \"sort_column\": \"hour_updated\",\n",
        "             \"scaling\": \"StandardScaler\",\n",
        "             \"forecast_history\": wandb_config[\"forecast_history\"],\n",
        "             \"forecast_length\":wandb_config[\"forecast_length\"],\n",
        "             \"relevant_cols\": [\"cfs\", \"tmpf\", \"p01m\", \"dwpf\"],\n",
        "             \"target_col\": [\"cfs\"],\n",
        "             \"interpolate_param\":{\n",
        "                 \"method\":\"back_forward_generic\",\n",
        "                 \"params\":{\"relevant_columns\":[\"cfs\", \"tmpf\", \"p01m\", \"dwpf\"]}\n",
        "                 }, \n",
        "            \"feature_params\":\n",
        "        {\n",
        "         \"datetime_params\":{\n",
        "            \"hour\":\"cyclical\",\n",
        "            \"month\": \"cyclical\"\n",
        "         \n",
        "     }\n",
        "             }\n",
        "          }\n",
        "          } \n",
        "    }\n",
        "\n",
        "      \n",
        "  if weight_path:\n",
        "    the_config4[\"weight_path\"] = weight_path\n",
        "  wandb.config.update(the_config4)\n",
        "  print(\"config made\")\n",
        "  return the_config4\n",
        "  \n",
        "wandb_sweep_config_full = {\n",
        "  \"name\": \"Default sweep\",\n",
        "  \"method\": \"grid\",\n",
        "  \"parameters\": {\n",
        "        \"batch_size\": {\n",
        "            \"values\": [100, 250, 400]\n",
        "        },\n",
        "        \"lr\":{\n",
        "            \"values\":[0.001, 0.0001]\n",
        "        },\n",
        "        \"forecast_history\":{\n",
        "            \"values\":[5, 20, 24, 40]\n",
        "        },\n",
        "        \"forecast_length\":{\n",
        "            \"values\":[1, 5, 10]\n",
        "        },\n",
        "        \"number_encoder_layers\":\n",
        "        {\n",
        "            \"values\":[5, 6]\n",
        "        }, \n",
        "        \"dropout\":\n",
        "        {\n",
        "            \"values\":[0.4, 0.7]\n",
        "        },\n",
        "        \"use_mask\":{\n",
        "            \"values\":[True, False]\n",
        "        }\n",
        "        \n",
        "}}"
      ],
      "execution_count": null,
      "outputs": []
    },
    {
      "cell_type": "code",
      "metadata": {
        "colab": {
          "base_uri": "https://localhost:8080/",
          "height": 1000,
          "referenced_widgets": [
            "ad4141a61d3e4bbf92a456defa6584c4",
            "0f6d42281a794f1eb05018aa1e37b17b",
            "c179ea0454744d5ebadc46065c2559d7",
            "ae466af313d04875838b89871660f131",
            "8f39e250a37f4d8fa5f6dbb68a8e02c3",
            "805dd662e8e844e69de78f2f02bec8c1",
            "211a4e8469514c5b97991244e6a7663a",
            "6f93f754294e4ff48bc55c4915c5473e",
            "2e0b57d5e5a54945ba5ecab46383ed0b",
            "c321c06facf44468a9feb049ee0dd69e",
            "065cda4c762242f385e68dce108825f1",
            "bc638970afc2453684f8df5d3757237e",
            "88f546cf10cf4181a32bfff92962b728",
            "8a1ab3232e7144299ad563922dec38cc",
            "8764406a6e9c40c7bc5218c0d21b7b0b",
            "9e824603cc0c4384832d2559a4459585",
            "204283f4f7584af79a515f8a18636752",
            "bac525702f344d7e907d708d5290f852",
            "2e30ac1cf39341bf94ba20e82c4bbce5",
            "047cea09366a4b89a99bfb71ca70dee4",
            "b336ffa7d8b447bf860e6dcf8b8a56bd",
            "b255ad640a0d4f7eb223bd975557eb6b",
            "67653db0f0c644dbaa4dc6538121bfe3",
            "e5080ca9289b4ae098e95b484f90d5c8",
            "e530b5077b004d64a355e0bcb507565a",
            "b1528fdfeb174c10bed744c3400ea511",
            "d89779ed824b42268d6f1cfa76ffac3f",
            "76085ae45ab24f0684581f9a2e16d321",
            "29d5fd008f7c41fab334970e7f715f1f",
            "7733786526c24667967840e1b61f4c1f",
            "da88a07dc92142fcb060e73636e0b3eb",
            "b2a52035fe4b481ab4478d2c46474785",
            "27ee2c42f88b4081a3743efc833abcae",
            "79f671790fb84fd3854e3969f6b6d259",
            "8aa1ac71118640f3a7f6b9b9ecbf5291",
            "f82b7c61f9474798bfd0f706e8e97e57",
            "f81ca8064831451e885d5b3c21bf66b2",
            "a2759d94c8df4aa5898feefa0ecbb4f9",
            "f6b4e410d80348dfad937a111754d16c",
            "55f45a900862414db0ad06c6af454f22",
            "9f688347032d4675993ff774df3c3aa6",
            "56c5e704c0974be39a2d5dffde0bc88e",
            "2bef8bae82314833afbfad7d7f3cb1a0",
            "c036ee0847324106b6600593aec8e1a1",
            "e877d99f98064c16a19db08b50b8fc4f",
            "a50e37f690fa456a955e734679f5f14c",
            "715fceb49eb94e228083070d78929984",
            "09b7cf7dbceb4a0c9b2a19b4d63acc25"
          ]
        },
        "id": "5sna511oClo3",
        "outputId": "c4a8e698-4694-4c23-af8d-7152ea2e444c"
      },
      "source": [
        "import wandb\n",
        "sweep_full = wandb.sweep(wandb_sweep_config_full, project=\"github_aistream-peelout_flow-forecast\")\n",
        "#sweep_id = \"1vbyvy08\"\n",
        "wandb.agent(sweep_full, lambda:train_function(\"PyTorch\", make_config_file(\"/content/joined_final_3/09405500AZC_flow.csv\", \"virgin_river_09405500AZC\", \"AZC\")))\n",
        "  "
      ],
      "execution_count": null,
      "outputs": [
        {
          "output_type": "stream",
          "text": [
            "Create sweep with ID: iofhhmc4\n",
            "Sweep URL: https://wandb.ai/igodfried/github_aistream-peelout_flow-forecast/sweeps/iofhhmc4\n"
          ],
          "name": "stdout"
        },
        {
          "output_type": "stream",
          "text": [
            "\u001b[34m\u001b[1mwandb\u001b[0m: Sweep Agent: Waiting for job.\n",
            "\u001b[34m\u001b[1mwandb\u001b[0m: Job received.\n",
            "\u001b[34m\u001b[1mwandb\u001b[0m: Agent Starting Run: s39xmyb8 with config:\n",
            "\u001b[34m\u001b[1mwandb\u001b[0m: \tbatch_size: 100\n",
            "\u001b[34m\u001b[1mwandb\u001b[0m: \tdropout: 0.4\n",
            "\u001b[34m\u001b[1mwandb\u001b[0m: \tforecast_history: 5\n",
            "\u001b[34m\u001b[1mwandb\u001b[0m: \tforecast_length: 1\n",
            "\u001b[34m\u001b[1mwandb\u001b[0m: \tlr: 0.001\n",
            "\u001b[34m\u001b[1mwandb\u001b[0m: \tnumber_encoder_layers: 5\n",
            "\u001b[34m\u001b[1mwandb\u001b[0m: \tuse_mask: True\n",
            "\u001b[34m\u001b[1mwandb\u001b[0m: Currently logged in as: \u001b[33migodfried\u001b[0m (use `wandb login --relogin` to force relogin)\n",
            "\u001b[34m\u001b[1mwandb\u001b[0m: \u001b[33mWARNING\u001b[0m Ignored wandb.init() arg project when running a sweep\n"
          ],
          "name": "stderr"
        },
        {
          "output_type": "display_data",
          "data": {
            "text/html": [
              "\n",
              "                Tracking run with wandb version 0.10.18<br/>\n",
              "                Syncing run <strong style=\"color:#cdcd00\">dark-sweep-1</strong> to <a href=\"https://wandb.ai\" target=\"_blank\">Weights & Biases</a> <a href=\"https://docs.wandb.com/integrations/jupyter.html\" target=\"_blank\">(Documentation)</a>.<br/>\n",
              "                Project page: <a href=\"https://wandb.ai/igodfried/github_aistream-peelout_flow-forecast\" target=\"_blank\">https://wandb.ai/igodfried/github_aistream-peelout_flow-forecast</a><br/>\n",
              "                Sweep page: <a href=\"https://wandb.ai/igodfried/github_aistream-peelout_flow-forecast/sweeps/iofhhmc4\" target=\"_blank\">https://wandb.ai/igodfried/github_aistream-peelout_flow-forecast/sweeps/iofhhmc4</a><br/>\n",
              "Run page: <a href=\"https://wandb.ai/igodfried/github_aistream-peelout_flow-forecast/runs/s39xmyb8\" target=\"_blank\">https://wandb.ai/igodfried/github_aistream-peelout_flow-forecast/runs/s39xmyb8</a><br/>\n",
              "                Run data is saved locally in <code>/content/flow-forecast/wandb/run-20210214_040832-s39xmyb8</code><br/><br/>\n",
              "            "
            ],
            "text/plain": [
              "<IPython.core.display.HTML object>"
            ]
          },
          "metadata": {
            "tags": []
          }
        },
        {
          "output_type": "stream",
          "text": [
            "{'batch_size': 100, 'dropout': 0.4, 'forecast_history': 5, 'forecast_length': 1, 'lr': 0.001, 'number_encoder_layers': 5, 'use_mask': True}\n",
            "config made\n",
            "interpolate should be below\n",
            "running feature fix code s\n",
            "Relevant cols are\n",
            "['cos_hour', 'sin_hour', 'cos_month', 'sin_month']\n",
            "Now loading/content/joined_final_3/09405500AZC_flow.csv\n",
            "scaling now\n",
            "1\n",
            "interpolate should be below\n",
            "running feature fix code s\n",
            "Relevant cols are\n",
            "['cos_hour', 'sin_hour', 'cos_month', 'sin_month']\n",
            "Now loading/content/joined_final_3/09405500AZC_flow.csv\n",
            "scaling now\n",
            "1\n",
            "interpolate should be below\n",
            "running feature fix code s\n",
            "Relevant cols are\n",
            "['cos_hour', 'sin_hour', 'cos_month', 'sin_month']\n",
            "Now loading/content/joined_final_3/09405500AZC_flow.csv\n",
            "scaling now\n",
            "1\n",
            "Using Wandb config:\n",
            "{'batch_size': 100, 'dropout': 0.4, 'forecast_history': 5, 'forecast_length': 1, 'lr': 0.001, 'number_encoder_layers': 5, 'use_mask': True, 'model_name': 'CustomTransformerDecoder', 'model_type': 'PyTorch', 'model_params': {'dropout': 0.4, 'seq_length': 5, 'n_time_series': 8, 'output_seq_length': 1, 'n_layers_encoder': 5, 'use_mask': True}, 'dataset_params': {'class': 'default', 'no_scale': True, 'num_workers': 12, 'pin_memory': True, 'training_path': '/content/joined_final_3/09405500AZC_flow.csv', 'validation_path': '/content/joined_final_3/09405500AZC_flow.csv', 'test_path': '/content/joined_final_3/09405500AZC_flow.csv', 'batch_size': 100, 'forecast_test_len': 100, 'forecast_history': 5, 'forecast_length': 1, 'scaler': 'StandardScaler', 'train_start': 1000, 'train_end': 50000, 'valid_start': 50001, 'valid_end': 57000, 'sort_column': 'hour_updated', 'test_start': 57000, 'test_end': 58000, 'target_col': ['cfs'], 'relevant_cols': ['cfs', 'tmpf', 'p01m', 'dwpf'], 'interpolate': {'method': 'back_forward_generic', 'params': {'relevant_columns': ['cfs', 'tmpf', 'p01m', 'dwpf']}}, 'feature_param': {'datetime_params': {'hour': 'cyclical', 'month': 'cyclical'}}}, 'training_params': {'criterion': 'MAPE', 'optimizer': 'SGD', 'optim_params': {'lr': 0.001}, 'epochs': 10, 'batch_size': 100}, 'early_stopping': {'patience': 3}, 'GCS': True, 'sweep': True, 'wandb': False, 'forward_params': {}, 'metrics': ['MSE', 'DilateLoss'], 'inference_params': {'datetime_start': '2020-05-31', 'hours_to_forecast': 336, 'num_prediction_samples': 20, 'test_csv_path': '/content/joined_final_3/09405500AZC_flow.csv', 'decoder_params': {'decoder_function': 'simple_decode', 'unsqueeze_dim': 1}, 'dataset_params': {'file_path': '/content/joined_final_3/09405500AZC_flow.csv', 'sort_column': 'hour_updated', 'scaling': 'StandardScaler', 'forecast_history': 5, 'forecast_length': 1, 'relevant_cols': ['cfs', 'tmpf', 'p01m', 'dwpf'], 'target_col': ['cfs'], 'interpolate_param': {'method': 'back_forward_generic', 'params': {'relevant_columns': ['cfs', 'tmpf', 'p01m', 'dwpf']}}, 'feature_params': {'datetime_params': {'hour': 'cyclical', 'month': 'cyclical'}}}}}\n",
            "Torch is using cuda\n",
            "Pin memory set to true\n",
            "running torch_single_train\n",
            "The running loss is:\n",
            "485.2263466119766\n",
            "The number of items in train is: \n",
            "490\n",
            "The loss for epoch 0\n",
            "0.9902578502285238\n",
            "compute_validation\n"
          ],
          "name": "stdout"
        },
        {
          "output_type": "stream",
          "text": [
            "torch.range is deprecated and will be removed in a future release because its behavior is inconsistent with Python's range builtin. Instead, use torch.arange, which produces values in [start, end).\n"
          ],
          "name": "stderr"
        },
        {
          "output_type": "stream",
          "text": [
            "running torch_single_train\n",
            "The running loss is:\n",
            "483.5078706741333\n",
            "The number of items in train is: \n",
            "490\n",
            "The loss for epoch 1\n",
            "0.9867507564778231\n",
            "compute_validation\n",
            "running torch_single_train\n",
            "The running loss is:\n",
            "480.78655260801315\n",
            "The number of items in train is: \n",
            "490\n",
            "The loss for epoch 2\n",
            "0.9811970461388023\n",
            "compute_validation\n",
            "running torch_single_train\n",
            "The running loss is:\n",
            "476.3950194120407\n",
            "The number of items in train is: \n",
            "490\n",
            "The loss for epoch 3\n",
            "0.9722347334939606\n",
            "compute_validation\n",
            "running torch_single_train\n",
            "The running loss is:\n",
            "469.31145226955414\n",
            "The number of items in train is: \n",
            "490\n",
            "The loss for epoch 4\n",
            "0.9577784740194982\n",
            "compute_validation\n",
            "running torch_single_train\n",
            "The running loss is:\n",
            "457.81879192590714\n",
            "The number of items in train is: \n",
            "490\n",
            "The loss for epoch 5\n",
            "0.9343240651549125\n",
            "compute_validation\n",
            "running torch_single_train\n",
            "The running loss is:\n",
            "439.8022812008858\n",
            "The number of items in train is: \n",
            "490\n",
            "The loss for epoch 6\n",
            "0.897555675920175\n",
            "compute_validation\n",
            "running torch_single_train\n",
            "The running loss is:\n",
            "412.0049698352814\n",
            "The number of items in train is: \n",
            "490\n",
            "The loss for epoch 7\n",
            "0.8408264690515946\n",
            "compute_validation\n",
            "running torch_single_train\n",
            "The running loss is:\n",
            "370.0914635360241\n",
            "The number of items in train is: \n",
            "490\n",
            "The loss for epoch 8\n",
            "0.7552887010939268\n",
            "compute_validation\n",
            "running torch_single_train\n",
            "The running loss is:\n",
            "307.2499571144581\n",
            "The number of items in train is: \n",
            "490\n",
            "The loss for epoch 9\n",
            "0.6270407288050165\n",
            "compute_validation\n",
            "compute_validation\n"
          ],
          "name": "stdout"
        },
        {
          "output_type": "display_data",
          "data": {
            "text/html": [
              "<br/>Waiting for W&B process to finish, PID 775<br/>Program failed with code 1.  Press ctrl-c to abort syncing."
            ],
            "text/plain": [
              "<IPython.core.display.HTML object>"
            ]
          },
          "metadata": {
            "tags": []
          }
        },
        {
          "output_type": "display_data",
          "data": {
            "application/vnd.jupyter.widget-view+json": {
              "model_id": "ad4141a61d3e4bbf92a456defa6584c4",
              "version_minor": 0,
              "version_major": 2
            },
            "text/plain": [
              "VBox(children=(Label(value=' 0.01MB of 0.01MB uploaded (0.00MB deduped)\\r'), FloatProgress(value=1.0, max=1.0)…"
            ]
          },
          "metadata": {
            "tags": []
          }
        },
        {
          "output_type": "display_data",
          "data": {
            "text/html": [
              "Find user logs for this run at: <code>/content/flow-forecast/wandb/run-20210214_040832-s39xmyb8/logs/debug.log</code>"
            ],
            "text/plain": [
              "<IPython.core.display.HTML object>"
            ]
          },
          "metadata": {
            "tags": []
          }
        },
        {
          "output_type": "display_data",
          "data": {
            "text/html": [
              "Find internal logs for this run at: <code>/content/flow-forecast/wandb/run-20210214_040832-s39xmyb8/logs/debug-internal.log</code>"
            ],
            "text/plain": [
              "<IPython.core.display.HTML object>"
            ]
          },
          "metadata": {
            "tags": []
          }
        },
        {
          "output_type": "display_data",
          "data": {
            "text/html": [
              "<h3>Run summary:</h3><br/><style>\n",
              "    table.wandb td:nth-child(1) { padding: 0 10px; text-align: right }\n",
              "    </style><table class=\"wandb\">\n",
              "<tr><td>epoch</td><td>9</td></tr><tr><td>_runtime</td><td>314</td></tr><tr><td>_timestamp</td><td>1613276027</td></tr><tr><td>_step</td><td>19</td></tr><tr><td>loss</td><td>0.62704</td></tr></table>"
            ],
            "text/plain": [
              "<IPython.core.display.HTML object>"
            ]
          },
          "metadata": {
            "tags": []
          }
        },
        {
          "output_type": "display_data",
          "data": {
            "text/html": [
              "<h3>Run history:</h3><br/><style>\n",
              "    table.wandb td:nth-child(1) { padding: 0 10px; text-align: right }\n",
              "    </style><table class=\"wandb\">\n",
              "<tr><td>epoch</td><td>▁▁▂▂▃▃▃▃▄▄▅▅▆▆▆▆▇▇██</td></tr><tr><td>_runtime</td><td>▁▁▂▂▃▃▃▃▄▄▅▅▆▆▆▆▇▇██</td></tr><tr><td>_timestamp</td><td>▁▁▂▂▃▃▃▃▄▄▅▅▆▆▆▆▇▇██</td></tr><tr><td>_step</td><td>▁▁▂▂▂▃▃▄▄▄▅▅▅▆▆▇▇▇██</td></tr><tr><td>loss</td><td>████▇▇▆▅▃▁</td></tr></table><br/>"
            ],
            "text/plain": [
              "<IPython.core.display.HTML object>"
            ]
          },
          "metadata": {
            "tags": []
          }
        },
        {
          "output_type": "display_data",
          "data": {
            "text/html": [
              "Synced 5 W&B file(s), 1 media file(s), 0 artifact file(s) and 0 other file(s)"
            ],
            "text/plain": [
              "<IPython.core.display.HTML object>"
            ]
          },
          "metadata": {
            "tags": []
          }
        },
        {
          "output_type": "display_data",
          "data": {
            "text/html": [
              "\n",
              "                    <br/>Synced <strong style=\"color:#cdcd00\">dark-sweep-1</strong>: <a href=\"https://wandb.ai/igodfried/github_aistream-peelout_flow-forecast/runs/s39xmyb8\" target=\"_blank\">https://wandb.ai/igodfried/github_aistream-peelout_flow-forecast/runs/s39xmyb8</a><br/>\n",
              "                "
            ],
            "text/plain": [
              "<IPython.core.display.HTML object>"
            ]
          },
          "metadata": {
            "tags": []
          }
        },
        {
          "output_type": "stream",
          "text": [
            "Run s39xmyb8 errored: TypeError(\"can't convert cuda:0 device type tensor to numpy. Use Tensor.cpu() to copy the tensor to host memory first.\",)\n",
            "\u001b[34m\u001b[1mwandb\u001b[0m: \u001b[32m\u001b[41mERROR\u001b[0m Run s39xmyb8 errored: TypeError(\"can't convert cuda:0 device type tensor to numpy. Use Tensor.cpu() to copy the tensor to host memory first.\",)\n",
            "\u001b[34m\u001b[1mwandb\u001b[0m: Agent Starting Run: 1fehw29n with config:\n",
            "\u001b[34m\u001b[1mwandb\u001b[0m: \tbatch_size: 100\n",
            "\u001b[34m\u001b[1mwandb\u001b[0m: \tdropout: 0.4\n",
            "\u001b[34m\u001b[1mwandb\u001b[0m: \tforecast_history: 5\n",
            "\u001b[34m\u001b[1mwandb\u001b[0m: \tforecast_length: 1\n",
            "\u001b[34m\u001b[1mwandb\u001b[0m: \tlr: 0.001\n",
            "\u001b[34m\u001b[1mwandb\u001b[0m: \tnumber_encoder_layers: 5\n",
            "\u001b[34m\u001b[1mwandb\u001b[0m: \tuse_mask: False\n",
            "\u001b[34m\u001b[1mwandb\u001b[0m: \u001b[33mWARNING\u001b[0m Ignored wandb.init() arg project when running a sweep\n"
          ],
          "name": "stderr"
        },
        {
          "output_type": "display_data",
          "data": {
            "text/html": [
              "\n",
              "                Tracking run with wandb version 0.10.18<br/>\n",
              "                Syncing run <strong style=\"color:#cdcd00\">worthy-sweep-2</strong> to <a href=\"https://wandb.ai\" target=\"_blank\">Weights & Biases</a> <a href=\"https://docs.wandb.com/integrations/jupyter.html\" target=\"_blank\">(Documentation)</a>.<br/>\n",
              "                Project page: <a href=\"https://wandb.ai/igodfried/github_aistream-peelout_flow-forecast\" target=\"_blank\">https://wandb.ai/igodfried/github_aistream-peelout_flow-forecast</a><br/>\n",
              "                Sweep page: <a href=\"https://wandb.ai/igodfried/github_aistream-peelout_flow-forecast/sweeps/iofhhmc4\" target=\"_blank\">https://wandb.ai/igodfried/github_aistream-peelout_flow-forecast/sweeps/iofhhmc4</a><br/>\n",
              "Run page: <a href=\"https://wandb.ai/igodfried/github_aistream-peelout_flow-forecast/runs/1fehw29n\" target=\"_blank\">https://wandb.ai/igodfried/github_aistream-peelout_flow-forecast/runs/1fehw29n</a><br/>\n",
              "                Run data is saved locally in <code>/content/flow-forecast/wandb/run-20210214_041352-1fehw29n</code><br/><br/>\n",
              "            "
            ],
            "text/plain": [
              "<IPython.core.display.HTML object>"
            ]
          },
          "metadata": {
            "tags": []
          }
        },
        {
          "output_type": "stream",
          "text": [
            "{'batch_size': 100, 'dropout': 0.4, 'forecast_history': 5, 'forecast_length': 1, 'lr': 0.001, 'number_encoder_layers': 5, 'use_mask': False}\n",
            "config made\n",
            "interpolate should be below\n",
            "running feature fix code s\n",
            "Relevant cols are\n",
            "['cos_hour', 'sin_hour', 'cos_month', 'sin_month']\n",
            "Now loading/content/joined_final_3/09405500AZC_flow.csv\n",
            "scaling now\n",
            "1\n",
            "interpolate should be below\n",
            "running feature fix code s\n",
            "Relevant cols are\n",
            "['cos_hour', 'sin_hour', 'cos_month', 'sin_month']\n",
            "Now loading/content/joined_final_3/09405500AZC_flow.csv\n",
            "scaling now\n",
            "1\n",
            "interpolate should be below\n",
            "running feature fix code s\n",
            "Relevant cols are\n",
            "['cos_hour', 'sin_hour', 'cos_month', 'sin_month']\n",
            "Now loading/content/joined_final_3/09405500AZC_flow.csv\n",
            "scaling now\n",
            "1\n",
            "Using Wandb config:\n",
            "{'batch_size': 100, 'dropout': 0.4, 'forecast_history': 5, 'forecast_length': 1, 'lr': 0.001, 'number_encoder_layers': 5, 'use_mask': False, 'model_name': 'CustomTransformerDecoder', 'model_type': 'PyTorch', 'model_params': {'dropout': 0.4, 'seq_length': 5, 'n_time_series': 8, 'output_seq_length': 1, 'n_layers_encoder': 5, 'use_mask': False}, 'dataset_params': {'class': 'default', 'no_scale': True, 'num_workers': 12, 'pin_memory': True, 'training_path': '/content/joined_final_3/09405500AZC_flow.csv', 'validation_path': '/content/joined_final_3/09405500AZC_flow.csv', 'test_path': '/content/joined_final_3/09405500AZC_flow.csv', 'batch_size': 100, 'forecast_test_len': 100, 'forecast_history': 5, 'forecast_length': 1, 'scaler': 'StandardScaler', 'train_start': 1000, 'train_end': 50000, 'valid_start': 50001, 'valid_end': 57000, 'sort_column': 'hour_updated', 'test_start': 57000, 'test_end': 58000, 'target_col': ['cfs'], 'relevant_cols': ['cfs', 'tmpf', 'p01m', 'dwpf'], 'interpolate': {'method': 'back_forward_generic', 'params': {'relevant_columns': ['cfs', 'tmpf', 'p01m', 'dwpf']}}, 'feature_param': {'datetime_params': {'hour': 'cyclical', 'month': 'cyclical'}}}, 'training_params': {'criterion': 'MAPE', 'optimizer': 'SGD', 'optim_params': {'lr': 0.001}, 'epochs': 10, 'batch_size': 100}, 'early_stopping': {'patience': 3}, 'GCS': True, 'sweep': True, 'wandb': False, 'forward_params': {}, 'metrics': ['MSE', 'DilateLoss'], 'inference_params': {'datetime_start': '2020-05-31', 'hours_to_forecast': 336, 'num_prediction_samples': 20, 'test_csv_path': '/content/joined_final_3/09405500AZC_flow.csv', 'decoder_params': {'decoder_function': 'simple_decode', 'unsqueeze_dim': 1}, 'dataset_params': {'file_path': '/content/joined_final_3/09405500AZC_flow.csv', 'sort_column': 'hour_updated', 'scaling': 'StandardScaler', 'forecast_history': 5, 'forecast_length': 1, 'relevant_cols': ['cfs', 'tmpf', 'p01m', 'dwpf'], 'target_col': ['cfs'], 'interpolate_param': {'method': 'back_forward_generic', 'params': {'relevant_columns': ['cfs', 'tmpf', 'p01m', 'dwpf']}}, 'feature_params': {'datetime_params': {'hour': 'cyclical', 'month': 'cyclical'}}}}}\n",
            "Torch is using cuda\n",
            "Pin memory set to true\n",
            "running torch_single_train\n",
            "The running loss is:\n",
            "485.9137639403343\n",
            "The number of items in train is: \n",
            "490\n",
            "The loss for epoch 0\n",
            "0.9916607427353762\n",
            "compute_validation\n"
          ],
          "name": "stdout"
        },
        {
          "output_type": "stream",
          "text": [
            "torch.range is deprecated and will be removed in a future release because its behavior is inconsistent with Python's range builtin. Instead, use torch.arange, which produces values in [start, end).\n"
          ],
          "name": "stderr"
        },
        {
          "output_type": "stream",
          "text": [
            "running torch_single_train\n",
            "The running loss is:\n",
            "468.41235649585724\n",
            "The number of items in train is: \n",
            "490\n",
            "The loss for epoch 1\n",
            "0.955943584685423\n",
            "compute_validation\n",
            "running torch_single_train\n",
            "The running loss is:\n",
            "445.785037279129\n",
            "The number of items in train is: \n",
            "490\n",
            "The loss for epoch 2\n",
            "0.9097653822023042\n",
            "compute_validation\n",
            "running torch_single_train\n",
            "The running loss is:\n",
            "414.2861123085022\n",
            "The number of items in train is: \n",
            "490\n",
            "The loss for epoch 3\n",
            "0.8454818618540861\n",
            "compute_validation\n",
            "running torch_single_train\n",
            "The running loss is:\n",
            "368.9029018878937\n",
            "The number of items in train is: \n",
            "490\n",
            "The loss for epoch 4\n",
            "0.752863065077334\n",
            "compute_validation\n",
            "running torch_single_train\n",
            "The running loss is:\n",
            "301.82336580753326\n",
            "The number of items in train is: \n",
            "490\n",
            "The loss for epoch 5\n",
            "0.6159660526684352\n",
            "compute_validation\n",
            "running torch_single_train\n",
            "The running loss is:\n",
            "211.06795232743025\n",
            "The number of items in train is: \n",
            "490\n",
            "The loss for epoch 6\n",
            "0.4307509231172046\n",
            "compute_validation\n",
            "running torch_single_train\n",
            "The running loss is:\n",
            "157.07082041725516\n",
            "The number of items in train is: \n",
            "490\n",
            "The loss for epoch 7\n",
            "0.32055269472909215\n",
            "compute_validation\n",
            "running torch_single_train\n",
            "The running loss is:\n",
            "149.3332330957055\n",
            "The number of items in train is: \n",
            "490\n",
            "The loss for epoch 8\n",
            "0.30476170019531734\n",
            "compute_validation\n",
            "running torch_single_train\n",
            "The running loss is:\n",
            "148.32445898652077\n",
            "The number of items in train is: \n",
            "490\n",
            "The loss for epoch 9\n",
            "0.3027029775235118\n",
            "compute_validation\n",
            "compute_validation\n"
          ],
          "name": "stdout"
        },
        {
          "output_type": "display_data",
          "data": {
            "text/html": [
              "<br/>Waiting for W&B process to finish, PID 1879<br/>Program failed with code 1.  Press ctrl-c to abort syncing."
            ],
            "text/plain": [
              "<IPython.core.display.HTML object>"
            ]
          },
          "metadata": {
            "tags": []
          }
        },
        {
          "output_type": "display_data",
          "data": {
            "application/vnd.jupyter.widget-view+json": {
              "model_id": "2e0b57d5e5a54945ba5ecab46383ed0b",
              "version_minor": 0,
              "version_major": 2
            },
            "text/plain": [
              "VBox(children=(Label(value=' 0.01MB of 0.01MB uploaded (0.00MB deduped)\\r'), FloatProgress(value=1.0, max=1.0)…"
            ]
          },
          "metadata": {
            "tags": []
          }
        },
        {
          "output_type": "display_data",
          "data": {
            "text/html": [
              "Find user logs for this run at: <code>/content/flow-forecast/wandb/run-20210214_041352-1fehw29n/logs/debug.log</code>"
            ],
            "text/plain": [
              "<IPython.core.display.HTML object>"
            ]
          },
          "metadata": {
            "tags": []
          }
        },
        {
          "output_type": "display_data",
          "data": {
            "text/html": [
              "Find internal logs for this run at: <code>/content/flow-forecast/wandb/run-20210214_041352-1fehw29n/logs/debug-internal.log</code>"
            ],
            "text/plain": [
              "<IPython.core.display.HTML object>"
            ]
          },
          "metadata": {
            "tags": []
          }
        },
        {
          "output_type": "display_data",
          "data": {
            "text/html": [
              "<h3>Run summary:</h3><br/><style>\n",
              "    table.wandb td:nth-child(1) { padding: 0 10px; text-align: right }\n",
              "    </style><table class=\"wandb\">\n",
              "<tr><td>epoch</td><td>9</td></tr><tr><td>_runtime</td><td>304</td></tr><tr><td>_timestamp</td><td>1613276336</td></tr><tr><td>_step</td><td>19</td></tr><tr><td>loss</td><td>0.3027</td></tr></table>"
            ],
            "text/plain": [
              "<IPython.core.display.HTML object>"
            ]
          },
          "metadata": {
            "tags": []
          }
        },
        {
          "output_type": "display_data",
          "data": {
            "text/html": [
              "<h3>Run history:</h3><br/><style>\n",
              "    table.wandb td:nth-child(1) { padding: 0 10px; text-align: right }\n",
              "    </style><table class=\"wandb\">\n",
              "<tr><td>epoch</td><td>▁▁▂▂▃▃▃▃▄▄▅▅▆▆▆▆▇▇██</td></tr><tr><td>_runtime</td><td>▁▁▂▂▃▃▃▃▄▄▅▅▆▆▆▆▇▇██</td></tr><tr><td>_timestamp</td><td>▁▁▂▂▃▃▃▃▄▄▅▅▆▆▆▆▇▇██</td></tr><tr><td>_step</td><td>▁▁▂▂▂▃▃▄▄▄▅▅▅▆▆▇▇▇██</td></tr><tr><td>loss</td><td>██▇▇▆▄▂▁▁▁</td></tr></table><br/>"
            ],
            "text/plain": [
              "<IPython.core.display.HTML object>"
            ]
          },
          "metadata": {
            "tags": []
          }
        },
        {
          "output_type": "display_data",
          "data": {
            "text/html": [
              "Synced 5 W&B file(s), 1 media file(s), 0 artifact file(s) and 0 other file(s)"
            ],
            "text/plain": [
              "<IPython.core.display.HTML object>"
            ]
          },
          "metadata": {
            "tags": []
          }
        },
        {
          "output_type": "display_data",
          "data": {
            "text/html": [
              "\n",
              "                    <br/>Synced <strong style=\"color:#cdcd00\">worthy-sweep-2</strong>: <a href=\"https://wandb.ai/igodfried/github_aistream-peelout_flow-forecast/runs/1fehw29n\" target=\"_blank\">https://wandb.ai/igodfried/github_aistream-peelout_flow-forecast/runs/1fehw29n</a><br/>\n",
              "                "
            ],
            "text/plain": [
              "<IPython.core.display.HTML object>"
            ]
          },
          "metadata": {
            "tags": []
          }
        },
        {
          "output_type": "stream",
          "text": [
            "Run 1fehw29n errored: TypeError(\"can't convert cuda:0 device type tensor to numpy. Use Tensor.cpu() to copy the tensor to host memory first.\",)\n",
            "\u001b[34m\u001b[1mwandb\u001b[0m: \u001b[32m\u001b[41mERROR\u001b[0m Run 1fehw29n errored: TypeError(\"can't convert cuda:0 device type tensor to numpy. Use Tensor.cpu() to copy the tensor to host memory first.\",)\n",
            "\u001b[34m\u001b[1mwandb\u001b[0m: Agent Starting Run: chdrmmt7 with config:\n",
            "\u001b[34m\u001b[1mwandb\u001b[0m: \tbatch_size: 100\n",
            "\u001b[34m\u001b[1mwandb\u001b[0m: \tdropout: 0.4\n",
            "\u001b[34m\u001b[1mwandb\u001b[0m: \tforecast_history: 5\n",
            "\u001b[34m\u001b[1mwandb\u001b[0m: \tforecast_length: 1\n",
            "\u001b[34m\u001b[1mwandb\u001b[0m: \tlr: 0.001\n",
            "\u001b[34m\u001b[1mwandb\u001b[0m: \tnumber_encoder_layers: 6\n",
            "\u001b[34m\u001b[1mwandb\u001b[0m: \tuse_mask: True\n",
            "\u001b[34m\u001b[1mwandb\u001b[0m: \u001b[33mWARNING\u001b[0m Ignored wandb.init() arg project when running a sweep\n"
          ],
          "name": "stderr"
        },
        {
          "output_type": "display_data",
          "data": {
            "text/html": [
              "\n",
              "                Tracking run with wandb version 0.10.18<br/>\n",
              "                Syncing run <strong style=\"color:#cdcd00\">vital-sweep-3</strong> to <a href=\"https://wandb.ai\" target=\"_blank\">Weights & Biases</a> <a href=\"https://docs.wandb.com/integrations/jupyter.html\" target=\"_blank\">(Documentation)</a>.<br/>\n",
              "                Project page: <a href=\"https://wandb.ai/igodfried/github_aistream-peelout_flow-forecast\" target=\"_blank\">https://wandb.ai/igodfried/github_aistream-peelout_flow-forecast</a><br/>\n",
              "                Sweep page: <a href=\"https://wandb.ai/igodfried/github_aistream-peelout_flow-forecast/sweeps/iofhhmc4\" target=\"_blank\">https://wandb.ai/igodfried/github_aistream-peelout_flow-forecast/sweeps/iofhhmc4</a><br/>\n",
              "Run page: <a href=\"https://wandb.ai/igodfried/github_aistream-peelout_flow-forecast/runs/chdrmmt7\" target=\"_blank\">https://wandb.ai/igodfried/github_aistream-peelout_flow-forecast/runs/chdrmmt7</a><br/>\n",
              "                Run data is saved locally in <code>/content/flow-forecast/wandb/run-20210214_041901-chdrmmt7</code><br/><br/>\n",
              "            "
            ],
            "text/plain": [
              "<IPython.core.display.HTML object>"
            ]
          },
          "metadata": {
            "tags": []
          }
        },
        {
          "output_type": "stream",
          "text": [
            "{'batch_size': 100, 'dropout': 0.4, 'forecast_history': 5, 'forecast_length': 1, 'lr': 0.001, 'number_encoder_layers': 6, 'use_mask': True}\n",
            "config made\n",
            "interpolate should be below\n",
            "running feature fix code s\n",
            "Relevant cols are\n",
            "['cos_hour', 'sin_hour', 'cos_month', 'sin_month']\n",
            "Now loading/content/joined_final_3/09405500AZC_flow.csv\n",
            "scaling now\n",
            "1\n",
            "interpolate should be below\n",
            "running feature fix code s\n",
            "Relevant cols are\n",
            "['cos_hour', 'sin_hour', 'cos_month', 'sin_month']\n",
            "Now loading/content/joined_final_3/09405500AZC_flow.csv\n",
            "scaling now\n",
            "1\n",
            "interpolate should be below\n",
            "running feature fix code s\n",
            "Relevant cols are\n",
            "['cos_hour', 'sin_hour', 'cos_month', 'sin_month']\n",
            "Now loading/content/joined_final_3/09405500AZC_flow.csv\n",
            "scaling now\n",
            "1\n",
            "Using Wandb config:\n",
            "{'batch_size': 100, 'dropout': 0.4, 'forecast_history': 5, 'forecast_length': 1, 'lr': 0.001, 'number_encoder_layers': 6, 'use_mask': True, 'model_name': 'CustomTransformerDecoder', 'model_type': 'PyTorch', 'model_params': {'dropout': 0.4, 'seq_length': 5, 'n_time_series': 8, 'output_seq_length': 1, 'n_layers_encoder': 6, 'use_mask': True}, 'dataset_params': {'class': 'default', 'no_scale': True, 'num_workers': 12, 'pin_memory': True, 'training_path': '/content/joined_final_3/09405500AZC_flow.csv', 'validation_path': '/content/joined_final_3/09405500AZC_flow.csv', 'test_path': '/content/joined_final_3/09405500AZC_flow.csv', 'batch_size': 100, 'forecast_test_len': 100, 'forecast_history': 5, 'forecast_length': 1, 'scaler': 'StandardScaler', 'train_start': 1000, 'train_end': 50000, 'valid_start': 50001, 'valid_end': 57000, 'sort_column': 'hour_updated', 'test_start': 57000, 'test_end': 58000, 'target_col': ['cfs'], 'relevant_cols': ['cfs', 'tmpf', 'p01m', 'dwpf'], 'interpolate': {'method': 'back_forward_generic', 'params': {'relevant_columns': ['cfs', 'tmpf', 'p01m', 'dwpf']}}, 'feature_param': {'datetime_params': {'hour': 'cyclical', 'month': 'cyclical'}}}, 'training_params': {'criterion': 'MAPE', 'optimizer': 'SGD', 'optim_params': {'lr': 0.001}, 'epochs': 10, 'batch_size': 100}, 'early_stopping': {'patience': 3}, 'GCS': True, 'sweep': True, 'wandb': False, 'forward_params': {}, 'metrics': ['MSE', 'DilateLoss'], 'inference_params': {'datetime_start': '2020-05-31', 'hours_to_forecast': 336, 'num_prediction_samples': 20, 'test_csv_path': '/content/joined_final_3/09405500AZC_flow.csv', 'decoder_params': {'decoder_function': 'simple_decode', 'unsqueeze_dim': 1}, 'dataset_params': {'file_path': '/content/joined_final_3/09405500AZC_flow.csv', 'sort_column': 'hour_updated', 'scaling': 'StandardScaler', 'forecast_history': 5, 'forecast_length': 1, 'relevant_cols': ['cfs', 'tmpf', 'p01m', 'dwpf'], 'target_col': ['cfs'], 'interpolate_param': {'method': 'back_forward_generic', 'params': {'relevant_columns': ['cfs', 'tmpf', 'p01m', 'dwpf']}}, 'feature_params': {'datetime_params': {'hour': 'cyclical', 'month': 'cyclical'}}}}}\n",
            "Torch is using cuda\n",
            "Pin memory set to true\n",
            "running torch_single_train\n",
            "The running loss is:\n",
            "474.72263872623444\n",
            "The number of items in train is: \n",
            "490\n",
            "The loss for epoch 0\n",
            "0.9688217116861927\n",
            "compute_validation\n"
          ],
          "name": "stdout"
        },
        {
          "output_type": "stream",
          "text": [
            "torch.range is deprecated and will be removed in a future release because its behavior is inconsistent with Python's range builtin. Instead, use torch.arange, which produces values in [start, end).\n"
          ],
          "name": "stderr"
        },
        {
          "output_type": "stream",
          "text": [
            "running torch_single_train\n",
            "The running loss is:\n",
            "433.6193122267723\n",
            "The number of items in train is: \n",
            "490\n",
            "The loss for epoch 1\n",
            "0.884937371891372\n",
            "compute_validation\n",
            "running torch_single_train\n",
            "The running loss is:\n",
            "383.08619514107704\n",
            "The number of items in train is: \n",
            "490\n",
            "The loss for epoch 2\n",
            "0.7818085615124021\n",
            "compute_validation\n",
            "running torch_single_train\n",
            "The running loss is:\n",
            "315.8004929870367\n",
            "The number of items in train is: \n",
            "490\n",
            "The loss for epoch 3\n",
            "0.6444908020143606\n",
            "compute_validation\n",
            "running torch_single_train\n",
            "The running loss is:\n",
            "226.25673994794488\n",
            "The number of items in train is: \n",
            "490\n",
            "The loss for epoch 4\n",
            "0.4617484488733569\n",
            "compute_validation\n",
            "running torch_single_train\n",
            "The running loss is:\n",
            "161.87232563458383\n",
            "The number of items in train is: \n",
            "490\n",
            "The loss for epoch 5\n",
            "0.33035168496853845\n",
            "compute_validation\n",
            "running torch_single_train\n",
            "The running loss is:\n",
            "150.0039803367108\n",
            "The number of items in train is: \n",
            "490\n",
            "The loss for epoch 6\n",
            "0.30613057211573635\n",
            "compute_validation\n",
            "running torch_single_train\n",
            "The running loss is:\n",
            "149.04808377288282\n",
            "The number of items in train is: \n",
            "490\n",
            "The loss for epoch 7\n",
            "0.30417976280180165\n",
            "compute_validation\n",
            "running torch_single_train\n",
            "The running loss is:\n",
            "148.69662007316947\n",
            "The number of items in train is: \n",
            "490\n",
            "The loss for epoch 8\n",
            "0.30346248994524383\n",
            "compute_validation\n",
            "running torch_single_train\n",
            "The running loss is:\n",
            "148.497034965083\n",
            "The number of items in train is: \n",
            "490\n",
            "The loss for epoch 9\n",
            "0.3030551733981286\n",
            "compute_validation\n",
            "compute_validation\n"
          ],
          "name": "stdout"
        },
        {
          "output_type": "display_data",
          "data": {
            "text/html": [
              "<br/>Waiting for W&B process to finish, PID 2962<br/>Program failed with code 1.  Press ctrl-c to abort syncing."
            ],
            "text/plain": [
              "<IPython.core.display.HTML object>"
            ]
          },
          "metadata": {
            "tags": []
          }
        },
        {
          "output_type": "display_data",
          "data": {
            "application/vnd.jupyter.widget-view+json": {
              "model_id": "204283f4f7584af79a515f8a18636752",
              "version_minor": 0,
              "version_major": 2
            },
            "text/plain": [
              "VBox(children=(Label(value=' 0.01MB of 0.01MB uploaded (0.00MB deduped)\\r'), FloatProgress(value=1.0, max=1.0)…"
            ]
          },
          "metadata": {
            "tags": []
          }
        },
        {
          "output_type": "display_data",
          "data": {
            "text/html": [
              "Find user logs for this run at: <code>/content/flow-forecast/wandb/run-20210214_041901-chdrmmt7/logs/debug.log</code>"
            ],
            "text/plain": [
              "<IPython.core.display.HTML object>"
            ]
          },
          "metadata": {
            "tags": []
          }
        },
        {
          "output_type": "display_data",
          "data": {
            "text/html": [
              "Find internal logs for this run at: <code>/content/flow-forecast/wandb/run-20210214_041901-chdrmmt7/logs/debug-internal.log</code>"
            ],
            "text/plain": [
              "<IPython.core.display.HTML object>"
            ]
          },
          "metadata": {
            "tags": []
          }
        },
        {
          "output_type": "display_data",
          "data": {
            "text/html": [
              "<h3>Run summary:</h3><br/><style>\n",
              "    table.wandb td:nth-child(1) { padding: 0 10px; text-align: right }\n",
              "    </style><table class=\"wandb\">\n",
              "<tr><td>epoch</td><td>9</td></tr><tr><td>_runtime</td><td>322</td></tr><tr><td>_timestamp</td><td>1613276663</td></tr><tr><td>_step</td><td>19</td></tr><tr><td>loss</td><td>0.30306</td></tr></table>"
            ],
            "text/plain": [
              "<IPython.core.display.HTML object>"
            ]
          },
          "metadata": {
            "tags": []
          }
        },
        {
          "output_type": "display_data",
          "data": {
            "text/html": [
              "<h3>Run history:</h3><br/><style>\n",
              "    table.wandb td:nth-child(1) { padding: 0 10px; text-align: right }\n",
              "    </style><table class=\"wandb\">\n",
              "<tr><td>epoch</td><td>▁▁▂▂▃▃▃▃▄▄▅▅▆▆▆▆▇▇██</td></tr><tr><td>_runtime</td><td>▁▁▂▂▃▃▃▃▄▄▅▅▆▆▆▆▇▇██</td></tr><tr><td>_timestamp</td><td>▁▁▂▂▃▃▃▃▄▄▅▅▆▆▆▆▇▇██</td></tr><tr><td>_step</td><td>▁▁▂▂▂▃▃▄▄▄▅▅▅▆▆▇▇▇██</td></tr><tr><td>loss</td><td>█▇▆▅▃▁▁▁▁▁</td></tr></table><br/>"
            ],
            "text/plain": [
              "<IPython.core.display.HTML object>"
            ]
          },
          "metadata": {
            "tags": []
          }
        },
        {
          "output_type": "display_data",
          "data": {
            "text/html": [
              "Synced 5 W&B file(s), 1 media file(s), 0 artifact file(s) and 0 other file(s)"
            ],
            "text/plain": [
              "<IPython.core.display.HTML object>"
            ]
          },
          "metadata": {
            "tags": []
          }
        },
        {
          "output_type": "display_data",
          "data": {
            "text/html": [
              "\n",
              "                    <br/>Synced <strong style=\"color:#cdcd00\">vital-sweep-3</strong>: <a href=\"https://wandb.ai/igodfried/github_aistream-peelout_flow-forecast/runs/chdrmmt7\" target=\"_blank\">https://wandb.ai/igodfried/github_aistream-peelout_flow-forecast/runs/chdrmmt7</a><br/>\n",
              "                "
            ],
            "text/plain": [
              "<IPython.core.display.HTML object>"
            ]
          },
          "metadata": {
            "tags": []
          }
        },
        {
          "output_type": "stream",
          "text": [
            "Run chdrmmt7 errored: TypeError(\"can't convert cuda:0 device type tensor to numpy. Use Tensor.cpu() to copy the tensor to host memory first.\",)\n",
            "\u001b[34m\u001b[1mwandb\u001b[0m: \u001b[32m\u001b[41mERROR\u001b[0m Run chdrmmt7 errored: TypeError(\"can't convert cuda:0 device type tensor to numpy. Use Tensor.cpu() to copy the tensor to host memory first.\",)\n",
            "\u001b[34m\u001b[1mwandb\u001b[0m: Agent Starting Run: dmsmnugl with config:\n",
            "\u001b[34m\u001b[1mwandb\u001b[0m: \tbatch_size: 100\n",
            "\u001b[34m\u001b[1mwandb\u001b[0m: \tdropout: 0.4\n",
            "\u001b[34m\u001b[1mwandb\u001b[0m: \tforecast_history: 5\n",
            "\u001b[34m\u001b[1mwandb\u001b[0m: \tforecast_length: 1\n",
            "\u001b[34m\u001b[1mwandb\u001b[0m: \tlr: 0.001\n",
            "\u001b[34m\u001b[1mwandb\u001b[0m: \tnumber_encoder_layers: 6\n",
            "\u001b[34m\u001b[1mwandb\u001b[0m: \tuse_mask: False\n",
            "\u001b[34m\u001b[1mwandb\u001b[0m: \u001b[33mWARNING\u001b[0m Ignored wandb.init() arg project when running a sweep\n"
          ],
          "name": "stderr"
        },
        {
          "output_type": "display_data",
          "data": {
            "text/html": [
              "\n",
              "                Tracking run with wandb version 0.10.18<br/>\n",
              "                Syncing run <strong style=\"color:#cdcd00\">toasty-sweep-4</strong> to <a href=\"https://wandb.ai\" target=\"_blank\">Weights & Biases</a> <a href=\"https://docs.wandb.com/integrations/jupyter.html\" target=\"_blank\">(Documentation)</a>.<br/>\n",
              "                Project page: <a href=\"https://wandb.ai/igodfried/github_aistream-peelout_flow-forecast\" target=\"_blank\">https://wandb.ai/igodfried/github_aistream-peelout_flow-forecast</a><br/>\n",
              "                Sweep page: <a href=\"https://wandb.ai/igodfried/github_aistream-peelout_flow-forecast/sweeps/iofhhmc4\" target=\"_blank\">https://wandb.ai/igodfried/github_aistream-peelout_flow-forecast/sweeps/iofhhmc4</a><br/>\n",
              "Run page: <a href=\"https://wandb.ai/igodfried/github_aistream-peelout_flow-forecast/runs/dmsmnugl\" target=\"_blank\">https://wandb.ai/igodfried/github_aistream-peelout_flow-forecast/runs/dmsmnugl</a><br/>\n",
              "                Run data is saved locally in <code>/content/flow-forecast/wandb/run-20210214_042428-dmsmnugl</code><br/><br/>\n",
              "            "
            ],
            "text/plain": [
              "<IPython.core.display.HTML object>"
            ]
          },
          "metadata": {
            "tags": []
          }
        },
        {
          "output_type": "stream",
          "text": [
            "{'batch_size': 100, 'dropout': 0.4, 'forecast_history': 5, 'forecast_length': 1, 'lr': 0.001, 'number_encoder_layers': 6, 'use_mask': False}\n",
            "config made\n",
            "interpolate should be below\n",
            "running feature fix code s\n",
            "Relevant cols are\n",
            "['cos_hour', 'sin_hour', 'cos_month', 'sin_month']\n",
            "Now loading/content/joined_final_3/09405500AZC_flow.csv\n",
            "scaling now\n",
            "1\n",
            "interpolate should be below\n",
            "running feature fix code s\n",
            "Relevant cols are\n",
            "['cos_hour', 'sin_hour', 'cos_month', 'sin_month']\n",
            "Now loading/content/joined_final_3/09405500AZC_flow.csv\n",
            "scaling now\n",
            "1\n",
            "interpolate should be below\n",
            "running feature fix code s\n",
            "Relevant cols are\n",
            "['cos_hour', 'sin_hour', 'cos_month', 'sin_month']\n",
            "Now loading/content/joined_final_3/09405500AZC_flow.csv\n",
            "scaling now\n",
            "1\n",
            "Using Wandb config:\n",
            "{'batch_size': 100, 'dropout': 0.4, 'forecast_history': 5, 'forecast_length': 1, 'lr': 0.001, 'number_encoder_layers': 6, 'use_mask': False, 'model_name': 'CustomTransformerDecoder', 'model_type': 'PyTorch', 'model_params': {'dropout': 0.4, 'seq_length': 5, 'n_time_series': 8, 'output_seq_length': 1, 'n_layers_encoder': 6, 'use_mask': False}, 'dataset_params': {'class': 'default', 'no_scale': True, 'num_workers': 12, 'pin_memory': True, 'training_path': '/content/joined_final_3/09405500AZC_flow.csv', 'validation_path': '/content/joined_final_3/09405500AZC_flow.csv', 'test_path': '/content/joined_final_3/09405500AZC_flow.csv', 'batch_size': 100, 'forecast_test_len': 100, 'forecast_history': 5, 'forecast_length': 1, 'scaler': 'StandardScaler', 'train_start': 1000, 'train_end': 50000, 'valid_start': 50001, 'valid_end': 57000, 'sort_column': 'hour_updated', 'test_start': 57000, 'test_end': 58000, 'target_col': ['cfs'], 'relevant_cols': ['cfs', 'tmpf', 'p01m', 'dwpf'], 'interpolate': {'method': 'back_forward_generic', 'params': {'relevant_columns': ['cfs', 'tmpf', 'p01m', 'dwpf']}}, 'feature_param': {'datetime_params': {'hour': 'cyclical', 'month': 'cyclical'}}}, 'training_params': {'criterion': 'MAPE', 'optimizer': 'SGD', 'optim_params': {'lr': 0.001}, 'epochs': 10, 'batch_size': 100}, 'early_stopping': {'patience': 3}, 'GCS': True, 'sweep': True, 'wandb': False, 'forward_params': {}, 'metrics': ['MSE', 'DilateLoss'], 'inference_params': {'datetime_start': '2020-05-31', 'hours_to_forecast': 336, 'num_prediction_samples': 20, 'test_csv_path': '/content/joined_final_3/09405500AZC_flow.csv', 'decoder_params': {'decoder_function': 'simple_decode', 'unsqueeze_dim': 1}, 'dataset_params': {'file_path': '/content/joined_final_3/09405500AZC_flow.csv', 'sort_column': 'hour_updated', 'scaling': 'StandardScaler', 'forecast_history': 5, 'forecast_length': 1, 'relevant_cols': ['cfs', 'tmpf', 'p01m', 'dwpf'], 'target_col': ['cfs'], 'interpolate_param': {'method': 'back_forward_generic', 'params': {'relevant_columns': ['cfs', 'tmpf', 'p01m', 'dwpf']}}, 'feature_params': {'datetime_params': {'hour': 'cyclical', 'month': 'cyclical'}}}}}\n",
            "Torch is using cuda\n",
            "Pin memory set to true\n",
            "running torch_single_train\n",
            "The running loss is:\n",
            "492.167556643486\n",
            "The number of items in train is: \n",
            "490\n",
            "The loss for epoch 0\n",
            "1.0044235849867063\n",
            "compute_validation\n"
          ],
          "name": "stdout"
        },
        {
          "output_type": "stream",
          "text": [
            "torch.range is deprecated and will be removed in a future release because its behavior is inconsistent with Python's range builtin. Instead, use torch.arange, which produces values in [start, end).\n"
          ],
          "name": "stderr"
        },
        {
          "output_type": "stream",
          "text": [
            "running torch_single_train\n",
            "The running loss is:\n",
            "490.2304552793503\n",
            "The number of items in train is: \n",
            "490\n",
            "The loss for epoch 1\n",
            "1.0004703168966331\n",
            "compute_validation\n",
            "running torch_single_train\n",
            "The running loss is:\n",
            "487.57222813367844\n",
            "The number of items in train is: \n",
            "490\n",
            "The loss for epoch 2\n",
            "0.9950453635381192\n",
            "compute_validation\n",
            "running torch_single_train\n",
            "The running loss is:\n",
            "483.48686623573303\n",
            "The number of items in train is: \n",
            "490\n",
            "The loss for epoch 3\n",
            "0.9867078902770062\n",
            "compute_validation\n",
            "running torch_single_train\n",
            "The running loss is:\n",
            "476.97288370132446\n",
            "The number of items in train is: \n",
            "490\n",
            "The loss for epoch 4\n",
            "0.97341404837005\n",
            "compute_validation\n",
            "running torch_single_train\n",
            "The running loss is:\n",
            "466.52578687667847\n",
            "The number of items in train is: \n",
            "490\n",
            "The loss for epoch 5\n",
            "0.9520934426054662\n",
            "compute_validation\n",
            "running torch_single_train\n",
            "The running loss is:\n",
            "450.04969441890717\n",
            "The number of items in train is: \n",
            "490\n",
            "The loss for epoch 6\n",
            "0.9184687641202187\n",
            "compute_validation\n",
            "running torch_single_train\n",
            "The running loss is:\n",
            "424.68484050035477\n",
            "The number of items in train is: \n",
            "490\n",
            "The loss for epoch 7\n",
            "0.866703756123173\n",
            "compute_validation\n",
            "running torch_single_train\n",
            "The running loss is:\n",
            "386.3101443052292\n",
            "The number of items in train is: \n",
            "490\n",
            "The loss for epoch 8\n",
            "0.7883880496025085\n",
            "compute_validation\n",
            "running torch_single_train\n",
            "The running loss is:\n",
            "328.5452266931534\n",
            "The number of items in train is: \n",
            "490\n",
            "The loss for epoch 9\n",
            "0.6705004626390886\n",
            "compute_validation\n",
            "compute_validation\n"
          ],
          "name": "stdout"
        },
        {
          "output_type": "display_data",
          "data": {
            "text/html": [
              "<br/>Waiting for W&B process to finish, PID 4072<br/>Program failed with code 1.  Press ctrl-c to abort syncing."
            ],
            "text/plain": [
              "<IPython.core.display.HTML object>"
            ]
          },
          "metadata": {
            "tags": []
          }
        },
        {
          "output_type": "display_data",
          "data": {
            "application/vnd.jupyter.widget-view+json": {
              "model_id": "e530b5077b004d64a355e0bcb507565a",
              "version_minor": 0,
              "version_major": 2
            },
            "text/plain": [
              "VBox(children=(Label(value=' 0.01MB of 0.01MB uploaded (0.00MB deduped)\\r'), FloatProgress(value=1.0, max=1.0)…"
            ]
          },
          "metadata": {
            "tags": []
          }
        },
        {
          "output_type": "display_data",
          "data": {
            "text/html": [
              "Find user logs for this run at: <code>/content/flow-forecast/wandb/run-20210214_042428-dmsmnugl/logs/debug.log</code>"
            ],
            "text/plain": [
              "<IPython.core.display.HTML object>"
            ]
          },
          "metadata": {
            "tags": []
          }
        },
        {
          "output_type": "display_data",
          "data": {
            "text/html": [
              "Find internal logs for this run at: <code>/content/flow-forecast/wandb/run-20210214_042428-dmsmnugl/logs/debug-internal.log</code>"
            ],
            "text/plain": [
              "<IPython.core.display.HTML object>"
            ]
          },
          "metadata": {
            "tags": []
          }
        },
        {
          "output_type": "display_data",
          "data": {
            "text/html": [
              "<h3>Run summary:</h3><br/><style>\n",
              "    table.wandb td:nth-child(1) { padding: 0 10px; text-align: right }\n",
              "    </style><table class=\"wandb\">\n",
              "<tr><td>epoch</td><td>9</td></tr><tr><td>_runtime</td><td>326</td></tr><tr><td>_timestamp</td><td>1613276994</td></tr><tr><td>_step</td><td>19</td></tr><tr><td>loss</td><td>0.6705</td></tr></table>"
            ],
            "text/plain": [
              "<IPython.core.display.HTML object>"
            ]
          },
          "metadata": {
            "tags": []
          }
        },
        {
          "output_type": "display_data",
          "data": {
            "text/html": [
              "<h3>Run history:</h3><br/><style>\n",
              "    table.wandb td:nth-child(1) { padding: 0 10px; text-align: right }\n",
              "    </style><table class=\"wandb\">\n",
              "<tr><td>epoch</td><td>▁▁▂▂▃▃▃▃▄▄▅▅▆▆▆▆▇▇██</td></tr><tr><td>_runtime</td><td>▁▁▂▂▃▃▃▃▄▄▅▅▆▆▆▆▇▇██</td></tr><tr><td>_timestamp</td><td>▁▁▂▂▃▃▃▃▄▄▅▅▆▆▆▆▇▇██</td></tr><tr><td>_step</td><td>▁▁▂▂▂▃▃▄▄▄▅▅▅▆▆▇▇▇██</td></tr><tr><td>loss</td><td>████▇▇▆▅▃▁</td></tr></table><br/>"
            ],
            "text/plain": [
              "<IPython.core.display.HTML object>"
            ]
          },
          "metadata": {
            "tags": []
          }
        },
        {
          "output_type": "display_data",
          "data": {
            "text/html": [
              "Synced 5 W&B file(s), 1 media file(s), 0 artifact file(s) and 0 other file(s)"
            ],
            "text/plain": [
              "<IPython.core.display.HTML object>"
            ]
          },
          "metadata": {
            "tags": []
          }
        },
        {
          "output_type": "display_data",
          "data": {
            "text/html": [
              "\n",
              "                    <br/>Synced <strong style=\"color:#cdcd00\">toasty-sweep-4</strong>: <a href=\"https://wandb.ai/igodfried/github_aistream-peelout_flow-forecast/runs/dmsmnugl\" target=\"_blank\">https://wandb.ai/igodfried/github_aistream-peelout_flow-forecast/runs/dmsmnugl</a><br/>\n",
              "                "
            ],
            "text/plain": [
              "<IPython.core.display.HTML object>"
            ]
          },
          "metadata": {
            "tags": []
          }
        },
        {
          "output_type": "stream",
          "text": [
            "Run dmsmnugl errored: TypeError(\"can't convert cuda:0 device type tensor to numpy. Use Tensor.cpu() to copy the tensor to host memory first.\",)\n",
            "\u001b[34m\u001b[1mwandb\u001b[0m: \u001b[32m\u001b[41mERROR\u001b[0m Run dmsmnugl errored: TypeError(\"can't convert cuda:0 device type tensor to numpy. Use Tensor.cpu() to copy the tensor to host memory first.\",)\n",
            "\u001b[34m\u001b[1mwandb\u001b[0m: Agent Starting Run: jqnfj0w8 with config:\n",
            "\u001b[34m\u001b[1mwandb\u001b[0m: \tbatch_size: 100\n",
            "\u001b[34m\u001b[1mwandb\u001b[0m: \tdropout: 0.4\n",
            "\u001b[34m\u001b[1mwandb\u001b[0m: \tforecast_history: 5\n",
            "\u001b[34m\u001b[1mwandb\u001b[0m: \tforecast_length: 1\n",
            "\u001b[34m\u001b[1mwandb\u001b[0m: \tlr: 0.0001\n",
            "\u001b[34m\u001b[1mwandb\u001b[0m: \tnumber_encoder_layers: 5\n",
            "\u001b[34m\u001b[1mwandb\u001b[0m: \tuse_mask: True\n",
            "\u001b[34m\u001b[1mwandb\u001b[0m: \u001b[33mWARNING\u001b[0m Ignored wandb.init() arg project when running a sweep\n"
          ],
          "name": "stderr"
        },
        {
          "output_type": "display_data",
          "data": {
            "text/html": [
              "\n",
              "                Tracking run with wandb version 0.10.18<br/>\n",
              "                Syncing run <strong style=\"color:#cdcd00\">lyric-sweep-5</strong> to <a href=\"https://wandb.ai\" target=\"_blank\">Weights & Biases</a> <a href=\"https://docs.wandb.com/integrations/jupyter.html\" target=\"_blank\">(Documentation)</a>.<br/>\n",
              "                Project page: <a href=\"https://wandb.ai/igodfried/github_aistream-peelout_flow-forecast\" target=\"_blank\">https://wandb.ai/igodfried/github_aistream-peelout_flow-forecast</a><br/>\n",
              "                Sweep page: <a href=\"https://wandb.ai/igodfried/github_aistream-peelout_flow-forecast/sweeps/iofhhmc4\" target=\"_blank\">https://wandb.ai/igodfried/github_aistream-peelout_flow-forecast/sweeps/iofhhmc4</a><br/>\n",
              "Run page: <a href=\"https://wandb.ai/igodfried/github_aistream-peelout_flow-forecast/runs/jqnfj0w8\" target=\"_blank\">https://wandb.ai/igodfried/github_aistream-peelout_flow-forecast/runs/jqnfj0w8</a><br/>\n",
              "                Run data is saved locally in <code>/content/flow-forecast/wandb/run-20210214_042958-jqnfj0w8</code><br/><br/>\n",
              "            "
            ],
            "text/plain": [
              "<IPython.core.display.HTML object>"
            ]
          },
          "metadata": {
            "tags": []
          }
        },
        {
          "output_type": "stream",
          "text": [
            "{'batch_size': 100, 'dropout': 0.4, 'forecast_history': 5, 'forecast_length': 1, 'lr': 0.0001, 'number_encoder_layers': 5, 'use_mask': True}\n",
            "config made\n",
            "interpolate should be below\n",
            "running feature fix code s\n",
            "Relevant cols are\n",
            "['cos_hour', 'sin_hour', 'cos_month', 'sin_month']\n",
            "Now loading/content/joined_final_3/09405500AZC_flow.csv\n",
            "scaling now\n",
            "1\n",
            "interpolate should be below\n",
            "running feature fix code s\n",
            "Relevant cols are\n",
            "['cos_hour', 'sin_hour', 'cos_month', 'sin_month']\n",
            "Now loading/content/joined_final_3/09405500AZC_flow.csv\n",
            "scaling now\n",
            "1\n",
            "interpolate should be below\n",
            "running feature fix code s\n",
            "Relevant cols are\n",
            "['cos_hour', 'sin_hour', 'cos_month', 'sin_month']\n",
            "Now loading/content/joined_final_3/09405500AZC_flow.csv\n",
            "scaling now\n",
            "1\n",
            "Using Wandb config:\n",
            "{'batch_size': 100, 'dropout': 0.4, 'forecast_history': 5, 'forecast_length': 1, 'lr': 0.0001, 'number_encoder_layers': 5, 'use_mask': True, 'model_name': 'CustomTransformerDecoder', 'model_type': 'PyTorch', 'model_params': {'dropout': 0.4, 'seq_length': 5, 'n_time_series': 8, 'output_seq_length': 1, 'n_layers_encoder': 5, 'use_mask': True}, 'dataset_params': {'class': 'default', 'no_scale': True, 'num_workers': 12, 'pin_memory': True, 'training_path': '/content/joined_final_3/09405500AZC_flow.csv', 'validation_path': '/content/joined_final_3/09405500AZC_flow.csv', 'test_path': '/content/joined_final_3/09405500AZC_flow.csv', 'batch_size': 100, 'forecast_test_len': 100, 'forecast_history': 5, 'forecast_length': 1, 'scaler': 'StandardScaler', 'train_start': 1000, 'train_end': 50000, 'valid_start': 50001, 'valid_end': 57000, 'sort_column': 'hour_updated', 'test_start': 57000, 'test_end': 58000, 'target_col': ['cfs'], 'relevant_cols': ['cfs', 'tmpf', 'p01m', 'dwpf'], 'interpolate': {'method': 'back_forward_generic', 'params': {'relevant_columns': ['cfs', 'tmpf', 'p01m', 'dwpf']}}, 'feature_param': {'datetime_params': {'hour': 'cyclical', 'month': 'cyclical'}}}, 'training_params': {'criterion': 'MAPE', 'optimizer': 'SGD', 'optim_params': {'lr': 0.0001}, 'epochs': 10, 'batch_size': 100}, 'early_stopping': {'patience': 3}, 'GCS': True, 'sweep': True, 'wandb': False, 'forward_params': {}, 'metrics': ['MSE', 'DilateLoss'], 'inference_params': {'datetime_start': '2020-05-31', 'hours_to_forecast': 336, 'num_prediction_samples': 20, 'test_csv_path': '/content/joined_final_3/09405500AZC_flow.csv', 'decoder_params': {'decoder_function': 'simple_decode', 'unsqueeze_dim': 1}, 'dataset_params': {'file_path': '/content/joined_final_3/09405500AZC_flow.csv', 'sort_column': 'hour_updated', 'scaling': 'StandardScaler', 'forecast_history': 5, 'forecast_length': 1, 'relevant_cols': ['cfs', 'tmpf', 'p01m', 'dwpf'], 'target_col': ['cfs'], 'interpolate_param': {'method': 'back_forward_generic', 'params': {'relevant_columns': ['cfs', 'tmpf', 'p01m', 'dwpf']}}, 'feature_params': {'datetime_params': {'hour': 'cyclical', 'month': 'cyclical'}}}}}\n",
            "Torch is using cuda\n",
            "Pin memory set to true\n",
            "running torch_single_train\n",
            "The running loss is:\n",
            "485.35434025526047\n",
            "The number of items in train is: \n",
            "490\n",
            "The loss for epoch 0\n",
            "0.9905190617454295\n",
            "compute_validation\n"
          ],
          "name": "stdout"
        },
        {
          "output_type": "stream",
          "text": [
            "torch.range is deprecated and will be removed in a future release because its behavior is inconsistent with Python's range builtin. Instead, use torch.arange, which produces values in [start, end).\n"
          ],
          "name": "stderr"
        },
        {
          "output_type": "stream",
          "text": [
            "running torch_single_train\n",
            "The running loss is:\n",
            "484.8500369787216\n",
            "The number of items in train is: \n",
            "490\n",
            "The loss for epoch 1\n",
            "0.9894898713851462\n",
            "compute_validation\n",
            "running torch_single_train\n",
            "The running loss is:\n",
            "484.3354551792145\n",
            "The number of items in train is: \n",
            "490\n",
            "The loss for epoch 2\n",
            "0.9884397044473765\n",
            "compute_validation\n",
            "running torch_single_train\n",
            "The running loss is:\n",
            "483.80721682310104\n",
            "The number of items in train is: \n",
            "490\n",
            "The loss for epoch 3\n",
            "0.9873616669859205\n",
            "compute_validation\n",
            "running torch_single_train\n",
            "The running loss is:\n",
            "483.2525710463524\n",
            "The number of items in train is: \n",
            "490\n",
            "The loss for epoch 4\n",
            "0.9862297368292906\n",
            "compute_validation\n",
            "running torch_single_train\n",
            "The running loss is:\n",
            "482.7045461535454\n",
            "The number of items in train is: \n",
            "490\n",
            "The loss for epoch 5\n",
            "0.9851113186807049\n",
            "compute_validation\n",
            "running torch_single_train\n",
            "The running loss is:\n",
            "482.1015191078186\n",
            "The number of items in train is: \n",
            "490\n",
            "The loss for epoch 6\n",
            "0.9838806512404461\n",
            "compute_validation\n",
            "running torch_single_train\n",
            "The running loss is:\n",
            "481.48720622062683\n",
            "The number of items in train is: \n",
            "490\n",
            "The loss for epoch 7\n",
            "0.982626951470667\n",
            "compute_validation\n",
            "running torch_single_train\n",
            "The running loss is:\n",
            "480.84896540641785\n",
            "The number of items in train is: \n",
            "490\n",
            "The loss for epoch 8\n",
            "0.9813244191967712\n",
            "compute_validation\n",
            "running torch_single_train\n",
            "The running loss is:\n",
            "480.1640111207962\n",
            "The number of items in train is: \n",
            "490\n",
            "The loss for epoch 9\n",
            "0.9799265533077474\n",
            "compute_validation\n",
            "compute_validation\n"
          ],
          "name": "stdout"
        },
        {
          "output_type": "display_data",
          "data": {
            "text/html": [
              "<br/>Waiting for W&B process to finish, PID 5158<br/>Program failed with code 1.  Press ctrl-c to abort syncing."
            ],
            "text/plain": [
              "<IPython.core.display.HTML object>"
            ]
          },
          "metadata": {
            "tags": []
          }
        },
        {
          "output_type": "display_data",
          "data": {
            "application/vnd.jupyter.widget-view+json": {
              "model_id": "27ee2c42f88b4081a3743efc833abcae",
              "version_minor": 0,
              "version_major": 2
            },
            "text/plain": [
              "VBox(children=(Label(value=' 0.01MB of 0.01MB uploaded (0.00MB deduped)\\r'), FloatProgress(value=1.0, max=1.0)…"
            ]
          },
          "metadata": {
            "tags": []
          }
        },
        {
          "output_type": "display_data",
          "data": {
            "text/html": [
              "Find user logs for this run at: <code>/content/flow-forecast/wandb/run-20210214_042958-jqnfj0w8/logs/debug.log</code>"
            ],
            "text/plain": [
              "<IPython.core.display.HTML object>"
            ]
          },
          "metadata": {
            "tags": []
          }
        },
        {
          "output_type": "display_data",
          "data": {
            "text/html": [
              "Find internal logs for this run at: <code>/content/flow-forecast/wandb/run-20210214_042958-jqnfj0w8/logs/debug-internal.log</code>"
            ],
            "text/plain": [
              "<IPython.core.display.HTML object>"
            ]
          },
          "metadata": {
            "tags": []
          }
        },
        {
          "output_type": "display_data",
          "data": {
            "text/html": [
              "<h3>Run summary:</h3><br/><style>\n",
              "    table.wandb td:nth-child(1) { padding: 0 10px; text-align: right }\n",
              "    </style><table class=\"wandb\">\n",
              "<tr><td>epoch</td><td>9</td></tr><tr><td>_runtime</td><td>301</td></tr><tr><td>_timestamp</td><td>1613277299</td></tr><tr><td>_step</td><td>19</td></tr><tr><td>loss</td><td>0.97993</td></tr></table>"
            ],
            "text/plain": [
              "<IPython.core.display.HTML object>"
            ]
          },
          "metadata": {
            "tags": []
          }
        },
        {
          "output_type": "display_data",
          "data": {
            "text/html": [
              "<h3>Run history:</h3><br/><style>\n",
              "    table.wandb td:nth-child(1) { padding: 0 10px; text-align: right }\n",
              "    </style><table class=\"wandb\">\n",
              "<tr><td>epoch</td><td>▁▁▂▂▃▃▃▃▄▄▅▅▆▆▆▆▇▇██</td></tr><tr><td>_runtime</td><td>▁▁▂▂▃▃▃▃▄▄▅▅▆▆▆▆▇▇██</td></tr><tr><td>_timestamp</td><td>▁▁▂▂▃▃▃▃▄▄▅▅▆▆▆▆▇▇██</td></tr><tr><td>_step</td><td>▁▁▂▂▂▃▃▄▄▄▅▅▅▆▆▇▇▇██</td></tr><tr><td>loss</td><td>█▇▇▆▅▄▄▃▂▁</td></tr></table><br/>"
            ],
            "text/plain": [
              "<IPython.core.display.HTML object>"
            ]
          },
          "metadata": {
            "tags": []
          }
        },
        {
          "output_type": "display_data",
          "data": {
            "text/html": [
              "Synced 5 W&B file(s), 1 media file(s), 0 artifact file(s) and 0 other file(s)"
            ],
            "text/plain": [
              "<IPython.core.display.HTML object>"
            ]
          },
          "metadata": {
            "tags": []
          }
        },
        {
          "output_type": "display_data",
          "data": {
            "text/html": [
              "\n",
              "                    <br/>Synced <strong style=\"color:#cdcd00\">lyric-sweep-5</strong>: <a href=\"https://wandb.ai/igodfried/github_aistream-peelout_flow-forecast/runs/jqnfj0w8\" target=\"_blank\">https://wandb.ai/igodfried/github_aistream-peelout_flow-forecast/runs/jqnfj0w8</a><br/>\n",
              "                "
            ],
            "text/plain": [
              "<IPython.core.display.HTML object>"
            ]
          },
          "metadata": {
            "tags": []
          }
        },
        {
          "output_type": "stream",
          "text": [
            "Run jqnfj0w8 errored: TypeError(\"can't convert cuda:0 device type tensor to numpy. Use Tensor.cpu() to copy the tensor to host memory first.\",)\n",
            "\u001b[34m\u001b[1mwandb\u001b[0m: \u001b[32m\u001b[41mERROR\u001b[0m Run jqnfj0w8 errored: TypeError(\"can't convert cuda:0 device type tensor to numpy. Use Tensor.cpu() to copy the tensor to host memory first.\",)\n",
            "\u001b[34m\u001b[1mwandb\u001b[0m: Agent Starting Run: vxriio8t with config:\n",
            "\u001b[34m\u001b[1mwandb\u001b[0m: \tbatch_size: 100\n",
            "\u001b[34m\u001b[1mwandb\u001b[0m: \tdropout: 0.4\n",
            "\u001b[34m\u001b[1mwandb\u001b[0m: \tforecast_history: 5\n",
            "\u001b[34m\u001b[1mwandb\u001b[0m: \tforecast_length: 1\n",
            "\u001b[34m\u001b[1mwandb\u001b[0m: \tlr: 0.0001\n",
            "\u001b[34m\u001b[1mwandb\u001b[0m: \tnumber_encoder_layers: 5\n",
            "\u001b[34m\u001b[1mwandb\u001b[0m: \tuse_mask: False\n",
            "\u001b[34m\u001b[1mwandb\u001b[0m: \u001b[33mWARNING\u001b[0m Ignored wandb.init() arg project when running a sweep\n"
          ],
          "name": "stderr"
        },
        {
          "output_type": "display_data",
          "data": {
            "text/html": [
              "\n",
              "                Tracking run with wandb version 0.10.18<br/>\n",
              "                Syncing run <strong style=\"color:#cdcd00\">sweepy-sweep-6</strong> to <a href=\"https://wandb.ai\" target=\"_blank\">Weights & Biases</a> <a href=\"https://docs.wandb.com/integrations/jupyter.html\" target=\"_blank\">(Documentation)</a>.<br/>\n",
              "                Project page: <a href=\"https://wandb.ai/igodfried/github_aistream-peelout_flow-forecast\" target=\"_blank\">https://wandb.ai/igodfried/github_aistream-peelout_flow-forecast</a><br/>\n",
              "                Sweep page: <a href=\"https://wandb.ai/igodfried/github_aistream-peelout_flow-forecast/sweeps/iofhhmc4\" target=\"_blank\">https://wandb.ai/igodfried/github_aistream-peelout_flow-forecast/sweeps/iofhhmc4</a><br/>\n",
              "Run page: <a href=\"https://wandb.ai/igodfried/github_aistream-peelout_flow-forecast/runs/vxriio8t\" target=\"_blank\">https://wandb.ai/igodfried/github_aistream-peelout_flow-forecast/runs/vxriio8t</a><br/>\n",
              "                Run data is saved locally in <code>/content/flow-forecast/wandb/run-20210214_043503-vxriio8t</code><br/><br/>\n",
              "            "
            ],
            "text/plain": [
              "<IPython.core.display.HTML object>"
            ]
          },
          "metadata": {
            "tags": []
          }
        },
        {
          "output_type": "stream",
          "text": [
            "{'batch_size': 100, 'dropout': 0.4, 'forecast_history': 5, 'forecast_length': 1, 'lr': 0.0001, 'number_encoder_layers': 5, 'use_mask': False}\n",
            "config made\n",
            "interpolate should be below\n",
            "running feature fix code s\n",
            "Relevant cols are\n",
            "['cos_hour', 'sin_hour', 'cos_month', 'sin_month']\n",
            "Now loading/content/joined_final_3/09405500AZC_flow.csv\n",
            "scaling now\n",
            "1\n",
            "interpolate should be below\n",
            "running feature fix code s\n",
            "Relevant cols are\n",
            "['cos_hour', 'sin_hour', 'cos_month', 'sin_month']\n",
            "Now loading/content/joined_final_3/09405500AZC_flow.csv\n",
            "scaling now\n",
            "1\n",
            "interpolate should be below\n",
            "running feature fix code s\n",
            "Relevant cols are\n",
            "['cos_hour', 'sin_hour', 'cos_month', 'sin_month']\n",
            "Now loading/content/joined_final_3/09405500AZC_flow.csv\n",
            "scaling now\n",
            "1\n",
            "Using Wandb config:\n",
            "{'batch_size': 100, 'dropout': 0.4, 'forecast_history': 5, 'forecast_length': 1, 'lr': 0.0001, 'number_encoder_layers': 5, 'use_mask': False, 'model_name': 'CustomTransformerDecoder', 'model_type': 'PyTorch', 'model_params': {'dropout': 0.4, 'seq_length': 5, 'n_time_series': 8, 'output_seq_length': 1, 'n_layers_encoder': 5, 'use_mask': False}, 'dataset_params': {'class': 'default', 'no_scale': True, 'num_workers': 12, 'pin_memory': True, 'training_path': '/content/joined_final_3/09405500AZC_flow.csv', 'validation_path': '/content/joined_final_3/09405500AZC_flow.csv', 'test_path': '/content/joined_final_3/09405500AZC_flow.csv', 'batch_size': 100, 'forecast_test_len': 100, 'forecast_history': 5, 'forecast_length': 1, 'scaler': 'StandardScaler', 'train_start': 1000, 'train_end': 50000, 'valid_start': 50001, 'valid_end': 57000, 'sort_column': 'hour_updated', 'test_start': 57000, 'test_end': 58000, 'target_col': ['cfs'], 'relevant_cols': ['cfs', 'tmpf', 'p01m', 'dwpf'], 'interpolate': {'method': 'back_forward_generic', 'params': {'relevant_columns': ['cfs', 'tmpf', 'p01m', 'dwpf']}}, 'feature_param': {'datetime_params': {'hour': 'cyclical', 'month': 'cyclical'}}}, 'training_params': {'criterion': 'MAPE', 'optimizer': 'SGD', 'optim_params': {'lr': 0.0001}, 'epochs': 10, 'batch_size': 100}, 'early_stopping': {'patience': 3}, 'GCS': True, 'sweep': True, 'wandb': False, 'forward_params': {}, 'metrics': ['MSE', 'DilateLoss'], 'inference_params': {'datetime_start': '2020-05-31', 'hours_to_forecast': 336, 'num_prediction_samples': 20, 'test_csv_path': '/content/joined_final_3/09405500AZC_flow.csv', 'decoder_params': {'decoder_function': 'simple_decode', 'unsqueeze_dim': 1}, 'dataset_params': {'file_path': '/content/joined_final_3/09405500AZC_flow.csv', 'sort_column': 'hour_updated', 'scaling': 'StandardScaler', 'forecast_history': 5, 'forecast_length': 1, 'relevant_cols': ['cfs', 'tmpf', 'p01m', 'dwpf'], 'target_col': ['cfs'], 'interpolate_param': {'method': 'back_forward_generic', 'params': {'relevant_columns': ['cfs', 'tmpf', 'p01m', 'dwpf']}}, 'feature_params': {'datetime_params': {'hour': 'cyclical', 'month': 'cyclical'}}}}}\n",
            "Torch is using cuda\n",
            "Pin memory set to true\n",
            "running torch_single_train\n",
            "The running loss is:\n",
            "489.56051605939865\n",
            "The number of items in train is: \n",
            "490\n",
            "The loss for epoch 0\n",
            "0.9991030939987727\n",
            "compute_validation\n"
          ],
          "name": "stdout"
        },
        {
          "output_type": "stream",
          "text": [
            "torch.range is deprecated and will be removed in a future release because its behavior is inconsistent with Python's range builtin. Instead, use torch.arange, which produces values in [start, end).\n"
          ],
          "name": "stderr"
        },
        {
          "output_type": "stream",
          "text": [
            "running torch_single_train\n",
            "The running loss is:\n",
            "489.16821748018265\n",
            "The number of items in train is: \n",
            "490\n",
            "The loss for epoch 1\n",
            "0.998302484653434\n",
            "compute_validation\n",
            "running torch_single_train\n",
            "The running loss is:\n",
            "488.73000633716583\n",
            "The number of items in train is: \n",
            "490\n",
            "The loss for epoch 2\n",
            "0.9974081761982976\n",
            "compute_validation\n",
            "running torch_single_train\n",
            "The running loss is:\n",
            "488.2736134529114\n",
            "The number of items in train is: \n",
            "490\n",
            "The loss for epoch 3\n",
            "0.9964767621487988\n",
            "compute_validation\n",
            "running torch_single_train\n",
            "The running loss is:\n",
            "487.8365395665169\n",
            "The number of items in train is: \n",
            "490\n",
            "The loss for epoch 4\n",
            "0.9955847746255446\n",
            "compute_validation\n",
            "running torch_single_train\n",
            "The running loss is:\n",
            "487.38190072774887\n",
            "The number of items in train is: \n",
            "490\n",
            "The loss for epoch 5\n",
            "0.9946569402607119\n",
            "compute_validation\n",
            "running torch_single_train\n",
            "The running loss is:\n",
            "486.9034397006035\n",
            "The number of items in train is: \n",
            "490\n",
            "The loss for epoch 6\n",
            "0.993680489184905\n",
            "compute_validation\n",
            "running torch_single_train\n",
            "The running loss is:\n",
            "486.37991523742676\n",
            "The number of items in train is: \n",
            "490\n",
            "The loss for epoch 7\n",
            "0.9926120719131158\n",
            "compute_validation\n",
            "running torch_single_train\n",
            "The running loss is:\n",
            "485.8969410061836\n",
            "The number of items in train is: \n",
            "490\n",
            "The loss for epoch 8\n",
            "0.9916264102167013\n",
            "compute_validation\n",
            "running torch_single_train\n",
            "The running loss is:\n",
            "485.3389747738838\n",
            "The number of items in train is: \n",
            "490\n",
            "The loss for epoch 9\n",
            "0.990487703620171\n",
            "compute_validation\n",
            "compute_validation\n"
          ],
          "name": "stdout"
        },
        {
          "output_type": "display_data",
          "data": {
            "text/html": [
              "<br/>Waiting for W&B process to finish, PID 6242<br/>Program failed with code 1.  Press ctrl-c to abort syncing."
            ],
            "text/plain": [
              "<IPython.core.display.HTML object>"
            ]
          },
          "metadata": {
            "tags": []
          }
        },
        {
          "output_type": "display_data",
          "data": {
            "application/vnd.jupyter.widget-view+json": {
              "model_id": "9f688347032d4675993ff774df3c3aa6",
              "version_minor": 0,
              "version_major": 2
            },
            "text/plain": [
              "VBox(children=(Label(value=' 0.01MB of 0.01MB uploaded (0.00MB deduped)\\r'), FloatProgress(value=1.0, max=1.0)…"
            ]
          },
          "metadata": {
            "tags": []
          }
        },
        {
          "output_type": "display_data",
          "data": {
            "text/html": [
              "Find user logs for this run at: <code>/content/flow-forecast/wandb/run-20210214_043503-vxriio8t/logs/debug.log</code>"
            ],
            "text/plain": [
              "<IPython.core.display.HTML object>"
            ]
          },
          "metadata": {
            "tags": []
          }
        },
        {
          "output_type": "display_data",
          "data": {
            "text/html": [
              "Find internal logs for this run at: <code>/content/flow-forecast/wandb/run-20210214_043503-vxriio8t/logs/debug-internal.log</code>"
            ],
            "text/plain": [
              "<IPython.core.display.HTML object>"
            ]
          },
          "metadata": {
            "tags": []
          }
        },
        {
          "output_type": "display_data",
          "data": {
            "text/html": [
              "<h3>Run summary:</h3><br/><style>\n",
              "    table.wandb td:nth-child(1) { padding: 0 10px; text-align: right }\n",
              "    </style><table class=\"wandb\">\n",
              "<tr><td>epoch</td><td>9</td></tr><tr><td>_runtime</td><td>307</td></tr><tr><td>_timestamp</td><td>1613277611</td></tr><tr><td>_step</td><td>19</td></tr><tr><td>loss</td><td>0.99049</td></tr></table>"
            ],
            "text/plain": [
              "<IPython.core.display.HTML object>"
            ]
          },
          "metadata": {
            "tags": []
          }
        },
        {
          "output_type": "display_data",
          "data": {
            "text/html": [
              "<h3>Run history:</h3><br/><style>\n",
              "    table.wandb td:nth-child(1) { padding: 0 10px; text-align: right }\n",
              "    </style><table class=\"wandb\">\n",
              "<tr><td>epoch</td><td>▁▁▂▂▃▃▃▃▄▄▅▅▆▆▆▆▇▇██</td></tr><tr><td>_runtime</td><td>▁▁▂▂▃▃▃▃▄▄▅▅▆▆▆▆▇▇██</td></tr><tr><td>_timestamp</td><td>▁▁▂▂▃▃▃▃▄▄▅▅▆▆▆▆▇▇██</td></tr><tr><td>_step</td><td>▁▁▂▂▂▃▃▄▄▄▅▅▅▆▆▇▇▇██</td></tr><tr><td>loss</td><td>█▇▇▆▅▄▄▃▂▁</td></tr></table><br/>"
            ],
            "text/plain": [
              "<IPython.core.display.HTML object>"
            ]
          },
          "metadata": {
            "tags": []
          }
        },
        {
          "output_type": "display_data",
          "data": {
            "text/html": [
              "Synced 5 W&B file(s), 1 media file(s), 0 artifact file(s) and 0 other file(s)"
            ],
            "text/plain": [
              "<IPython.core.display.HTML object>"
            ]
          },
          "metadata": {
            "tags": []
          }
        },
        {
          "output_type": "display_data",
          "data": {
            "text/html": [
              "\n",
              "                    <br/>Synced <strong style=\"color:#cdcd00\">sweepy-sweep-6</strong>: <a href=\"https://wandb.ai/igodfried/github_aistream-peelout_flow-forecast/runs/vxriio8t\" target=\"_blank\">https://wandb.ai/igodfried/github_aistream-peelout_flow-forecast/runs/vxriio8t</a><br/>\n",
              "                "
            ],
            "text/plain": [
              "<IPython.core.display.HTML object>"
            ]
          },
          "metadata": {
            "tags": []
          }
        },
        {
          "output_type": "stream",
          "text": [
            "Run vxriio8t errored: TypeError(\"can't convert cuda:0 device type tensor to numpy. Use Tensor.cpu() to copy the tensor to host memory first.\",)\n",
            "\u001b[34m\u001b[1mwandb\u001b[0m: \u001b[32m\u001b[41mERROR\u001b[0m Run vxriio8t errored: TypeError(\"can't convert cuda:0 device type tensor to numpy. Use Tensor.cpu() to copy the tensor to host memory first.\",)\n",
            "Detected 5 failed runs in a row at start, killing sweep.\n",
            "\u001b[34m\u001b[1mwandb\u001b[0m: \u001b[32m\u001b[41mERROR\u001b[0m Detected 5 failed runs in a row at start, killing sweep.\n",
            "\u001b[34m\u001b[1mwandb\u001b[0m: To change this value set WANDB_AGENT_MAX_INITIAL_FAILURES=val\n"
          ],
          "name": "stderr"
        }
      ]
    },
    {
      "cell_type": "code",
      "metadata": {
        "id": "XfxQh1-0T047",
        "colab": {
          "base_uri": "https://localhost:8080/"
        },
        "outputId": "6f18c654-34c7-4eae-a41d-de23a1d8da57"
      },
      "source": [
        "import pandas as pd \n",
        "df = pd.read_csv(\"/content/joined_final_3/09406000AZC_flow.csv\")"
      ],
      "execution_count": null,
      "outputs": [
        {
          "output_type": "stream",
          "text": [
            "Columns (2,4,7,8,9,16,20) have mixed types.Specify dtype option on import or set low_memory=False.\n"
          ],
          "name": "stderr"
        }
      ]
    },
    {
      "cell_type": "code",
      "metadata": {
        "id": "1lSeUUGyWpjZ"
      },
      "source": [
        "df"
      ],
      "execution_count": null,
      "outputs": []
    },
    {
      "cell_type": "code",
      "metadata": {
        "id": "j8DSpabKWp7Q"
      },
      "source": [
        "len(df)"
      ],
      "execution_count": null,
      "outputs": []
    },
    {
      "cell_type": "code",
      "metadata": {
        "id": "vr5H_naS5PPV"
      },
      "source": [
        ""
      ],
      "execution_count": null,
      "outputs": []
    }
  ]
}