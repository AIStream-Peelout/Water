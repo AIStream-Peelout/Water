{
 "cells": [
  {
   "cell_type": "code",
   "execution_count": 1,
   "id": "5e187eca",
   "metadata": {},
   "outputs": [],
   "source": [
    "import json\n",
    "import sys\n",
    "import os\n",
    "sys.path.append('/Users/gisaac/Documents/GitHub/river_flow_notebooks/')\n",
    "\n",
    "with open(\"scan_09408150.json\") as f:\n",
    "    data = json.load(f)"
   ]
  },
  {
   "cell_type": "code",
   "execution_count": 2,
   "id": "36cf3be1",
   "metadata": {},
   "outputs": [],
   "source": [
    "from scraping_functions import HydroScraper"
   ]
  },
  {
   "cell_type": "code",
   "execution_count": 6,
   "id": "8214581f",
   "metadata": {},
   "outputs": [
    {
     "name": "stdout",
     "output_type": "stream",
     "text": [
      "Getting request from USGS\n",
      "http://waterservices.usgs.gov/nwis/iv/?format=rdb,1.0&sites=09408150&startDT=1988-01-01&endDT=2024-01-30&parameterCd=00060,00065,00045&siteStatus=all\n",
      "Request finished\n"
     ]
    },
    {
     "name": "stderr",
     "output_type": "stream",
     "text": [
      "/Users/gisaac/Documents/GitHub/river_flow_notebooks/scraping_functions.py:112: DtypeWarning: Columns (1,4,6,7) have mixed types. Specify dtype option on import or set low_memory=False.\n",
      "  df = pd.read_csv(file_path, sep=\"\\t\")\n",
      "/Users/gisaac/Documents/GitHub/river_flow_notebooks/scraping_functions.py:63: SettingWithCopyWarning: \n",
      "A value is trying to be set on a copy of a slice from a DataFrame.\n",
      "Try using .loc[row_indexer,col_indexer] = value instead\n",
      "\n",
      "See the caveats in the documentation: https://pandas.pydata.org/pandas-docs/stable/user_guide/indexing.html#returning-a-view-versus-a-copy\n",
      "  df[\"datetime\"] = df[\"datetime\"].map(lambda x: old_timezone.localize(datetime.strptime(x, \"%Y-%m-%d %H:%M\")).astimezone(new_timezone))\n",
      "/Users/gisaac/Documents/GitHub/river_flow_notebooks/scraping_functions.py:64: SettingWithCopyWarning: \n",
      "A value is trying to be set on a copy of a slice from a DataFrame.\n",
      "Try using .loc[row_indexer,col_indexer] = value instead\n",
      "\n",
      "See the caveats in the documentation: https://pandas.pydata.org/pandas-docs/stable/user_guide/indexing.html#returning-a-view-versus-a-copy\n",
      "  df[\"cfs\"] = pd.to_numeric(df['cfs'], errors='coerce')\n"
     ]
    },
    {
     "name": "stdout",
     "output_type": "stream",
     "text": [
      "Getting request from ASOS\n",
      "https://mesonet.agron.iastate.edu/cgi-bin/request/asos.py?station=SGU&data=tmpf&data=dwpf&data=relh&data=feel&data=sknt&data=sped&data=alti&data=mslp&data=drct&data=ice_accretion_1hr&data=p01m&data=vsby&data=gust&data=skyc1&data=peak_wind_gust&data=snowdepth&year1=1988&month1=1&day1=1&year2=2024&month2=2&day2=1&tz=Etc%2FUTC&format=onlycomma&latlon=no&elev=no&missing=M&trace=T&direct=no&report_type=3&report_type=4\n"
     ]
    },
    {
     "name": "stderr",
     "output_type": "stream",
     "text": [
      "/Users/gisaac/Documents/GitHub/river_flow_notebooks/weather_scraping_functions.py:33: DtypeWarning: Columns (12) have mixed types. Specify dtype option on import or set low_memory=False.\n",
      "  df = pd.read_csv(path) # , parse_dates=['valid']\n"
     ]
    },
    {
     "name": "stdout",
     "output_type": "stream",
     "text": [
      "       station             valid   tmpf   dwpf   relh   feel  sknt  sped  \\\n",
      "0          SGU  1988-01-03 16:00  30.20      M      M      M  0.00  0.00   \n",
      "1          SGU  1988-01-03 17:00  35.60      M      M      M  0.00  0.00   \n",
      "2          SGU  1988-01-03 18:00  35.60      M      M      M  0.00  0.00   \n",
      "3          SGU  1988-01-03 19:00  35.60      M      M      M  0.00  0.00   \n",
      "4          SGU  1988-01-04 00:00  41.00      M      M      M  0.00  0.00   \n",
      "...        ...               ...    ...    ...    ...    ...   ...   ...   \n",
      "412982     SGU  2024-01-30 03:56  52.00  41.00  66.00  52.00  0.00  0.00   \n",
      "412983     SGU  2024-01-30 04:56  50.00  42.00  73.87  50.00  0.00  0.00   \n",
      "412984     SGU  2024-01-30 05:56  50.00  40.00  68.37  50.00  3.00  3.45   \n",
      "412985     SGU  2024-01-30 06:56  49.00  39.00  68.25  48.12  3.00  3.45   \n",
      "412986     SGU  2024-01-30 07:56  48.00  37.00  65.51  46.98  3.00  3.45   \n",
      "\n",
      "         alti     mslp    drct ice_accretion_1hr  p01m   vsby gust skyc1  \\\n",
      "0       30.30        M    0.00                 M     M  30.00    M   OVC   \n",
      "1       30.32        M    0.00                 M     M  30.00    M   BKN   \n",
      "2       30.30        M    0.00                 M     M  30.00    M   OVC   \n",
      "3       30.30        M    0.00                 M     M  30.00    M   OVC   \n",
      "4       30.25        M    0.00                 M     M  30.00    M   BKN   \n",
      "...       ...      ...     ...               ...   ...    ...  ...   ...   \n",
      "412982  30.21  1022.90    0.00                 M  0.00  10.00    M   CLR   \n",
      "412983  30.22  1023.20    0.00                 M  0.00  10.00    M   CLR   \n",
      "412984  30.23  1023.20  150.00                 M  0.00  10.00    M   CLR   \n",
      "412985  30.24  1023.50  160.00                 M  0.00  10.00    M   CLR   \n",
      "412986  30.25  1023.40  150.00                 M  0.00  10.00    M   CLR   \n",
      "\n",
      "       peak_wind_gust snowdepth  \n",
      "0                   M         M  \n",
      "1                   M         M  \n",
      "2                   M         M  \n",
      "3                   M         M  \n",
      "4                   M         M  \n",
      "...               ...       ...  \n",
      "412982              M         M  \n",
      "412983              M         M  \n",
      "412984              M         M  \n",
      "412985              M         M  \n",
      "412986              M         M  \n",
      "\n",
      "[412987 rows x 18 columns]\n",
      "       station             valid  tmpf  dwpf   relh   feel  sknt  sped   alti  \\\n",
      "0          SGU  1988-01-03 16:00  30.2   NaN    NaN    NaN   0.0  0.00  30.30   \n",
      "1          SGU  1988-01-03 17:00  35.6   NaN    NaN    NaN   0.0  0.00  30.32   \n",
      "2          SGU  1988-01-03 18:00  35.6   NaN    NaN    NaN   0.0  0.00  30.30   \n",
      "3          SGU  1988-01-03 19:00  35.6   NaN    NaN    NaN   0.0  0.00  30.30   \n",
      "4          SGU  1988-01-04 00:00  41.0   NaN    NaN    NaN   0.0  0.00  30.25   \n",
      "...        ...               ...   ...   ...    ...    ...   ...   ...    ...   \n",
      "412982     SGU  2024-01-30 03:56  52.0  41.0  66.00  52.00   0.0  0.00  30.21   \n",
      "412983     SGU  2024-01-30 04:56  50.0  42.0  73.87  50.00   0.0  0.00  30.22   \n",
      "412984     SGU  2024-01-30 05:56  50.0  40.0  68.37  50.00   3.0  3.45  30.23   \n",
      "412985     SGU  2024-01-30 06:56  49.0  39.0  68.25  48.12   3.0  3.45  30.24   \n",
      "412986     SGU  2024-01-30 07:56  48.0  37.0  65.51  46.98   3.0  3.45  30.25   \n",
      "\n",
      "          mslp   drct  ice_accretion_1hr  p01m  vsby  gust skyc1  \\\n",
      "0          NaN    0.0                NaN   NaN  30.0   NaN   OVC   \n",
      "1          NaN    0.0                NaN   NaN  30.0   NaN   BKN   \n",
      "2          NaN    0.0                NaN   NaN  30.0   NaN   OVC   \n",
      "3          NaN    0.0                NaN   NaN  30.0   NaN   OVC   \n",
      "4          NaN    0.0                NaN   NaN  30.0   NaN   BKN   \n",
      "...        ...    ...                ...   ...   ...   ...   ...   \n",
      "412982  1022.9    0.0                NaN   0.0  10.0   NaN   CLR   \n",
      "412983  1023.2    0.0                NaN   0.0  10.0   NaN   CLR   \n",
      "412984  1023.2  150.0                NaN   0.0  10.0   NaN   CLR   \n",
      "412985  1023.5  160.0                NaN   0.0  10.0   NaN   CLR   \n",
      "412986  1023.4  150.0                NaN   0.0  10.0   NaN   CLR   \n",
      "\n",
      "        peak_wind_gust  snowdepth        hour_updated  \n",
      "0                  NaN        NaN 1988-01-03 16:00:00  \n",
      "1                  NaN        NaN 1988-01-03 17:00:00  \n",
      "2                  NaN        NaN 1988-01-03 18:00:00  \n",
      "3                  NaN        NaN 1988-01-03 19:00:00  \n",
      "4                  NaN        NaN 1988-01-04 00:00:00  \n",
      "...                ...        ...                 ...  \n",
      "412982             NaN        NaN 2024-01-30 04:00:00  \n",
      "412983             NaN        NaN 2024-01-30 05:00:00  \n",
      "412984             NaN        NaN 2024-01-30 06:00:00  \n",
      "412985             NaN        NaN 2024-01-30 07:00:00  \n",
      "412986             NaN        NaN 2024-01-30 08:00:00  \n",
      "\n",
      "[412987 rows x 19 columns]\n",
      "after\n",
      "        Unnamed: 0         hour_updated  p01m             valid  tmpf  dwpf  \\\n",
      "0                0  1988-01-03 16:00:00   0.0  1988-01-03 16:00  30.2   NaN   \n",
      "1                1  1988-01-03 17:00:00   0.0  1988-01-03 17:00  35.6   NaN   \n",
      "2                2  1988-01-03 18:00:00   0.0  1988-01-03 18:00  35.6   NaN   \n",
      "3                3  1988-01-03 19:00:00   0.0  1988-01-03 19:00  35.6   NaN   \n",
      "4                4  1988-01-04 00:00:00   0.0  1988-01-04 00:00  41.0   NaN   \n",
      "...            ...                  ...   ...               ...   ...   ...   \n",
      "205004      205004  2024-01-30 04:00:00   0.0  2024-01-30 03:56  52.0  41.0   \n",
      "205005      205005  2024-01-30 05:00:00   0.0  2024-01-30 04:56  50.0  42.0   \n",
      "205006      205006  2024-01-30 06:00:00   0.0  2024-01-30 05:56  50.0  40.0   \n",
      "205007      205007  2024-01-30 07:00:00   0.0  2024-01-30 06:56  49.0  39.0   \n",
      "205008      205008  2024-01-30 08:00:00   0.0  2024-01-30 07:56  48.0  37.0   \n",
      "\n",
      "        ice_accretion_1hr    mslp   drct  sped   alti   relh  sknt   feel  \\\n",
      "0                     NaN     NaN    0.0  0.00  30.30    NaN   0.0    NaN   \n",
      "1                     NaN     NaN    0.0  0.00  30.32    NaN   0.0    NaN   \n",
      "2                     NaN     NaN    0.0  0.00  30.30    NaN   0.0    NaN   \n",
      "3                     NaN     NaN    0.0  0.00  30.30    NaN   0.0    NaN   \n",
      "4                     NaN     NaN    0.0  0.00  30.25    NaN   0.0    NaN   \n",
      "...                   ...     ...    ...   ...    ...    ...   ...    ...   \n",
      "205004                NaN  1022.9    0.0  0.00  30.21  66.00   0.0  52.00   \n",
      "205005                NaN  1023.2    0.0  0.00  30.22  73.87   0.0  50.00   \n",
      "205006                NaN  1023.2  150.0  3.45  30.23  68.37   3.0  50.00   \n",
      "205007                NaN  1023.5  160.0  3.45  30.24  68.25   3.0  48.12   \n",
      "205008                NaN  1023.4  150.0  3.45  30.25  65.51   3.0  46.98   \n",
      "\n",
      "        vsby  gust skyc1  peak_wind_gust  snowdepth  \n",
      "0       30.0   NaN   OVC             NaN        NaN  \n",
      "1       30.0   NaN   BKN             NaN        NaN  \n",
      "2       30.0   NaN   OVC             NaN        NaN  \n",
      "3       30.0   NaN   OVC             NaN        NaN  \n",
      "4       30.0   NaN   BKN             NaN        NaN  \n",
      "...      ...   ...   ...             ...        ...  \n",
      "205004  10.0   NaN   CLR             NaN        NaN  \n",
      "205005  10.0   NaN   CLR             NaN        NaN  \n",
      "205006  10.0   NaN   CLR             NaN        NaN  \n",
      "205007  10.0   NaN   CLR             NaN        NaN  \n",
      "205008  10.0   NaN   CLR             NaN        NaN  \n",
      "\n",
      "[205009 rows x 19 columns]\n",
      "        Unnamed: 0        hour_updated  p01m             valid  tmpf  dwpf  \\\n",
      "0                0 1988-01-03 16:00:00   0.0  1988-01-03 16:00  30.2   NaN   \n",
      "1                1 1988-01-03 17:00:00   0.0  1988-01-03 17:00  35.6   NaN   \n",
      "2                2 1988-01-03 18:00:00   0.0  1988-01-03 18:00  35.6   NaN   \n",
      "3                3 1988-01-03 19:00:00   0.0  1988-01-03 19:00  35.6   NaN   \n",
      "4                4 1988-01-04 00:00:00   0.0  1988-01-04 00:00  41.0   NaN   \n",
      "...            ...                 ...   ...               ...   ...   ...   \n",
      "205004      205004 2024-01-30 04:00:00   0.0  2024-01-30 03:56  52.0  41.0   \n",
      "205005      205005 2024-01-30 05:00:00   0.0  2024-01-30 04:56  50.0  42.0   \n",
      "205006      205006 2024-01-30 06:00:00   0.0  2024-01-30 05:56  50.0  40.0   \n",
      "205007      205007 2024-01-30 07:00:00   0.0  2024-01-30 06:56  49.0  39.0   \n",
      "205008      205008 2024-01-30 08:00:00   0.0  2024-01-30 07:56  48.0  37.0   \n",
      "\n",
      "        ice_accretion_1hr    mslp   drct  sped   alti   relh  sknt   feel  \\\n",
      "0                     NaN     NaN    0.0  0.00  30.30    NaN   0.0    NaN   \n",
      "1                     NaN     NaN    0.0  0.00  30.32    NaN   0.0    NaN   \n",
      "2                     NaN     NaN    0.0  0.00  30.30    NaN   0.0    NaN   \n",
      "3                     NaN     NaN    0.0  0.00  30.30    NaN   0.0    NaN   \n",
      "4                     NaN     NaN    0.0  0.00  30.25    NaN   0.0    NaN   \n",
      "...                   ...     ...    ...   ...    ...    ...   ...    ...   \n",
      "205004                NaN  1022.9    0.0  0.00  30.21  66.00   0.0  52.00   \n",
      "205005                NaN  1023.2    0.0  0.00  30.22  73.87   0.0  50.00   \n",
      "205006                NaN  1023.2  150.0  3.45  30.23  68.37   3.0  50.00   \n",
      "205007                NaN  1023.5  160.0  3.45  30.24  68.25   3.0  48.12   \n",
      "205008                NaN  1023.4  150.0  3.45  30.25  65.51   3.0  46.98   \n",
      "\n",
      "        vsby  gust skyc1  peak_wind_gust  snowdepth  \n",
      "0       30.0   NaN   OVC             NaN        NaN  \n",
      "1       30.0   NaN   BKN             NaN        NaN  \n",
      "2       30.0   NaN   OVC             NaN        NaN  \n",
      "3       30.0   NaN   OVC             NaN        NaN  \n",
      "4       30.0   NaN   BKN             NaN        NaN  \n",
      "...      ...   ...   ...             ...        ...  \n",
      "205004  10.0   NaN   CLR             NaN        NaN  \n",
      "205005  10.0   NaN   CLR             NaN        NaN  \n",
      "205006  10.0   NaN   CLR             NaN        NaN  \n",
      "205007  10.0   NaN   CLR             NaN        NaN  \n",
      "205008  10.0   NaN   CLR             NaN        NaN  \n",
      "\n",
      "[205009 rows x 19 columns]\n",
      "after\n",
      "Scraping completed\n"
     ]
    },
    {
     "name": "stderr",
     "output_type": "stream",
     "text": [
      "/Users/gisaac/anaconda3/lib/python3.11/site-packages/google/auth/_default.py:76: UserWarning: Your application has authenticated using end user credentials from Google Cloud SDK without a quota project. You might receive a \"quota exceeded\" or \"API not enabled\" error. See the following page for troubleshooting: https://cloud.google.com/docs/authentication/adc-troubleshooting/user-creds. \n",
      "  warnings.warn(_CLOUD_SDK_CREDENTIALS_WARNING)\n"
     ]
    },
    {
     "name": "stdout",
     "output_type": "stream",
     "text": [
      "LoadJob<project=hydro-earthnet-db, location=EU, id=e5e9cbd2-f966-4723-bce3-fd2cbff09d82>\n",
      "ASOS data written to BigQuery\n"
     ]
    }
   ],
   "source": [
    "from datetime import datetime\n",
    "h = HydroScraper(datetime(1988, 1, 1), datetime(2024, 1, 30), \"scan_09408150.json\", \"weather_asos_final\")"
   ]
  },
  {
   "cell_type": "code",
   "execution_count": null,
   "id": "99d631ba",
   "metadata": {},
   "outputs": [],
   "source": [
    "h.combine_data()"
   ]
  },
  {
   "cell_type": "code",
   "execution_count": null,
   "id": "7c1cd67b",
   "metadata": {},
   "outputs": [],
   "source": [
    "h.joined_df"
   ]
  },
  {
   "cell_type": "code",
   "execution_count": null,
   "id": "135a6148",
   "metadata": {},
   "outputs": [],
   "source": [
    "h.combine_snotel_with_df()"
   ]
  },
  {
   "cell_type": "code",
   "execution_count": null,
   "id": "6d7bceff",
   "metadata": {},
   "outputs": [],
   "source": [
    "h.final_df.to_csv(\"s11059300_89_24.csv\")"
   ]
  },
  {
   "cell_type": "code",
   "execution_count": null,
   "id": "590fe674",
   "metadata": {},
   "outputs": [],
   "source": [
    "import pandas as pd"
   ]
  },
  {
   "cell_type": "code",
   "execution_count": null,
   "id": "2a02f401",
   "metadata": {},
   "outputs": [],
   "source": [
    "!pwd"
   ]
  },
  {
   "cell_type": "code",
   "execution_count": null,
   "id": "5beed670",
   "metadata": {},
   "outputs": [],
   "source": [
    "sentinel_df = pd.read_csv(\"/Users/gisaac/Downloads/sent_data.csv\")"
   ]
  },
  {
   "cell_type": "code",
   "execution_count": null,
   "id": "a850f8a0",
   "metadata": {},
   "outputs": [],
   "source": [
    "h.combine_sentinel(sentinel_df)\n",
    "h.final_df"
   ]
  },
  {
   "cell_type": "code",
   "execution_count": null,
   "id": "580c9b66",
   "metadata": {},
   "outputs": [],
   "source": [
    "def combine_sentinel(final_df, sentinel_df, tile):\n",
    "    \"\"\" to combine the Sentinel data with the joined ASOS, USGS, and SNOTEL data.\n",
    "    \"\"\"\n",
    "    sentinel_df = sentinel_df[sentinel_df[\"mgrs_tile\"]==tile] \n",
    "    sentinel_df = sentinel_df[[\"sensing_time\", \"base_url\"]]\n",
    "    sentinel_df[\"SENSING_TIME\"] = pd.to_datetime(sentinel_df[\"sensing_time\"], utc=True, format='mixed').round('60min')\n",
    "    final_df =final_df.merge(sentinel_df, left_on=\"hour_updated\", right_on=\"SENSING_TIME\", how=\"left\")\n",
    "    return final_df\n",
    "\n",
    "fin_df = combine_sentinel(h.final_df, sentinel_df, \"11SMT\")\n",
    "fin_df"
   ]
  },
  {
   "cell_type": "code",
   "execution_count": null,
   "id": "831dc672",
   "metadata": {},
   "outputs": [],
   "source": [
    "fin_df.dropna(subset=[\"base_url\"])"
   ]
  },
  {
   "cell_type": "code",
   "execution_count": null,
   "id": "da4ae2c1",
   "metadata": {},
   "outputs": [],
   "source": [
    " sentinel_df_11 = sentinel_df[sentinel_df[\"mgrs_tile\"]==\"11SMT\"] "
   ]
  },
  {
   "cell_type": "code",
   "execution_count": null,
   "id": "b187a372",
   "metadata": {},
   "outputs": [],
   "source": [
    "sentinel_df_11"
   ]
  },
  {
   "cell_type": "code",
   "execution_count": null,
   "id": "53603c5e",
   "metadata": {},
   "outputs": [],
   "source": [
    "find = fin_df"
   ]
  },
  {
   "cell_type": "code",
   "execution_count": null,
   "id": "57b17e72",
   "metadata": {},
   "outputs": [],
   "source": [
    "find.to_csv(\"final_11059300.csv\")"
   ]
  },
  {
   "cell_type": "code",
   "execution_count": null,
   "id": "6af00113",
   "metadata": {},
   "outputs": [],
   "source": []
  }
 ],
 "metadata": {
  "kernelspec": {
   "display_name": "Python 3 (ipykernel)",
   "language": "python",
   "name": "python3"
  },
  "language_info": {
   "codemirror_mode": {
    "name": "ipython",
    "version": 3
   },
   "file_extension": ".py",
   "mimetype": "text/x-python",
   "name": "python",
   "nbconvert_exporter": "python",
   "pygments_lexer": "ipython3",
   "version": "3.11.5"
  }
 },
 "nbformat": 4,
 "nbformat_minor": 5
}
